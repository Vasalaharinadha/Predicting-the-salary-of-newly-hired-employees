{
 "cells": [
  {
   "cell_type": "code",
   "execution_count": 1,
   "id": "d5c0f1cb",
   "metadata": {},
   "outputs": [],
   "source": [
    "1.  The problem statement involves creating a machine learning model to predict the salaries of newly hired employees based on given data. This is a Linear regression problem, where the goal is to establish a relationship between input features (e.g., College,city , Role, etc.) and a continuous output variable (salary). The model can help the company streamline its hiring process, ensure fair compensation, and reduce manual effort in determining salaries. Additionally, the model should be regularly updated to adapt to changing market conditions and company policies. With a well-designed model, the company can make data-driven decisions and maintain a competitive edge in attracting top talent."
   ]
  },
  {
   "cell_type": "code",
   "execution_count": null,
   "id": "38c8b4a8",
   "metadata": {},
   "outputs": [],
   "source": [
    "2.To create a machine learning model that determines the salary of newly hired employees, I will follow a structured approach. First, I will preprocess the data by handling missing values, encoding categorical variables, and scaling/normalizing numerical features. Next, I will select relevant features that impact salary and create new ones through interaction terms or polynomial transformations to improve model performance. Then, I will train and evaluate multiple regression models, including Linear Regression, Decision Trees, Random Forest, Gradient Boosting, and Support Vector Machines (SVR), and tune hyperparameters using techniques like Grid Search or Random Search. After evaluating model performance using metrics like  Mean Squared Error (MSE), R-squared (R), and Coefficient of Determination (R adjusted), I will select the best-performing model and deploy it to predict salaries for newly hired employees. Finally, I will regularly update the model with new data to ensure accuracy and fairness, and continuously monitor model performance to retrain the model as needed."
   ]
  },
  {
   "cell_type": "code",
   "execution_count": null,
   "id": "7d07bca7",
   "metadata": {},
   "outputs": [],
   "source": [
    "3.I considered Linear Regression as a top contender for this task. Linear Regression and Logistic Regression is a widely used and interpretable model that establishes a linear relationship between features and the target variable (salary). Its a great starting point due to its simplicity and ease of implementation. Additionally, Linear Regression and Logistic Regression provides coefficients that indicate the impact of each feature on the predicted salary. However, it assumes a linear relationship between features and salary, which might not always hold true in real-world scenarios. Despite this, Linear Regression remains a strong baseline model for salary prediction."
   ]
  },
  {
   "cell_type": "code",
   "execution_count": null,
   "id": "c11893e2",
   "metadata": {},
   "outputs": [],
   "source": [
    "4.The Linear Regression model performs the best, with a high R-squared value (0.59) . This is because Linear Regression is well-suited for salary prediction, which tends to have a linear relationship with factors like experience and previous CTC. Additionally, Linear Regression is sensitive to feature correlations, and salary data often exhibits strong correlations between features. The models simplicity and interpretability also make it a great choice for this task. Overall, Linear Regressions strong performance is due to its ability to capture linear relationships and correlations in the data."
   ]
  },
  {
   "cell_type": "code",
   "execution_count": null,
   "id": "46f5cbce",
   "metadata": {},
   "outputs": [],
   "source": [
    "5.  * Feature Engineering: Create new features that capture non-linear relationships, interactions, or polynomial transformations of existing features.\n",
    "\n",
    "* Feature Selection: Select the most relevant features using techniques like recursive feature elimination or correlation analysis.\n",
    "\n",
    "* Regularization: Apply regularization techniques like Lasso or Ridge regression to reduce overfitting.\n",
    "\n",
    "*  Hyperparameter Tuning: Optimize hyperparameters like learning rate, batch size, or number of iterations.\n",
    "\n",
    "* Data Transformation: Transform skewed features using log, square root, or box-cox transformations.\n",
    "\n",
    "* Handling Outliers: Identify and handle outliers using techniques like winsorization or robust regression.\n",
    "\n",
    "* Ensemble Methods: Combine Linear Regression with other models using ensemble methods like stacking or bagging.\n",
    "\n",
    "* Cross-Validation: Use techniques like k-fold cross-validation to evaluate model performance and avoid overfitting.\n"
   ]
  },
  {
   "cell_type": "code",
   "execution_count": null,
   "id": "1eb3b3a9",
   "metadata": {},
   "outputs": [],
   "source": [
    "import numpy as np\n",
    "import pandas as  pd\n",
    "import seaborn as sns"
   ]
  },
  {
   "cell_type": "code",
   "execution_count": 2,
   "id": "2e4a370b",
   "metadata": {},
   "outputs": [],
   "source": [
    "df=pd.read_csv('C:\\\\Users\\\\vasala harinadha\\\\OneDrive\\\\Desktop\\\\machine_learning_case_study.csv' , header=0)\n"
   ]
  },
  {
   "cell_type": "code",
   "execution_count": 3,
   "id": "4be0aa07",
   "metadata": {},
   "outputs": [
    {
     "data": {
      "text/html": [
       "<div>\n",
       "<style scoped>\n",
       "    .dataframe tbody tr th:only-of-type {\n",
       "        vertical-align: middle;\n",
       "    }\n",
       "\n",
       "    .dataframe tbody tr th {\n",
       "        vertical-align: top;\n",
       "    }\n",
       "\n",
       "    .dataframe thead th {\n",
       "        text-align: right;\n",
       "    }\n",
       "</style>\n",
       "<table border=\"1\" class=\"dataframe\">\n",
       "  <thead>\n",
       "    <tr style=\"text-align: right;\">\n",
       "      <th></th>\n",
       "      <th>College</th>\n",
       "      <th>City</th>\n",
       "      <th>Role</th>\n",
       "      <th>Previous CTC</th>\n",
       "      <th>Previous job change</th>\n",
       "      <th>Graduation Marks</th>\n",
       "      <th>EXP (Month)</th>\n",
       "      <th>CTC</th>\n",
       "      <th>Unnamed: 8</th>\n",
       "      <th>Unnamed: 9</th>\n",
       "      <th>Unnamed: 10</th>\n",
       "    </tr>\n",
       "  </thead>\n",
       "  <tbody>\n",
       "    <tr>\n",
       "      <th>0</th>\n",
       "      <td>SVNIT Surat</td>\n",
       "      <td>Asansol</td>\n",
       "      <td>Manager</td>\n",
       "      <td>55523</td>\n",
       "      <td>3</td>\n",
       "      <td>66</td>\n",
       "      <td>19</td>\n",
       "      <td>71406.58</td>\n",
       "      <td>NaN</td>\n",
       "      <td>NaN</td>\n",
       "      <td>NaN</td>\n",
       "    </tr>\n",
       "    <tr>\n",
       "      <th>1</th>\n",
       "      <td>NIT Bhopal</td>\n",
       "      <td>Ajmer</td>\n",
       "      <td>Executive</td>\n",
       "      <td>57081</td>\n",
       "      <td>1</td>\n",
       "      <td>84</td>\n",
       "      <td>18</td>\n",
       "      <td>68005.87</td>\n",
       "      <td>NaN</td>\n",
       "      <td>NaN</td>\n",
       "      <td>NaN</td>\n",
       "    </tr>\n",
       "    <tr>\n",
       "      <th>2</th>\n",
       "      <td>IEM, Kolkata</td>\n",
       "      <td>Rajpur Sonarpur</td>\n",
       "      <td>Executive</td>\n",
       "      <td>60347</td>\n",
       "      <td>2</td>\n",
       "      <td>52</td>\n",
       "      <td>28</td>\n",
       "      <td>76764.02</td>\n",
       "      <td>NaN</td>\n",
       "      <td>NaN</td>\n",
       "      <td>_l</td>\n",
       "    </tr>\n",
       "    <tr>\n",
       "      <th>3</th>\n",
       "      <td>KIIT, Bhubaneswar</td>\n",
       "      <td>Ajmer</td>\n",
       "      <td>Executive</td>\n",
       "      <td>49010</td>\n",
       "      <td>2</td>\n",
       "      <td>81</td>\n",
       "      <td>33</td>\n",
       "      <td>82092.39</td>\n",
       "      <td>NaN</td>\n",
       "      <td>NaN</td>\n",
       "      <td>NaN</td>\n",
       "    </tr>\n",
       "    <tr>\n",
       "      <th>4</th>\n",
       "      <td>DTU</td>\n",
       "      <td>Durgapur</td>\n",
       "      <td>Executive</td>\n",
       "      <td>57879</td>\n",
       "      <td>4</td>\n",
       "      <td>74</td>\n",
       "      <td>32</td>\n",
       "      <td>73878.10</td>\n",
       "      <td>NaN</td>\n",
       "      <td>NaN</td>\n",
       "      <td>NaN</td>\n",
       "    </tr>\n",
       "    <tr>\n",
       "      <th>...</th>\n",
       "      <td>...</td>\n",
       "      <td>...</td>\n",
       "      <td>...</td>\n",
       "      <td>...</td>\n",
       "      <td>...</td>\n",
       "      <td>...</td>\n",
       "      <td>...</td>\n",
       "      <td>...</td>\n",
       "      <td>...</td>\n",
       "      <td>...</td>\n",
       "      <td>...</td>\n",
       "    </tr>\n",
       "    <tr>\n",
       "      <th>1584</th>\n",
       "      <td>BITS Pilani (Goa Campus)</td>\n",
       "      <td>Surat</td>\n",
       "      <td>Executive</td>\n",
       "      <td>61285</td>\n",
       "      <td>3</td>\n",
       "      <td>44</td>\n",
       "      <td>60</td>\n",
       "      <td>77283.59</td>\n",
       "      <td>NaN</td>\n",
       "      <td>NaN</td>\n",
       "      <td>NaN</td>\n",
       "    </tr>\n",
       "    <tr>\n",
       "      <th>1585</th>\n",
       "      <td>NIT Warangal</td>\n",
       "      <td>Rajpur Sonarpur</td>\n",
       "      <td>Executive</td>\n",
       "      <td>63140</td>\n",
       "      <td>1</td>\n",
       "      <td>44</td>\n",
       "      <td>24</td>\n",
       "      <td>68416.86</td>\n",
       "      <td>NaN</td>\n",
       "      <td>NaN</td>\n",
       "      <td>NaN</td>\n",
       "    </tr>\n",
       "    <tr>\n",
       "      <th>1586</th>\n",
       "      <td>NIT Tiruchipally (Trichy)</td>\n",
       "      <td>Ahmedabad</td>\n",
       "      <td>Executive</td>\n",
       "      <td>44907</td>\n",
       "      <td>1</td>\n",
       "      <td>60</td>\n",
       "      <td>19</td>\n",
       "      <td>70186.19</td>\n",
       "      <td>NaN</td>\n",
       "      <td>NaN</td>\n",
       "      <td>NaN</td>\n",
       "    </tr>\n",
       "    <tr>\n",
       "      <th>1587</th>\n",
       "      <td>IIIT Hyderabad</td>\n",
       "      <td>Durgapur</td>\n",
       "      <td>Executive</td>\n",
       "      <td>52054</td>\n",
       "      <td>2</td>\n",
       "      <td>67</td>\n",
       "      <td>29</td>\n",
       "      <td>73394.09</td>\n",
       "      <td>NaN</td>\n",
       "      <td>NaN</td>\n",
       "      <td>NaN</td>\n",
       "    </tr>\n",
       "    <tr>\n",
       "      <th>1588</th>\n",
       "      <td>R.V. College of Engineering</td>\n",
       "      <td>Delhi</td>\n",
       "      <td>Manager</td>\n",
       "      <td>44353</td>\n",
       "      <td>3</td>\n",
       "      <td>75</td>\n",
       "      <td>18</td>\n",
       "      <td>70056.31</td>\n",
       "      <td>NaN</td>\n",
       "      <td>NaN</td>\n",
       "      <td>NaN</td>\n",
       "    </tr>\n",
       "  </tbody>\n",
       "</table>\n",
       "<p>1589 rows × 11 columns</p>\n",
       "</div>"
      ],
      "text/plain": [
       "                          College             City       Role  Previous CTC  \\\n",
       "0                     SVNIT Surat          Asansol    Manager         55523   \n",
       "1                      NIT Bhopal            Ajmer  Executive         57081   \n",
       "2                    IEM, Kolkata  Rajpur Sonarpur  Executive         60347   \n",
       "3               KIIT, Bhubaneswar            Ajmer  Executive         49010   \n",
       "4                             DTU         Durgapur  Executive         57879   \n",
       "...                           ...              ...        ...           ...   \n",
       "1584     BITS Pilani (Goa Campus)            Surat  Executive         61285   \n",
       "1585                 NIT Warangal  Rajpur Sonarpur  Executive         63140   \n",
       "1586    NIT Tiruchipally (Trichy)        Ahmedabad  Executive         44907   \n",
       "1587               IIIT Hyderabad         Durgapur  Executive         52054   \n",
       "1588  R.V. College of Engineering            Delhi    Manager         44353   \n",
       "\n",
       "      Previous job change  Graduation Marks  EXP (Month)       CTC  \\\n",
       "0                       3                66           19  71406.58   \n",
       "1                       1                84           18  68005.87   \n",
       "2                       2                52           28  76764.02   \n",
       "3                       2                81           33  82092.39   \n",
       "4                       4                74           32  73878.10   \n",
       "...                   ...               ...          ...       ...   \n",
       "1584                    3                44           60  77283.59   \n",
       "1585                    1                44           24  68416.86   \n",
       "1586                    1                60           19  70186.19   \n",
       "1587                    2                67           29  73394.09   \n",
       "1588                    3                75           18  70056.31   \n",
       "\n",
       "      Unnamed: 8  Unnamed: 9 Unnamed: 10  \n",
       "0            NaN         NaN         NaN  \n",
       "1            NaN         NaN         NaN  \n",
       "2            NaN         NaN          _l  \n",
       "3            NaN         NaN         NaN  \n",
       "4            NaN         NaN         NaN  \n",
       "...          ...         ...         ...  \n",
       "1584         NaN         NaN         NaN  \n",
       "1585         NaN         NaN         NaN  \n",
       "1586         NaN         NaN         NaN  \n",
       "1587         NaN         NaN         NaN  \n",
       "1588         NaN         NaN         NaN  \n",
       "\n",
       "[1589 rows x 11 columns]"
      ]
     },
     "execution_count": 3,
     "metadata": {},
     "output_type": "execute_result"
    }
   ],
   "source": [
    "df"
   ]
  },
  {
   "cell_type": "code",
   "execution_count": 4,
   "id": "670628b2",
   "metadata": {},
   "outputs": [],
   "source": [
    "del df[\"Unnamed: 8\"]\n",
    "del df[\"Unnamed: 9\"]\n",
    "del df[\"Unnamed: 10\"]"
   ]
  },
  {
   "cell_type": "code",
   "execution_count": 5,
   "id": "eb658af8",
   "metadata": {},
   "outputs": [
    {
     "name": "stdout",
     "output_type": "stream",
     "text": [
      "<class 'pandas.core.frame.DataFrame'>\n",
      "RangeIndex: 1589 entries, 0 to 1588\n",
      "Data columns (total 8 columns):\n",
      " #   Column               Non-Null Count  Dtype  \n",
      "---  ------               --------------  -----  \n",
      " 0   College              1589 non-null   object \n",
      " 1   City                 1589 non-null   object \n",
      " 2   Role                 1589 non-null   object \n",
      " 3   Previous CTC         1589 non-null   int64  \n",
      " 4   Previous job change  1589 non-null   int64  \n",
      " 5   Graduation Marks     1589 non-null   int64  \n",
      " 6   EXP (Month)          1589 non-null   int64  \n",
      " 7   CTC                  1589 non-null   float64\n",
      "dtypes: float64(1), int64(4), object(3)\n",
      "memory usage: 99.4+ KB\n"
     ]
    }
   ],
   "source": [
    "df.info()"
   ]
  },
  {
   "cell_type": "code",
   "execution_count": 6,
   "id": "0a959bc2",
   "metadata": {},
   "outputs": [],
   "source": [
    "#var={\"metrocity\":[\"Mumbai\",\"Delhi\",\"Kolkata\",\"Chennai\",\"Banglore\",\"Hyderabad\",\"Ahmedabad\",\"Pune\",\"Surat\"],\n",
    "    #\"non_metro_cities \":[\"Dehradun\",\"Durgapur\",\"Asansol\",\"Rourkela\",\"Kozhikode\",\"Rajpur Sonarpur\",\"Kolhapur\",\"Ajmer\"]}"
   ]
  },
  {
   "cell_type": "code",
   "execution_count": 7,
   "id": "383f43f0",
   "metadata": {},
   "outputs": [],
   "source": [
    "df[\"City\"]=df[\"City\"].replace([\"Mumbai\",\"Delhi\",\"Kolkata\",\"Chennai\",\"Bangalore\",\"Hyderabad\",\"Ahmedabad\",\"Pune\",\"Surat\"],\"metrocity\")"
   ]
  },
  {
   "cell_type": "code",
   "execution_count": 8,
   "id": "5fa58e4e",
   "metadata": {},
   "outputs": [],
   "source": [
    "df[\"City\"]=df[\"City\"].replace([\"Dehradun\",\"Durgapur\",\"Asansol\",\"Rourkela\",\"Kozhikode\",\"Rajpur Sonarpur\",\"Kolhapur\",\"Ajmer\"],\"non_metro_cities\")"
   ]
  },
  {
   "cell_type": "code",
   "execution_count": 9,
   "id": "ae5fe1eb",
   "metadata": {},
   "outputs": [
    {
     "data": {
      "text/plain": [
       "0    non_metro_cities\n",
       "1    non_metro_cities\n",
       "2    non_metro_cities\n",
       "3    non_metro_cities\n",
       "4    non_metro_cities\n",
       "Name: City, dtype: object"
      ]
     },
     "execution_count": 9,
     "metadata": {},
     "output_type": "execute_result"
    }
   ],
   "source": [
    "df[\"City\"].head()"
   ]
  },
  {
   "cell_type": "code",
   "execution_count": 10,
   "id": "1e2aa92f",
   "metadata": {},
   "outputs": [],
   "source": [
    "#jk=[\"IIT Bombay\",\"IIT Delhi\",\"IIT Kharagpur\",\"IIT Madras\",\"IIT Kanpur\",\"IIT Roorkee\",\"IIT Guwahati\",\"IIIT Hyderabad\",\"BITS Pilani (Pilani Campus)\",\"IIT Indore\",\"IIT Ropar\",\"IIT BHU (Varanasi)\",\"IIT ISM Dhanbad\",\"DTU\",\"NSUT Delhi (NSIT)\",\"NIT Tiruchipally (Trichy)\",\"NIT Warangal\",\"NIT Surathkal (Karnataka)\",\"Jadavpur University\",\"BITS Pilani (Hyderabad Campus)\",\"BITS Pilani (Goa Campus)\",\"IIIT Allahabad\"]"
   ]
  },
  {
   "cell_type": "code",
   "execution_count": 11,
   "id": "184a32d0",
   "metadata": {},
   "outputs": [],
   "source": [
    "#jkk=[\"MNNIT Allahabad\",\"Punjab Engineering College\",\"DAIICT\",\"MNIT Jaipur\",\"NIT Durgapur\",\"VNIT Nagpur\",\"LNMIIT\",\"BIT Mesra\",\"SVNIT Surat\",\"NIT Jalandhar\",\"NIT Jamshedpur\",\"NIT Kurukshetra\",\"NIT Patna\",\"NIT Raipur\",\"NIT Bhopal\",\"NIT Rourkela\",\"NIT Silchar\",\"NIT Sikkim\",\"IIIT Jabalpur\",\"Jalpaiguri Government Engineering College\",\"IIEST/BESU Shibpur\",\"R.V. College of Engineering\"]"
   ]
  },
  {
   "cell_type": "code",
   "execution_count": 12,
   "id": "509447c7",
   "metadata": {},
   "outputs": [],
   "source": [
    "#jkkk=[\"Amity University\",\"BMS College, Bangalore\",\"PES University, Bangalore\",\"USIT, Delhi\",\"MAIT, Delhi\",\"MSIT, Delhi\",\"Dayanand College of Engineering, Bangalore\",\"Heritage Institute of Technology, Kolkata\",\"IEM, Kolkata\",\"Techno India, Kolkata\",\"Jaypee, Noida\",\"Amrita University, Coimbatore\",\"Cummins College of Engineering for Women, Pune\"]"
   ]
  },
  {
   "cell_type": "code",
   "execution_count": 13,
   "id": "152c6067",
   "metadata": {},
   "outputs": [],
   "source": [
    "df[\"College\"]=df[\"College\"].replace([\"IIT Bombay\",\"IIT Delhi\",\"IIT Kharagpur\",\"IIT Madras\",\"IIT Kanpur\",\"IIT Roorkee\",\"IIT Guwahati\",\"IIIT Hyderabad\",\"BITS Pilani (Pilani Campus)\",\"IIT Indore\",\"IIT Ropar\",\"IIT BHU (Varanasi)\",\"IIT ISM Dhanbad\",\"DTU\",\"NSUT Delhi (NSIT)\",\"NIT Tiruchipally (Trichy)\",\"NIT Warangal\",\"NIT Surathkal (Karnataka)\",\"Jadavpur University\",\"BITS Pilani (Hyderabad Campus)\",\"BITS Pilani (Goa Campus)\",\"IIIT Allahabad\"],\"Tier1\")"
   ]
  },
  {
   "cell_type": "code",
   "execution_count": 14,
   "id": "27ea8b48",
   "metadata": {},
   "outputs": [],
   "source": [
    "df[\"College\"]=df[\"College\"].replace([\"IIIT Bangalore\",\"IIIT Delhi\",\"IGDTUW\",\"NIT Calicut\",\"IIITM Gwalior\",\"IIIT Lucknow\",\"MNNIT Allahabad\",\"Punjab Engineering College\",\"DAIICT\",\"MNIT Jaipur\",\"NIT Durgapur\",\"VNIT Nagpur\",\"LNMIIT\",\"BIT Mesra\",\"SVNIT Surat\",\"NIT Jalandhar\",\"NIT Jamshedpur\",\"NIT Kurukshetra\",\"NIT Patna\",\"NIT Raipur\",\"NIT Bhopal\",\"NIT Rourkela\",\"NIT Silchar\",\"NIT Sikkim\",\"IIIT Jabalpur\",\"Jalpaiguri Government Engineering College\",\"IIEST/BESU Shibpur\",\"R.V. College of Engineering\"],\"tier2\")"
   ]
  },
  {
   "cell_type": "code",
   "execution_count": 15,
   "id": "ec11520f",
   "metadata": {},
   "outputs": [],
   "source": [
    " df[\"College\"]=df[\"College\"].replace([\"Ramaiah Institute of Technology, Bengaluru\",\"TIET/Thapar University\",\"Manipal Main Campus\",\"VIT Vellore\",\"SRM Main Campus\",\"KIIT, Bhubaneswar\",\"Amity University\",\"BMS College, Bangalore\",\"PES University, Bangalore\",\"USIT, Delhi\",\"MAIT, Delhi\",\"MSIT, Delhi\",\"Dayanand College of Engineering, Bangalore\",\"Heritage Institute of Technology, Kolkata\",\"IEM, Kolkata\",\"Techno India, Kolkata\",\"Jaypee, Noida\",\"Amrita University, Coimbatore\",\"Cummins College of Engineering for Women, Pune\"],\"tier3\")"
   ]
  },
  {
   "cell_type": "code",
   "execution_count": null,
   "id": "09b77200",
   "metadata": {},
   "outputs": [],
   "source": []
  },
  {
   "cell_type": "code",
   "execution_count": 16,
   "id": "6b4d9376",
   "metadata": {},
   "outputs": [
    {
     "data": {
      "text/html": [
       "<div>\n",
       "<style scoped>\n",
       "    .dataframe tbody tr th:only-of-type {\n",
       "        vertical-align: middle;\n",
       "    }\n",
       "\n",
       "    .dataframe tbody tr th {\n",
       "        vertical-align: top;\n",
       "    }\n",
       "\n",
       "    .dataframe thead th {\n",
       "        text-align: right;\n",
       "    }\n",
       "</style>\n",
       "<table border=\"1\" class=\"dataframe\">\n",
       "  <thead>\n",
       "    <tr style=\"text-align: right;\">\n",
       "      <th></th>\n",
       "      <th>College</th>\n",
       "      <th>City</th>\n",
       "      <th>Role</th>\n",
       "      <th>Previous CTC</th>\n",
       "      <th>Previous job change</th>\n",
       "      <th>Graduation Marks</th>\n",
       "      <th>EXP (Month)</th>\n",
       "      <th>CTC</th>\n",
       "    </tr>\n",
       "  </thead>\n",
       "  <tbody>\n",
       "    <tr>\n",
       "      <th>0</th>\n",
       "      <td>tier2</td>\n",
       "      <td>non_metro_cities</td>\n",
       "      <td>Manager</td>\n",
       "      <td>55523</td>\n",
       "      <td>3</td>\n",
       "      <td>66</td>\n",
       "      <td>19</td>\n",
       "      <td>71406.58</td>\n",
       "    </tr>\n",
       "    <tr>\n",
       "      <th>1</th>\n",
       "      <td>tier2</td>\n",
       "      <td>non_metro_cities</td>\n",
       "      <td>Executive</td>\n",
       "      <td>57081</td>\n",
       "      <td>1</td>\n",
       "      <td>84</td>\n",
       "      <td>18</td>\n",
       "      <td>68005.87</td>\n",
       "    </tr>\n",
       "    <tr>\n",
       "      <th>2</th>\n",
       "      <td>tier3</td>\n",
       "      <td>non_metro_cities</td>\n",
       "      <td>Executive</td>\n",
       "      <td>60347</td>\n",
       "      <td>2</td>\n",
       "      <td>52</td>\n",
       "      <td>28</td>\n",
       "      <td>76764.02</td>\n",
       "    </tr>\n",
       "    <tr>\n",
       "      <th>3</th>\n",
       "      <td>tier3</td>\n",
       "      <td>non_metro_cities</td>\n",
       "      <td>Executive</td>\n",
       "      <td>49010</td>\n",
       "      <td>2</td>\n",
       "      <td>81</td>\n",
       "      <td>33</td>\n",
       "      <td>82092.39</td>\n",
       "    </tr>\n",
       "    <tr>\n",
       "      <th>4</th>\n",
       "      <td>Tier1</td>\n",
       "      <td>non_metro_cities</td>\n",
       "      <td>Executive</td>\n",
       "      <td>57879</td>\n",
       "      <td>4</td>\n",
       "      <td>74</td>\n",
       "      <td>32</td>\n",
       "      <td>73878.10</td>\n",
       "    </tr>\n",
       "  </tbody>\n",
       "</table>\n",
       "</div>"
      ],
      "text/plain": [
       "  College              City       Role  Previous CTC  Previous job change  \\\n",
       "0   tier2  non_metro_cities    Manager         55523                    3   \n",
       "1   tier2  non_metro_cities  Executive         57081                    1   \n",
       "2   tier3  non_metro_cities  Executive         60347                    2   \n",
       "3   tier3  non_metro_cities  Executive         49010                    2   \n",
       "4   Tier1  non_metro_cities  Executive         57879                    4   \n",
       "\n",
       "   Graduation Marks  EXP (Month)       CTC  \n",
       "0                66           19  71406.58  \n",
       "1                84           18  68005.87  \n",
       "2                52           28  76764.02  \n",
       "3                81           33  82092.39  \n",
       "4                74           32  73878.10  "
      ]
     },
     "execution_count": 16,
     "metadata": {},
     "output_type": "execute_result"
    }
   ],
   "source": [
    "df.head()"
   ]
  },
  {
   "cell_type": "code",
   "execution_count": 17,
   "id": "94fa2685",
   "metadata": {},
   "outputs": [
    {
     "data": {
      "text/plain": [
       "<seaborn.axisgrid.JointGrid at 0x228d1d8d750>"
      ]
     },
     "execution_count": 17,
     "metadata": {},
     "output_type": "execute_result"
    },
    {
     "data": {
      "image/png": "[encoded data removed]",
      "text/plain": [
       "<Figure size 600x600 with 3 Axes>"
      ]
     },
     "metadata": {},
     "output_type": "display_data"
    }
   ],
   "source": [
    "sns.jointplot(x='College', y='CTC'    ,data=df)"
   ]
  },
  {
   "cell_type": "code",
   "execution_count": 18,
   "id": "ac03825d",
   "metadata": {},
   "outputs": [
    {
     "data": {
      "text/plain": [
       "<seaborn.axisgrid.JointGrid at 0x228d1d41dd0>"
      ]
     },
     "execution_count": 18,
     "metadata": {},
     "output_type": "execute_result"
    },
    {
     "data": {
      "image/png": "[encoded data removed]",
      "text/plain": [
       "<Figure size 600x600 with 3 Axes>"
      ]
     },
     "metadata": {},
     "output_type": "display_data"
    }
   ],
   "source": [
    "sns.jointplot(x='City', y='CTC'    ,data=df)"
   ]
  },
  {
   "cell_type": "code",
   "execution_count": 19,
   "id": "60d876e7",
   "metadata": {},
   "outputs": [
    {
     "data": {
      "text/plain": [
       "<seaborn.axisgrid.JointGrid at 0x228d43ce210>"
      ]
     },
     "execution_count": 19,
     "metadata": {},
     "output_type": "execute_result"
    },
    {
     "data": {
      "image/png": "[encoded data removed]",
      "text/plain": [
       "<Figure size 600x600 with 3 Axes>"
      ]
     },
     "metadata": {},
     "output_type": "display_data"
    }
   ],
   "source": [
    "sns.jointplot(x='Previous job change', y='CTC'    ,data=df)"
   ]
  },
  {
   "cell_type": "code",
   "execution_count": 20,
   "id": "968230a6",
   "metadata": {},
   "outputs": [
    {
     "data": {
      "text/plain": [
       "<seaborn.axisgrid.JointGrid at 0x228d497fa50>"
      ]
     },
     "execution_count": 20,
     "metadata": {},
     "output_type": "execute_result"
    },
    {
     "data": {
      "image/png": "[encoded data removed]",
      "text/plain": [
       "<Figure size 600x600 with 3 Axes>"
      ]
     },
     "metadata": {},
     "output_type": "display_data"
    }
   ],
   "source": [
    "sns.jointplot(x='EXP (Month)', y='CTC'    ,data=df)"
   ]
  },
  {
   "cell_type": "code",
   "execution_count": 21,
   "id": "ddaed0a0",
   "metadata": {},
   "outputs": [
    {
     "name": "stdout",
     "output_type": "stream",
     "text": [
      "<class 'pandas.core.frame.DataFrame'>\n",
      "RangeIndex: 1589 entries, 0 to 1588\n",
      "Data columns (total 8 columns):\n",
      " #   Column               Non-Null Count  Dtype  \n",
      "---  ------               --------------  -----  \n",
      " 0   College              1589 non-null   object \n",
      " 1   City                 1589 non-null   object \n",
      " 2   Role                 1589 non-null   object \n",
      " 3   Previous CTC         1589 non-null   int64  \n",
      " 4   Previous job change  1589 non-null   int64  \n",
      " 5   Graduation Marks     1589 non-null   int64  \n",
      " 6   EXP (Month)          1589 non-null   int64  \n",
      " 7   CTC                  1589 non-null   float64\n",
      "dtypes: float64(1), int64(4), object(3)\n",
      "memory usage: 99.4+ KB\n"
     ]
    }
   ],
   "source": [
    "df.info()"
   ]
  },
  {
   "cell_type": "code",
   "execution_count": 22,
   "id": "1400e50b",
   "metadata": {},
   "outputs": [],
   "source": [
    "df = pd.get_dummies(df).astype(int)"
   ]
  },
  {
   "cell_type": "code",
   "execution_count": 23,
   "id": "4105e7bd",
   "metadata": {},
   "outputs": [
    {
     "data": {
      "text/html": [
       "<div>\n",
       "<style scoped>\n",
       "    .dataframe tbody tr th:only-of-type {\n",
       "        vertical-align: middle;\n",
       "    }\n",
       "\n",
       "    .dataframe tbody tr th {\n",
       "        vertical-align: top;\n",
       "    }\n",
       "\n",
       "    .dataframe thead th {\n",
       "        text-align: right;\n",
       "    }\n",
       "</style>\n",
       "<table border=\"1\" class=\"dataframe\">\n",
       "  <thead>\n",
       "    <tr style=\"text-align: right;\">\n",
       "      <th></th>\n",
       "      <th>Previous CTC</th>\n",
       "      <th>Previous job change</th>\n",
       "      <th>Graduation Marks</th>\n",
       "      <th>EXP (Month)</th>\n",
       "      <th>CTC</th>\n",
       "      <th>College_Tier1</th>\n",
       "      <th>College_tier2</th>\n",
       "      <th>College_tier3</th>\n",
       "      <th>City_metrocity</th>\n",
       "      <th>City_non_metro_cities</th>\n",
       "      <th>Role_Executive</th>\n",
       "      <th>Role_Manager</th>\n",
       "    </tr>\n",
       "  </thead>\n",
       "  <tbody>\n",
       "    <tr>\n",
       "      <th>0</th>\n",
       "      <td>55523</td>\n",
       "      <td>3</td>\n",
       "      <td>66</td>\n",
       "      <td>19</td>\n",
       "      <td>71406</td>\n",
       "      <td>0</td>\n",
       "      <td>1</td>\n",
       "      <td>0</td>\n",
       "      <td>0</td>\n",
       "      <td>1</td>\n",
       "      <td>0</td>\n",
       "      <td>1</td>\n",
       "    </tr>\n",
       "    <tr>\n",
       "      <th>1</th>\n",
       "      <td>57081</td>\n",
       "      <td>1</td>\n",
       "      <td>84</td>\n",
       "      <td>18</td>\n",
       "      <td>68005</td>\n",
       "      <td>0</td>\n",
       "      <td>1</td>\n",
       "      <td>0</td>\n",
       "      <td>0</td>\n",
       "      <td>1</td>\n",
       "      <td>1</td>\n",
       "      <td>0</td>\n",
       "    </tr>\n",
       "    <tr>\n",
       "      <th>2</th>\n",
       "      <td>60347</td>\n",
       "      <td>2</td>\n",
       "      <td>52</td>\n",
       "      <td>28</td>\n",
       "      <td>76764</td>\n",
       "      <td>0</td>\n",
       "      <td>0</td>\n",
       "      <td>1</td>\n",
       "      <td>0</td>\n",
       "      <td>1</td>\n",
       "      <td>1</td>\n",
       "      <td>0</td>\n",
       "    </tr>\n",
       "    <tr>\n",
       "      <th>3</th>\n",
       "      <td>49010</td>\n",
       "      <td>2</td>\n",
       "      <td>81</td>\n",
       "      <td>33</td>\n",
       "      <td>82092</td>\n",
       "      <td>0</td>\n",
       "      <td>0</td>\n",
       "      <td>1</td>\n",
       "      <td>0</td>\n",
       "      <td>1</td>\n",
       "      <td>1</td>\n",
       "      <td>0</td>\n",
       "    </tr>\n",
       "    <tr>\n",
       "      <th>4</th>\n",
       "      <td>57879</td>\n",
       "      <td>4</td>\n",
       "      <td>74</td>\n",
       "      <td>32</td>\n",
       "      <td>73878</td>\n",
       "      <td>1</td>\n",
       "      <td>0</td>\n",
       "      <td>0</td>\n",
       "      <td>0</td>\n",
       "      <td>1</td>\n",
       "      <td>1</td>\n",
       "      <td>0</td>\n",
       "    </tr>\n",
       "    <tr>\n",
       "      <th>...</th>\n",
       "      <td>...</td>\n",
       "      <td>...</td>\n",
       "      <td>...</td>\n",
       "      <td>...</td>\n",
       "      <td>...</td>\n",
       "      <td>...</td>\n",
       "      <td>...</td>\n",
       "      <td>...</td>\n",
       "      <td>...</td>\n",
       "      <td>...</td>\n",
       "      <td>...</td>\n",
       "      <td>...</td>\n",
       "    </tr>\n",
       "    <tr>\n",
       "      <th>1584</th>\n",
       "      <td>61285</td>\n",
       "      <td>3</td>\n",
       "      <td>44</td>\n",
       "      <td>60</td>\n",
       "      <td>77283</td>\n",
       "      <td>1</td>\n",
       "      <td>0</td>\n",
       "      <td>0</td>\n",
       "      <td>1</td>\n",
       "      <td>0</td>\n",
       "      <td>1</td>\n",
       "      <td>0</td>\n",
       "    </tr>\n",
       "    <tr>\n",
       "      <th>1585</th>\n",
       "      <td>63140</td>\n",
       "      <td>1</td>\n",
       "      <td>44</td>\n",
       "      <td>24</td>\n",
       "      <td>68416</td>\n",
       "      <td>1</td>\n",
       "      <td>0</td>\n",
       "      <td>0</td>\n",
       "      <td>0</td>\n",
       "      <td>1</td>\n",
       "      <td>1</td>\n",
       "      <td>0</td>\n",
       "    </tr>\n",
       "    <tr>\n",
       "      <th>1586</th>\n",
       "      <td>44907</td>\n",
       "      <td>1</td>\n",
       "      <td>60</td>\n",
       "      <td>19</td>\n",
       "      <td>70186</td>\n",
       "      <td>1</td>\n",
       "      <td>0</td>\n",
       "      <td>0</td>\n",
       "      <td>1</td>\n",
       "      <td>0</td>\n",
       "      <td>1</td>\n",
       "      <td>0</td>\n",
       "    </tr>\n",
       "    <tr>\n",
       "      <th>1587</th>\n",
       "      <td>52054</td>\n",
       "      <td>2</td>\n",
       "      <td>67</td>\n",
       "      <td>29</td>\n",
       "      <td>73394</td>\n",
       "      <td>1</td>\n",
       "      <td>0</td>\n",
       "      <td>0</td>\n",
       "      <td>0</td>\n",
       "      <td>1</td>\n",
       "      <td>1</td>\n",
       "      <td>0</td>\n",
       "    </tr>\n",
       "    <tr>\n",
       "      <th>1588</th>\n",
       "      <td>44353</td>\n",
       "      <td>3</td>\n",
       "      <td>75</td>\n",
       "      <td>18</td>\n",
       "      <td>70056</td>\n",
       "      <td>0</td>\n",
       "      <td>1</td>\n",
       "      <td>0</td>\n",
       "      <td>1</td>\n",
       "      <td>0</td>\n",
       "      <td>0</td>\n",
       "      <td>1</td>\n",
       "    </tr>\n",
       "  </tbody>\n",
       "</table>\n",
       "<p>1589 rows × 12 columns</p>\n",
       "</div>"
      ],
      "text/plain": [
       "      Previous CTC  Previous job change  Graduation Marks  EXP (Month)    CTC  \\\n",
       "0            55523                    3                66           19  71406   \n",
       "1            57081                    1                84           18  68005   \n",
       "2            60347                    2                52           28  76764   \n",
       "3            49010                    2                81           33  82092   \n",
       "4            57879                    4                74           32  73878   \n",
       "...            ...                  ...               ...          ...    ...   \n",
       "1584         61285                    3                44           60  77283   \n",
       "1585         63140                    1                44           24  68416   \n",
       "1586         44907                    1                60           19  70186   \n",
       "1587         52054                    2                67           29  73394   \n",
       "1588         44353                    3                75           18  70056   \n",
       "\n",
       "      College_Tier1  College_tier2  College_tier3  City_metrocity  \\\n",
       "0                 0              1              0               0   \n",
       "1                 0              1              0               0   \n",
       "2                 0              0              1               0   \n",
       "3                 0              0              1               0   \n",
       "4                 1              0              0               0   \n",
       "...             ...            ...            ...             ...   \n",
       "1584              1              0              0               1   \n",
       "1585              1              0              0               0   \n",
       "1586              1              0              0               1   \n",
       "1587              1              0              0               0   \n",
       "1588              0              1              0               1   \n",
       "\n",
       "      City_non_metro_cities  Role_Executive  Role_Manager  \n",
       "0                         1               0             1  \n",
       "1                         1               1             0  \n",
       "2                         1               1             0  \n",
       "3                         1               1             0  \n",
       "4                         1               1             0  \n",
       "...                     ...             ...           ...  \n",
       "1584                      0               1             0  \n",
       "1585                      1               1             0  \n",
       "1586                      0               1             0  \n",
       "1587                      1               1             0  \n",
       "1588                      0               0             1  \n",
       "\n",
       "[1589 rows x 12 columns]"
      ]
     },
     "execution_count": 23,
     "metadata": {},
     "output_type": "execute_result"
    }
   ],
   "source": [
    "df"
   ]
  },
  {
   "cell_type": "markdown",
   "id": "f541310c",
   "metadata": {},
   "source": [
    "Removing Outliers\n"
   ]
  },
  {
   "cell_type": "code",
   "execution_count": 24,
   "id": "38639d26",
   "metadata": {},
   "outputs": [
    {
     "data": {
      "text/plain": [
       "4.0"
      ]
     },
     "execution_count": 24,
     "metadata": {},
     "output_type": "execute_result"
    }
   ],
   "source": [
    "\n",
    "p=npp = np.percentile(df['Previous job change'], [99])[0]\n",
    "p\n",
    "#df['Previous job change'][df['Previous job change']>3*p]=3*p\n"
   ]
  },
  {
   "cell_type": "code",
   "execution_count": 25,
   "id": "8b709623",
   "metadata": {},
   "outputs": [],
   "source": [
    "df['Previous job change'][df['Previous job change']>3*p]=3*p\n"
   ]
  },
  {
   "cell_type": "code",
   "execution_count": 26,
   "id": "7b8885ed",
   "metadata": {},
   "outputs": [],
   "source": [
    "p= np.percentile(df['EXP (Month)'], [1])[0]\n",
    "p\n",
    "df['EXP (Month)'][df['EXP (Month)']<3*p]=3*p\n"
   ]
  },
  {
   "cell_type": "code",
   "execution_count": 27,
   "id": "a6858ac0",
   "metadata": {},
   "outputs": [],
   "source": [
    "\n",
    "p= np.percentile(df['City_non_metro_cities'], [99])[0]\n",
    "p\n",
    "df['City_non_metro_cities'][df['City_non_metro_cities']>3*p]=3*p\n"
   ]
  },
  {
   "cell_type": "code",
   "execution_count": 28,
   "id": "83ebfb59",
   "metadata": {},
   "outputs": [
    {
     "data": {
      "text/html": [
       "<div>\n",
       "<style scoped>\n",
       "    .dataframe tbody tr th:only-of-type {\n",
       "        vertical-align: middle;\n",
       "    }\n",
       "\n",
       "    .dataframe tbody tr th {\n",
       "        vertical-align: top;\n",
       "    }\n",
       "\n",
       "    .dataframe thead th {\n",
       "        text-align: right;\n",
       "    }\n",
       "</style>\n",
       "<table border=\"1\" class=\"dataframe\">\n",
       "  <thead>\n",
       "    <tr style=\"text-align: right;\">\n",
       "      <th></th>\n",
       "      <th>Previous CTC</th>\n",
       "      <th>Previous job change</th>\n",
       "      <th>Graduation Marks</th>\n",
       "      <th>EXP (Month)</th>\n",
       "      <th>CTC</th>\n",
       "      <th>College_Tier1</th>\n",
       "      <th>College_tier2</th>\n",
       "      <th>College_tier3</th>\n",
       "      <th>City_metrocity</th>\n",
       "      <th>City_non_metro_cities</th>\n",
       "      <th>Role_Executive</th>\n",
       "      <th>Role_Manager</th>\n",
       "    </tr>\n",
       "  </thead>\n",
       "  <tbody>\n",
       "    <tr>\n",
       "      <th>Previous CTC</th>\n",
       "      <td>1.000000</td>\n",
       "      <td>0.005756</td>\n",
       "      <td>-0.032976</td>\n",
       "      <td>0.065770</td>\n",
       "      <td>0.257998</td>\n",
       "      <td>-0.031366</td>\n",
       "      <td>-0.010947</td>\n",
       "      <td>0.042438</td>\n",
       "      <td>0.004644</td>\n",
       "      <td>-0.004644</td>\n",
       "      <td>-0.012321</td>\n",
       "      <td>0.012321</td>\n",
       "    </tr>\n",
       "    <tr>\n",
       "      <th>Previous job change</th>\n",
       "      <td>0.005756</td>\n",
       "      <td>1.000000</td>\n",
       "      <td>0.019267</td>\n",
       "      <td>0.025550</td>\n",
       "      <td>0.011370</td>\n",
       "      <td>0.045931</td>\n",
       "      <td>0.004271</td>\n",
       "      <td>-0.050794</td>\n",
       "      <td>0.051670</td>\n",
       "      <td>-0.051670</td>\n",
       "      <td>0.017150</td>\n",
       "      <td>-0.017150</td>\n",
       "    </tr>\n",
       "    <tr>\n",
       "      <th>Graduation Marks</th>\n",
       "      <td>-0.032976</td>\n",
       "      <td>0.019267</td>\n",
       "      <td>1.000000</td>\n",
       "      <td>-0.018770</td>\n",
       "      <td>-0.005449</td>\n",
       "      <td>0.005666</td>\n",
       "      <td>-0.018419</td>\n",
       "      <td>0.012021</td>\n",
       "      <td>-0.018616</td>\n",
       "      <td>0.018616</td>\n",
       "      <td>-0.017858</td>\n",
       "      <td>0.017858</td>\n",
       "    </tr>\n",
       "    <tr>\n",
       "      <th>EXP (Month)</th>\n",
       "      <td>0.065770</td>\n",
       "      <td>0.025550</td>\n",
       "      <td>-0.018770</td>\n",
       "      <td>1.000000</td>\n",
       "      <td>0.221017</td>\n",
       "      <td>0.017638</td>\n",
       "      <td>-0.056679</td>\n",
       "      <td>0.036783</td>\n",
       "      <td>-0.020726</td>\n",
       "      <td>0.020726</td>\n",
       "      <td>-0.011476</td>\n",
       "      <td>0.011476</td>\n",
       "    </tr>\n",
       "    <tr>\n",
       "      <th>CTC</th>\n",
       "      <td>0.257998</td>\n",
       "      <td>0.011370</td>\n",
       "      <td>-0.005449</td>\n",
       "      <td>0.221017</td>\n",
       "      <td>1.000000</td>\n",
       "      <td>0.019912</td>\n",
       "      <td>0.012347</td>\n",
       "      <td>-0.032150</td>\n",
       "      <td>-0.020365</td>\n",
       "      <td>0.020365</td>\n",
       "      <td>-0.621310</td>\n",
       "      <td>0.621310</td>\n",
       "    </tr>\n",
       "    <tr>\n",
       "      <th>College_Tier1</th>\n",
       "      <td>-0.031366</td>\n",
       "      <td>0.045931</td>\n",
       "      <td>0.005666</td>\n",
       "      <td>0.017638</td>\n",
       "      <td>0.019912</td>\n",
       "      <td>1.000000</td>\n",
       "      <td>-0.491510</td>\n",
       "      <td>-0.541736</td>\n",
       "      <td>0.002135</td>\n",
       "      <td>-0.002135</td>\n",
       "      <td>-0.015158</td>\n",
       "      <td>0.015158</td>\n",
       "    </tr>\n",
       "    <tr>\n",
       "      <th>College_tier2</th>\n",
       "      <td>-0.010947</td>\n",
       "      <td>0.004271</td>\n",
       "      <td>-0.018419</td>\n",
       "      <td>-0.056679</td>\n",
       "      <td>0.012347</td>\n",
       "      <td>-0.491510</td>\n",
       "      <td>1.000000</td>\n",
       "      <td>-0.465741</td>\n",
       "      <td>0.022917</td>\n",
       "      <td>-0.022917</td>\n",
       "      <td>0.004865</td>\n",
       "      <td>-0.004865</td>\n",
       "    </tr>\n",
       "    <tr>\n",
       "      <th>College_tier3</th>\n",
       "      <td>0.042438</td>\n",
       "      <td>-0.050794</td>\n",
       "      <td>0.012021</td>\n",
       "      <td>0.036783</td>\n",
       "      <td>-0.032150</td>\n",
       "      <td>-0.541736</td>\n",
       "      <td>-0.465741</td>\n",
       "      <td>1.000000</td>\n",
       "      <td>-0.024288</td>\n",
       "      <td>0.024288</td>\n",
       "      <td>0.010706</td>\n",
       "      <td>-0.010706</td>\n",
       "    </tr>\n",
       "    <tr>\n",
       "      <th>City_metrocity</th>\n",
       "      <td>0.004644</td>\n",
       "      <td>0.051670</td>\n",
       "      <td>-0.018616</td>\n",
       "      <td>-0.020726</td>\n",
       "      <td>-0.020365</td>\n",
       "      <td>0.002135</td>\n",
       "      <td>0.022917</td>\n",
       "      <td>-0.024288</td>\n",
       "      <td>1.000000</td>\n",
       "      <td>-1.000000</td>\n",
       "      <td>0.048671</td>\n",
       "      <td>-0.048671</td>\n",
       "    </tr>\n",
       "    <tr>\n",
       "      <th>City_non_metro_cities</th>\n",
       "      <td>-0.004644</td>\n",
       "      <td>-0.051670</td>\n",
       "      <td>0.018616</td>\n",
       "      <td>0.020726</td>\n",
       "      <td>0.020365</td>\n",
       "      <td>-0.002135</td>\n",
       "      <td>-0.022917</td>\n",
       "      <td>0.024288</td>\n",
       "      <td>-1.000000</td>\n",
       "      <td>1.000000</td>\n",
       "      <td>-0.048671</td>\n",
       "      <td>0.048671</td>\n",
       "    </tr>\n",
       "    <tr>\n",
       "      <th>Role_Executive</th>\n",
       "      <td>-0.012321</td>\n",
       "      <td>0.017150</td>\n",
       "      <td>-0.017858</td>\n",
       "      <td>-0.011476</td>\n",
       "      <td>-0.621310</td>\n",
       "      <td>-0.015158</td>\n",
       "      <td>0.004865</td>\n",
       "      <td>0.010706</td>\n",
       "      <td>0.048671</td>\n",
       "      <td>-0.048671</td>\n",
       "      <td>1.000000</td>\n",
       "      <td>-1.000000</td>\n",
       "    </tr>\n",
       "    <tr>\n",
       "      <th>Role_Manager</th>\n",
       "      <td>0.012321</td>\n",
       "      <td>-0.017150</td>\n",
       "      <td>0.017858</td>\n",
       "      <td>0.011476</td>\n",
       "      <td>0.621310</td>\n",
       "      <td>0.015158</td>\n",
       "      <td>-0.004865</td>\n",
       "      <td>-0.010706</td>\n",
       "      <td>-0.048671</td>\n",
       "      <td>0.048671</td>\n",
       "      <td>-1.000000</td>\n",
       "      <td>1.000000</td>\n",
       "    </tr>\n",
       "  </tbody>\n",
       "</table>\n",
       "</div>"
      ],
      "text/plain": [
       "                       Previous CTC  Previous job change  Graduation Marks  \\\n",
       "Previous CTC               1.000000             0.005756         -0.032976   \n",
       "Previous job change        0.005756             1.000000          0.019267   \n",
       "Graduation Marks          -0.032976             0.019267          1.000000   \n",
       "EXP (Month)                0.065770             0.025550         -0.018770   \n",
       "CTC                        0.257998             0.011370         -0.005449   \n",
       "College_Tier1             -0.031366             0.045931          0.005666   \n",
       "College_tier2             -0.010947             0.004271         -0.018419   \n",
       "College_tier3              0.042438            -0.050794          0.012021   \n",
       "City_metrocity             0.004644             0.051670         -0.018616   \n",
       "City_non_metro_cities     -0.004644            -0.051670          0.018616   \n",
       "Role_Executive            -0.012321             0.017150         -0.017858   \n",
       "Role_Manager               0.012321            -0.017150          0.017858   \n",
       "\n",
       "                       EXP (Month)       CTC  College_Tier1  College_tier2  \\\n",
       "Previous CTC              0.065770  0.257998      -0.031366      -0.010947   \n",
       "Previous job change       0.025550  0.011370       0.045931       0.004271   \n",
       "Graduation Marks         -0.018770 -0.005449       0.005666      -0.018419   \n",
       "EXP (Month)               1.000000  0.221017       0.017638      -0.056679   \n",
       "CTC                       0.221017  1.000000       0.019912       0.012347   \n",
       "College_Tier1             0.017638  0.019912       1.000000      -0.491510   \n",
       "College_tier2            -0.056679  0.012347      -0.491510       1.000000   \n",
       "College_tier3             0.036783 -0.032150      -0.541736      -0.465741   \n",
       "City_metrocity           -0.020726 -0.020365       0.002135       0.022917   \n",
       "City_non_metro_cities     0.020726  0.020365      -0.002135      -0.022917   \n",
       "Role_Executive           -0.011476 -0.621310      -0.015158       0.004865   \n",
       "Role_Manager              0.011476  0.621310       0.015158      -0.004865   \n",
       "\n",
       "                       College_tier3  City_metrocity  City_non_metro_cities  \\\n",
       "Previous CTC                0.042438        0.004644              -0.004644   \n",
       "Previous job change        -0.050794        0.051670              -0.051670   \n",
       "Graduation Marks            0.012021       -0.018616               0.018616   \n",
       "EXP (Month)                 0.036783       -0.020726               0.020726   \n",
       "CTC                        -0.032150       -0.020365               0.020365   \n",
       "College_Tier1              -0.541736        0.002135              -0.002135   \n",
       "College_tier2              -0.465741        0.022917              -0.022917   \n",
       "College_tier3               1.000000       -0.024288               0.024288   \n",
       "City_metrocity             -0.024288        1.000000              -1.000000   \n",
       "City_non_metro_cities       0.024288       -1.000000               1.000000   \n",
       "Role_Executive              0.010706        0.048671              -0.048671   \n",
       "Role_Manager               -0.010706       -0.048671               0.048671   \n",
       "\n",
       "                       Role_Executive  Role_Manager  \n",
       "Previous CTC                -0.012321      0.012321  \n",
       "Previous job change          0.017150     -0.017150  \n",
       "Graduation Marks            -0.017858      0.017858  \n",
       "EXP (Month)                 -0.011476      0.011476  \n",
       "CTC                         -0.621310      0.621310  \n",
       "College_Tier1               -0.015158      0.015158  \n",
       "College_tier2                0.004865     -0.004865  \n",
       "College_tier3                0.010706     -0.010706  \n",
       "City_metrocity               0.048671     -0.048671  \n",
       "City_non_metro_cities       -0.048671      0.048671  \n",
       "Role_Executive               1.000000     -1.000000  \n",
       "Role_Manager                -1.000000      1.000000  "
      ]
     },
     "execution_count": 28,
     "metadata": {},
     "output_type": "execute_result"
    }
   ],
   "source": [
    "df.corr()"
   ]
  },
  {
   "cell_type": "code",
   "execution_count": 29,
   "id": "c1c0ef2b",
   "metadata": {},
   "outputs": [],
   "source": [
    "# I feel that there is less Correlation between the variables"
   ]
  },
  {
   "cell_type": "code",
   "execution_count": 30,
   "id": "5d3389ca",
   "metadata": {},
   "outputs": [
    {
     "data": {
      "text/html": [
       "<div>\n",
       "<style scoped>\n",
       "    .dataframe tbody tr th:only-of-type {\n",
       "        vertical-align: middle;\n",
       "    }\n",
       "\n",
       "    .dataframe tbody tr th {\n",
       "        vertical-align: top;\n",
       "    }\n",
       "\n",
       "    .dataframe thead th {\n",
       "        text-align: right;\n",
       "    }\n",
       "</style>\n",
       "<table border=\"1\" class=\"dataframe\">\n",
       "  <thead>\n",
       "    <tr style=\"text-align: right;\">\n",
       "      <th></th>\n",
       "      <th>Previous CTC</th>\n",
       "      <th>Previous job change</th>\n",
       "      <th>Graduation Marks</th>\n",
       "      <th>EXP (Month)</th>\n",
       "      <th>CTC</th>\n",
       "      <th>College_Tier1</th>\n",
       "      <th>College_tier2</th>\n",
       "      <th>College_tier3</th>\n",
       "      <th>City_metrocity</th>\n",
       "      <th>City_non_metro_cities</th>\n",
       "      <th>Role_Executive</th>\n",
       "      <th>Role_Manager</th>\n",
       "    </tr>\n",
       "  </thead>\n",
       "  <tbody>\n",
       "    <tr>\n",
       "      <th>Previous CTC</th>\n",
       "      <td>1.000000</td>\n",
       "      <td>0.005756</td>\n",
       "      <td>-0.032976</td>\n",
       "      <td>0.065770</td>\n",
       "      <td>0.257998</td>\n",
       "      <td>-0.031366</td>\n",
       "      <td>-0.010947</td>\n",
       "      <td>0.042438</td>\n",
       "      <td>0.004644</td>\n",
       "      <td>-0.004644</td>\n",
       "      <td>-0.012321</td>\n",
       "      <td>0.012321</td>\n",
       "    </tr>\n",
       "    <tr>\n",
       "      <th>Previous job change</th>\n",
       "      <td>0.005756</td>\n",
       "      <td>1.000000</td>\n",
       "      <td>0.019267</td>\n",
       "      <td>0.025550</td>\n",
       "      <td>0.011370</td>\n",
       "      <td>0.045931</td>\n",
       "      <td>0.004271</td>\n",
       "      <td>-0.050794</td>\n",
       "      <td>0.051670</td>\n",
       "      <td>-0.051670</td>\n",
       "      <td>0.017150</td>\n",
       "      <td>-0.017150</td>\n",
       "    </tr>\n",
       "    <tr>\n",
       "      <th>Graduation Marks</th>\n",
       "      <td>-0.032976</td>\n",
       "      <td>0.019267</td>\n",
       "      <td>1.000000</td>\n",
       "      <td>-0.018770</td>\n",
       "      <td>-0.005449</td>\n",
       "      <td>0.005666</td>\n",
       "      <td>-0.018419</td>\n",
       "      <td>0.012021</td>\n",
       "      <td>-0.018616</td>\n",
       "      <td>0.018616</td>\n",
       "      <td>-0.017858</td>\n",
       "      <td>0.017858</td>\n",
       "    </tr>\n",
       "    <tr>\n",
       "      <th>EXP (Month)</th>\n",
       "      <td>0.065770</td>\n",
       "      <td>0.025550</td>\n",
       "      <td>-0.018770</td>\n",
       "      <td>1.000000</td>\n",
       "      <td>0.221017</td>\n",
       "      <td>0.017638</td>\n",
       "      <td>-0.056679</td>\n",
       "      <td>0.036783</td>\n",
       "      <td>-0.020726</td>\n",
       "      <td>0.020726</td>\n",
       "      <td>-0.011476</td>\n",
       "      <td>0.011476</td>\n",
       "    </tr>\n",
       "    <tr>\n",
       "      <th>CTC</th>\n",
       "      <td>0.257998</td>\n",
       "      <td>0.011370</td>\n",
       "      <td>-0.005449</td>\n",
       "      <td>0.221017</td>\n",
       "      <td>1.000000</td>\n",
       "      <td>0.019912</td>\n",
       "      <td>0.012347</td>\n",
       "      <td>-0.032150</td>\n",
       "      <td>-0.020365</td>\n",
       "      <td>0.020365</td>\n",
       "      <td>-0.621310</td>\n",
       "      <td>0.621310</td>\n",
       "    </tr>\n",
       "    <tr>\n",
       "      <th>College_Tier1</th>\n",
       "      <td>-0.031366</td>\n",
       "      <td>0.045931</td>\n",
       "      <td>0.005666</td>\n",
       "      <td>0.017638</td>\n",
       "      <td>0.019912</td>\n",
       "      <td>1.000000</td>\n",
       "      <td>-0.491510</td>\n",
       "      <td>-0.541736</td>\n",
       "      <td>0.002135</td>\n",
       "      <td>-0.002135</td>\n",
       "      <td>-0.015158</td>\n",
       "      <td>0.015158</td>\n",
       "    </tr>\n",
       "    <tr>\n",
       "      <th>College_tier2</th>\n",
       "      <td>-0.010947</td>\n",
       "      <td>0.004271</td>\n",
       "      <td>-0.018419</td>\n",
       "      <td>-0.056679</td>\n",
       "      <td>0.012347</td>\n",
       "      <td>-0.491510</td>\n",
       "      <td>1.000000</td>\n",
       "      <td>-0.465741</td>\n",
       "      <td>0.022917</td>\n",
       "      <td>-0.022917</td>\n",
       "      <td>0.004865</td>\n",
       "      <td>-0.004865</td>\n",
       "    </tr>\n",
       "    <tr>\n",
       "      <th>College_tier3</th>\n",
       "      <td>0.042438</td>\n",
       "      <td>-0.050794</td>\n",
       "      <td>0.012021</td>\n",
       "      <td>0.036783</td>\n",
       "      <td>-0.032150</td>\n",
       "      <td>-0.541736</td>\n",
       "      <td>-0.465741</td>\n",
       "      <td>1.000000</td>\n",
       "      <td>-0.024288</td>\n",
       "      <td>0.024288</td>\n",
       "      <td>0.010706</td>\n",
       "      <td>-0.010706</td>\n",
       "    </tr>\n",
       "    <tr>\n",
       "      <th>City_metrocity</th>\n",
       "      <td>0.004644</td>\n",
       "      <td>0.051670</td>\n",
       "      <td>-0.018616</td>\n",
       "      <td>-0.020726</td>\n",
       "      <td>-0.020365</td>\n",
       "      <td>0.002135</td>\n",
       "      <td>0.022917</td>\n",
       "      <td>-0.024288</td>\n",
       "      <td>1.000000</td>\n",
       "      <td>-1.000000</td>\n",
       "      <td>0.048671</td>\n",
       "      <td>-0.048671</td>\n",
       "    </tr>\n",
       "    <tr>\n",
       "      <th>City_non_metro_cities</th>\n",
       "      <td>-0.004644</td>\n",
       "      <td>-0.051670</td>\n",
       "      <td>0.018616</td>\n",
       "      <td>0.020726</td>\n",
       "      <td>0.020365</td>\n",
       "      <td>-0.002135</td>\n",
       "      <td>-0.022917</td>\n",
       "      <td>0.024288</td>\n",
       "      <td>-1.000000</td>\n",
       "      <td>1.000000</td>\n",
       "      <td>-0.048671</td>\n",
       "      <td>0.048671</td>\n",
       "    </tr>\n",
       "    <tr>\n",
       "      <th>Role_Executive</th>\n",
       "      <td>-0.012321</td>\n",
       "      <td>0.017150</td>\n",
       "      <td>-0.017858</td>\n",
       "      <td>-0.011476</td>\n",
       "      <td>-0.621310</td>\n",
       "      <td>-0.015158</td>\n",
       "      <td>0.004865</td>\n",
       "      <td>0.010706</td>\n",
       "      <td>0.048671</td>\n",
       "      <td>-0.048671</td>\n",
       "      <td>1.000000</td>\n",
       "      <td>-1.000000</td>\n",
       "    </tr>\n",
       "    <tr>\n",
       "      <th>Role_Manager</th>\n",
       "      <td>0.012321</td>\n",
       "      <td>-0.017150</td>\n",
       "      <td>0.017858</td>\n",
       "      <td>0.011476</td>\n",
       "      <td>0.621310</td>\n",
       "      <td>0.015158</td>\n",
       "      <td>-0.004865</td>\n",
       "      <td>-0.010706</td>\n",
       "      <td>-0.048671</td>\n",
       "      <td>0.048671</td>\n",
       "      <td>-1.000000</td>\n",
       "      <td>1.000000</td>\n",
       "    </tr>\n",
       "  </tbody>\n",
       "</table>\n",
       "</div>"
      ],
      "text/plain": [
       "                       Previous CTC  Previous job change  Graduation Marks  \\\n",
       "Previous CTC               1.000000             0.005756         -0.032976   \n",
       "Previous job change        0.005756             1.000000          0.019267   \n",
       "Graduation Marks          -0.032976             0.019267          1.000000   \n",
       "EXP (Month)                0.065770             0.025550         -0.018770   \n",
       "CTC                        0.257998             0.011370         -0.005449   \n",
       "College_Tier1             -0.031366             0.045931          0.005666   \n",
       "College_tier2             -0.010947             0.004271         -0.018419   \n",
       "College_tier3              0.042438            -0.050794          0.012021   \n",
       "City_metrocity             0.004644             0.051670         -0.018616   \n",
       "City_non_metro_cities     -0.004644            -0.051670          0.018616   \n",
       "Role_Executive            -0.012321             0.017150         -0.017858   \n",
       "Role_Manager               0.012321            -0.017150          0.017858   \n",
       "\n",
       "                       EXP (Month)       CTC  College_Tier1  College_tier2  \\\n",
       "Previous CTC              0.065770  0.257998      -0.031366      -0.010947   \n",
       "Previous job change       0.025550  0.011370       0.045931       0.004271   \n",
       "Graduation Marks         -0.018770 -0.005449       0.005666      -0.018419   \n",
       "EXP (Month)               1.000000  0.221017       0.017638      -0.056679   \n",
       "CTC                       0.221017  1.000000       0.019912       0.012347   \n",
       "College_Tier1             0.017638  0.019912       1.000000      -0.491510   \n",
       "College_tier2            -0.056679  0.012347      -0.491510       1.000000   \n",
       "College_tier3             0.036783 -0.032150      -0.541736      -0.465741   \n",
       "City_metrocity           -0.020726 -0.020365       0.002135       0.022917   \n",
       "City_non_metro_cities     0.020726  0.020365      -0.002135      -0.022917   \n",
       "Role_Executive           -0.011476 -0.621310      -0.015158       0.004865   \n",
       "Role_Manager              0.011476  0.621310       0.015158      -0.004865   \n",
       "\n",
       "                       College_tier3  City_metrocity  City_non_metro_cities  \\\n",
       "Previous CTC                0.042438        0.004644              -0.004644   \n",
       "Previous job change        -0.050794        0.051670              -0.051670   \n",
       "Graduation Marks            0.012021       -0.018616               0.018616   \n",
       "EXP (Month)                 0.036783       -0.020726               0.020726   \n",
       "CTC                        -0.032150       -0.020365               0.020365   \n",
       "College_Tier1              -0.541736        0.002135              -0.002135   \n",
       "College_tier2              -0.465741        0.022917              -0.022917   \n",
       "College_tier3               1.000000       -0.024288               0.024288   \n",
       "City_metrocity             -0.024288        1.000000              -1.000000   \n",
       "City_non_metro_cities       0.024288       -1.000000               1.000000   \n",
       "Role_Executive              0.010706        0.048671              -0.048671   \n",
       "Role_Manager               -0.010706       -0.048671               0.048671   \n",
       "\n",
       "                       Role_Executive  Role_Manager  \n",
       "Previous CTC                -0.012321      0.012321  \n",
       "Previous job change          0.017150     -0.017150  \n",
       "Graduation Marks            -0.017858      0.017858  \n",
       "EXP (Month)                 -0.011476      0.011476  \n",
       "CTC                         -0.621310      0.621310  \n",
       "College_Tier1               -0.015158      0.015158  \n",
       "College_tier2                0.004865     -0.004865  \n",
       "College_tier3                0.010706     -0.010706  \n",
       "City_metrocity               0.048671     -0.048671  \n",
       "City_non_metro_cities       -0.048671      0.048671  \n",
       "Role_Executive               1.000000     -1.000000  \n",
       "Role_Manager                -1.000000      1.000000  "
      ]
     },
     "execution_count": 30,
     "metadata": {},
     "output_type": "execute_result"
    }
   ],
   "source": [
    "df.corr()"
   ]
  },
  {
   "cell_type": "code",
   "execution_count": 31,
   "id": "15ca8f64",
   "metadata": {},
   "outputs": [
    {
     "data": {
      "text/html": [
       "<div>\n",
       "<style scoped>\n",
       "    .dataframe tbody tr th:only-of-type {\n",
       "        vertical-align: middle;\n",
       "    }\n",
       "\n",
       "    .dataframe tbody tr th {\n",
       "        vertical-align: top;\n",
       "    }\n",
       "\n",
       "    .dataframe thead th {\n",
       "        text-align: right;\n",
       "    }\n",
       "</style>\n",
       "<table border=\"1\" class=\"dataframe\">\n",
       "  <thead>\n",
       "    <tr style=\"text-align: right;\">\n",
       "      <th></th>\n",
       "      <th>Previous CTC</th>\n",
       "      <th>Previous job change</th>\n",
       "      <th>Graduation Marks</th>\n",
       "      <th>EXP (Month)</th>\n",
       "      <th>CTC</th>\n",
       "      <th>College_Tier1</th>\n",
       "      <th>College_tier2</th>\n",
       "      <th>College_tier3</th>\n",
       "      <th>City_metrocity</th>\n",
       "      <th>City_non_metro_cities</th>\n",
       "      <th>Role_Executive</th>\n",
       "      <th>Role_Manager</th>\n",
       "    </tr>\n",
       "  </thead>\n",
       "  <tbody>\n",
       "    <tr>\n",
       "      <th>0</th>\n",
       "      <td>55523</td>\n",
       "      <td>3</td>\n",
       "      <td>66</td>\n",
       "      <td>54</td>\n",
       "      <td>71406</td>\n",
       "      <td>0</td>\n",
       "      <td>1</td>\n",
       "      <td>0</td>\n",
       "      <td>0</td>\n",
       "      <td>1</td>\n",
       "      <td>0</td>\n",
       "      <td>1</td>\n",
       "    </tr>\n",
       "    <tr>\n",
       "      <th>1</th>\n",
       "      <td>57081</td>\n",
       "      <td>1</td>\n",
       "      <td>84</td>\n",
       "      <td>54</td>\n",
       "      <td>68005</td>\n",
       "      <td>0</td>\n",
       "      <td>1</td>\n",
       "      <td>0</td>\n",
       "      <td>0</td>\n",
       "      <td>1</td>\n",
       "      <td>1</td>\n",
       "      <td>0</td>\n",
       "    </tr>\n",
       "    <tr>\n",
       "      <th>2</th>\n",
       "      <td>60347</td>\n",
       "      <td>2</td>\n",
       "      <td>52</td>\n",
       "      <td>54</td>\n",
       "      <td>76764</td>\n",
       "      <td>0</td>\n",
       "      <td>0</td>\n",
       "      <td>1</td>\n",
       "      <td>0</td>\n",
       "      <td>1</td>\n",
       "      <td>1</td>\n",
       "      <td>0</td>\n",
       "    </tr>\n",
       "    <tr>\n",
       "      <th>3</th>\n",
       "      <td>49010</td>\n",
       "      <td>2</td>\n",
       "      <td>81</td>\n",
       "      <td>54</td>\n",
       "      <td>82092</td>\n",
       "      <td>0</td>\n",
       "      <td>0</td>\n",
       "      <td>1</td>\n",
       "      <td>0</td>\n",
       "      <td>1</td>\n",
       "      <td>1</td>\n",
       "      <td>0</td>\n",
       "    </tr>\n",
       "    <tr>\n",
       "      <th>4</th>\n",
       "      <td>57879</td>\n",
       "      <td>4</td>\n",
       "      <td>74</td>\n",
       "      <td>54</td>\n",
       "      <td>73878</td>\n",
       "      <td>1</td>\n",
       "      <td>0</td>\n",
       "      <td>0</td>\n",
       "      <td>0</td>\n",
       "      <td>1</td>\n",
       "      <td>1</td>\n",
       "      <td>0</td>\n",
       "    </tr>\n",
       "  </tbody>\n",
       "</table>\n",
       "</div>"
      ],
      "text/plain": [
       "   Previous CTC  Previous job change  Graduation Marks  EXP (Month)    CTC  \\\n",
       "0         55523                    3                66           54  71406   \n",
       "1         57081                    1                84           54  68005   \n",
       "2         60347                    2                52           54  76764   \n",
       "3         49010                    2                81           54  82092   \n",
       "4         57879                    4                74           54  73878   \n",
       "\n",
       "   College_Tier1  College_tier2  College_tier3  City_metrocity  \\\n",
       "0              0              1              0               0   \n",
       "1              0              1              0               0   \n",
       "2              0              0              1               0   \n",
       "3              0              0              1               0   \n",
       "4              1              0              0               0   \n",
       "\n",
       "   City_non_metro_cities  Role_Executive  Role_Manager  \n",
       "0                      1               0             1  \n",
       "1                      1               1             0  \n",
       "2                      1               1             0  \n",
       "3                      1               1             0  \n",
       "4                      1               1             0  "
      ]
     },
     "execution_count": 31,
     "metadata": {},
     "output_type": "execute_result"
    }
   ],
   "source": [
    "df.head()\n"
   ]
  },
  {
   "cell_type": "markdown",
   "id": "6b028881",
   "metadata": {},
   "source": [
    "# simple Linear Regression Using Statsmodel"
   ]
  },
  {
   "cell_type": "code",
   "execution_count": 32,
   "id": "fa2d2b1c",
   "metadata": {},
   "outputs": [],
   "source": [
    "import statsmodels.api as sn"
   ]
  },
  {
   "cell_type": "code",
   "execution_count": 33,
   "id": "ec8a6ba5",
   "metadata": {},
   "outputs": [],
   "source": [
    "x=df[[\"EXP (Month)\"]]"
   ]
  },
  {
   "cell_type": "code",
   "execution_count": 34,
   "id": "da381e28",
   "metadata": {},
   "outputs": [],
   "source": [
    "y=df[\"CTC\"]"
   ]
  },
  {
   "cell_type": "code",
   "execution_count": 35,
   "id": "e309b551",
   "metadata": {},
   "outputs": [],
   "source": [
    "lm_multi=sn.OLS(y,x).fit()"
   ]
  },
  {
   "cell_type": "code",
   "execution_count": 36,
   "id": "c0d0d8b4",
   "metadata": {},
   "outputs": [
    {
     "data": {
      "text/html": [
       "<table class=\"simpletable\">\n",
       "<caption>OLS Regression Results</caption>\n",
       "<tr>\n",
       "  <th>Dep. Variable:</th>           <td>CTC</td>       <th>  R-squared (uncentered):</th>      <td>-202.378</td> \n",
       "</tr>\n",
       "<tr>\n",
       "  <th>Model:</th>                   <td>OLS</td>       <th>  Adj. R-squared (uncentered):</th> <td>-202.507</td> \n",
       "</tr>\n",
       "<tr>\n",
       "  <th>Method:</th>             <td>Least Squares</td>  <th>  F-statistic:       </th>          <td>  -1580.</td> \n",
       "</tr>\n",
       "<tr>\n",
       "  <th>Date:</th>             <td>Wed, 17 Jul 2024</td> <th>  Prob (F-statistic):</th>           <td>  1.00</td>  \n",
       "</tr>\n",
       "<tr>\n",
       "  <th>Time:</th>                 <td>20:10:33</td>     <th>  Log-Likelihood:    </th>          <td> -17217.</td> \n",
       "</tr>\n",
       "<tr>\n",
       "  <th>No. Observations:</th>      <td>  1589</td>      <th>  AIC:               </th>          <td>3.444e+04</td>\n",
       "</tr>\n",
       "<tr>\n",
       "  <th>Df Residuals:</th>          <td>  1588</td>      <th>  BIC:               </th>          <td>3.444e+04</td>\n",
       "</tr>\n",
       "<tr>\n",
       "  <th>Df Model:</th>              <td>     1</td>      <th>                     </th>              <td> </td>    \n",
       "</tr>\n",
       "<tr>\n",
       "  <th>Covariance Type:</th>      <td>nonrobust</td>    <th>                     </th>              <td> </td>    \n",
       "</tr>\n",
       "</table>\n",
       "<table class=\"simpletable\">\n",
       "<tr>\n",
       "       <td></td>          <th>coef</th>     <th>std err</th>      <th>t</th>      <th>P>|t|</th>  <th>[0.025</th>    <th>0.975]</th>  \n",
       "</tr>\n",
       "<tr>\n",
       "  <th>EXP (Month)</th> <td> 1370.3139</td> <td>    5.601</td> <td>  244.642</td> <td> 0.000</td> <td> 1359.327</td> <td> 1381.301</td>\n",
       "</tr>\n",
       "</table>\n",
       "<table class=\"simpletable\">\n",
       "<tr>\n",
       "  <th>Omnibus:</th>       <td>281.076</td> <th>  Durbin-Watson:     </th> <td>   2.063</td> \n",
       "</tr>\n",
       "<tr>\n",
       "  <th>Prob(Omnibus):</th> <td> 0.000</td>  <th>  Jarque-Bera (JB):  </th> <td> 462.979</td> \n",
       "</tr>\n",
       "<tr>\n",
       "  <th>Skew:</th>          <td> 1.160</td>  <th>  Prob(JB):          </th> <td>2.92e-101</td>\n",
       "</tr>\n",
       "<tr>\n",
       "  <th>Kurtosis:</th>      <td> 4.271</td>  <th>  Cond. No.          </th> <td>    1.00</td> \n",
       "</tr>\n",
       "</table><br/><br/>Notes:<br/>[1] R² is computed without centering (uncentered) since the model does not contain a constant.<br/>[2] Standard Errors assume that the covariance matrix of the errors is correctly specified."
      ],
      "text/latex": [
       "\\begin{center}\n",
       "\\begin{tabular}{lclc}\n",
       "\\toprule\n",
       "\\textbf{Dep. Variable:}    &       CTC        & \\textbf{  R-squared (uncentered):}      &  -202.378   \\\\\n",
       "\\textbf{Model:}            &       OLS        & \\textbf{  Adj. R-squared (uncentered):} &  -202.507   \\\\\n",
       "\\textbf{Method:}           &  Least Squares   & \\textbf{  F-statistic:       }          &    -1580.   \\\\\n",
       "\\textbf{Date:}             & Wed, 17 Jul 2024 & \\textbf{  Prob (F-statistic):}          &     1.00    \\\\\n",
       "\\textbf{Time:}             &     20:10:33     & \\textbf{  Log-Likelihood:    }          &   -17217.   \\\\\n",
       "\\textbf{No. Observations:} &        1589      & \\textbf{  AIC:               }          & 3.444e+04   \\\\\n",
       "\\textbf{Df Residuals:}     &        1588      & \\textbf{  BIC:               }          & 3.444e+04   \\\\\n",
       "\\textbf{Df Model:}         &           1      & \\textbf{                     }          &             \\\\\n",
       "\\textbf{Covariance Type:}  &    nonrobust     & \\textbf{                     }          &             \\\\\n",
       "\\bottomrule\n",
       "\\end{tabular}\n",
       "\\begin{tabular}{lcccccc}\n",
       "                     & \\textbf{coef} & \\textbf{std err} & \\textbf{t} & \\textbf{P$> |$t$|$} & \\textbf{[0.025} & \\textbf{0.975]}  \\\\\n",
       "\\midrule\n",
       "\\textbf{EXP (Month)} &    1370.3139  &        5.601     &   244.642  &         0.000        &     1359.327    &     1381.301     \\\\\n",
       "\\bottomrule\n",
       "\\end{tabular}\n",
       "\\begin{tabular}{lclc}\n",
       "\\textbf{Omnibus:}       & 281.076 & \\textbf{  Durbin-Watson:     } &     2.063  \\\\\n",
       "\\textbf{Prob(Omnibus):} &   0.000 & \\textbf{  Jarque-Bera (JB):  } &   462.979  \\\\\n",
       "\\textbf{Skew:}          &   1.160 & \\textbf{  Prob(JB):          } & 2.92e-101  \\\\\n",
       "\\textbf{Kurtosis:}      &   4.271 & \\textbf{  Cond. No.          } &      1.00  \\\\\n",
       "\\bottomrule\n",
       "\\end{tabular}\n",
       "%\\caption{OLS Regression Results}\n",
       "\\end{center}\n",
       "\n",
       "Notes: \\newline\n",
       " [1] R² is computed without centering (uncentered) since the model does not contain a constant. \\newline\n",
       " [2] Standard Errors assume that the covariance matrix of the errors is correctly specified."
      ],
      "text/plain": [
       "<class 'statsmodels.iolib.summary.Summary'>\n",
       "\"\"\"\n",
       "                                 OLS Regression Results                                \n",
       "=======================================================================================\n",
       "Dep. Variable:                    CTC   R-squared (uncentered):                -202.378\n",
       "Model:                            OLS   Adj. R-squared (uncentered):           -202.507\n",
       "Method:                 Least Squares   F-statistic:                             -1580.\n",
       "Date:                Wed, 17 Jul 2024   Prob (F-statistic):                        1.00\n",
       "Time:                        20:10:33   Log-Likelihood:                         -17217.\n",
       "No. Observations:                1589   AIC:                                  3.444e+04\n",
       "Df Residuals:                    1588   BIC:                                  3.444e+04\n",
       "Df Model:                           1                                                  \n",
       "Covariance Type:            nonrobust                                                  \n",
       "===============================================================================\n",
       "                  coef    std err          t      P>|t|      [0.025      0.975]\n",
       "-------------------------------------------------------------------------------\n",
       "EXP (Month)  1370.3139      5.601    244.642      0.000    1359.327    1381.301\n",
       "==============================================================================\n",
       "Omnibus:                      281.076   Durbin-Watson:                   2.063\n",
       "Prob(Omnibus):                  0.000   Jarque-Bera (JB):              462.979\n",
       "Skew:                           1.160   Prob(JB):                    2.92e-101\n",
       "Kurtosis:                       4.271   Cond. No.                         1.00\n",
       "==============================================================================\n",
       "\n",
       "Notes:\n",
       "[1] R² is computed without centering (uncentered) since the model does not contain a constant.\n",
       "[2] Standard Errors assume that the covariance matrix of the errors is correctly specified.\n",
       "\"\"\""
      ]
     },
     "execution_count": 36,
     "metadata": {},
     "output_type": "execute_result"
    }
   ],
   "source": [
    "lm_multi.summary()"
   ]
  },
  {
   "cell_type": "markdown",
   "id": "4d402466",
   "metadata": {},
   "source": [
    "# Simple Linear Regression using Sklearn"
   ]
  },
  {
   "cell_type": "code",
   "execution_count": 37,
   "id": "b9d74f0c",
   "metadata": {},
   "outputs": [],
   "source": [
    "from sklearn.linear_model import LinearRegression"
   ]
  },
  {
   "cell_type": "code",
   "execution_count": 38,
   "id": "a6c41d42",
   "metadata": {},
   "outputs": [],
   "source": [
    "x=df[[\"EXP (Month)\"]]"
   ]
  },
  {
   "cell_type": "code",
   "execution_count": 39,
   "id": "7e341b50",
   "metadata": {},
   "outputs": [],
   "source": [
    "y=df[\"CTC\"]"
   ]
  },
  {
   "cell_type": "code",
   "execution_count": 40,
   "id": "b8ab1843",
   "metadata": {},
   "outputs": [],
   "source": [
    "lm_1=LinearRegression()"
   ]
  },
  {
   "cell_type": "code",
   "execution_count": 41,
   "id": "3b415605",
   "metadata": {},
   "outputs": [
    {
     "data": {
      "text/html": [
       "<style>#sk-container-id-1 {color: black;}#sk-container-id-1 pre{padding: 0;}#sk-container-id-1 div.sk-toggleable {background-color: white;}#sk-container-id-1 label.sk-toggleable__label {cursor: pointer;display: block;width: 100%;margin-bottom: 0;padding: 0.3em;box-sizing: border-box;text-align: center;}#sk-container-id-1 label.sk-toggleable__label-arrow:before {content: \"▸\";float: left;margin-right: 0.25em;color: #696969;}#sk-container-id-1 label.sk-toggleable__label-arrow:hover:before {color: black;}#sk-container-id-1 div.sk-estimator:hover label.sk-toggleable__label-arrow:before {color: black;}#sk-container-id-1 div.sk-toggleable__content {max-height: 0;max-width: 0;overflow: hidden;text-align: left;background-color: #f0f8ff;}#sk-container-id-1 div.sk-toggleable__content pre {margin: 0.2em;color: black;border-radius: 0.25em;background-color: #f0f8ff;}#sk-container-id-1 input.sk-toggleable__control:checked~div.sk-toggleable__content {max-height: 200px;max-width: 100%;overflow: auto;}#sk-container-id-1 input.sk-toggleable__control:checked~label.sk-toggleable__label-arrow:before {content: \"▾\";}#sk-container-id-1 div.sk-estimator input.sk-toggleable__control:checked~label.sk-toggleable__label {background-color: #d4ebff;}#sk-container-id-1 div.sk-label input.sk-toggleable__control:checked~label.sk-toggleable__label {background-color: #d4ebff;}#sk-container-id-1 input.sk-hidden--visually {border: 0;clip: rect(1px 1px 1px 1px);clip: rect(1px, 1px, 1px, 1px);height: 1px;margin: -1px;overflow: hidden;padding: 0;position: absolute;width: 1px;}#sk-container-id-1 div.sk-estimator {font-family: monospace;background-color: #f0f8ff;border: 1px dotted black;border-radius: 0.25em;box-sizing: border-box;margin-bottom: 0.5em;}#sk-container-id-1 div.sk-estimator:hover {background-color: #d4ebff;}#sk-container-id-1 div.sk-parallel-item::after {content: \"\";width: 100%;border-bottom: 1px solid gray;flex-grow: 1;}#sk-container-id-1 div.sk-label:hover label.sk-toggleable__label {background-color: #d4ebff;}#sk-container-id-1 div.sk-serial::before {content: \"\";position: absolute;border-left: 1px solid gray;box-sizing: border-box;top: 0;bottom: 0;left: 50%;z-index: 0;}#sk-container-id-1 div.sk-serial {display: flex;flex-direction: column;align-items: center;background-color: white;padding-right: 0.2em;padding-left: 0.2em;position: relative;}#sk-container-id-1 div.sk-item {position: relative;z-index: 1;}#sk-container-id-1 div.sk-parallel {display: flex;align-items: stretch;justify-content: center;background-color: white;position: relative;}#sk-container-id-1 div.sk-item::before, #sk-container-id-1 div.sk-parallel-item::before {content: \"\";position: absolute;border-left: 1px solid gray;box-sizing: border-box;top: 0;bottom: 0;left: 50%;z-index: -1;}#sk-container-id-1 div.sk-parallel-item {display: flex;flex-direction: column;z-index: 1;position: relative;background-color: white;}#sk-container-id-1 div.sk-parallel-item:first-child::after {align-self: flex-end;width: 50%;}#sk-container-id-1 div.sk-parallel-item:last-child::after {align-self: flex-start;width: 50%;}#sk-container-id-1 div.sk-parallel-item:only-child::after {width: 0;}#sk-container-id-1 div.sk-dashed-wrapped {border: 1px dashed gray;margin: 0 0.4em 0.5em 0.4em;box-sizing: border-box;padding-bottom: 0.4em;background-color: white;}#sk-container-id-1 div.sk-label label {font-family: monospace;font-weight: bold;display: inline-block;line-height: 1.2em;}#sk-container-id-1 div.sk-label-container {text-align: center;}#sk-container-id-1 div.sk-container {/* jupyter's `normalize.less` sets `[hidden] { display: none; }` but bootstrap.min.css set `[hidden] { display: none !important; }` so we also need the `!important` here to be able to override the default hidden behavior on the sphinx rendered scikit-learn.org. See: https://github.com/scikit-learn/scikit-learn/issues/21755 */display: inline-block !important;position: relative;}#sk-container-id-1 div.sk-text-repr-fallback {display: none;}</style><div id=\"sk-container-id-1\" class=\"sk-top-container\"><div class=\"sk-text-repr-fallback\"><pre>LinearRegression()</pre><b>In a Jupyter environment, please rerun this cell to show the HTML representation or trust the notebook. <br />On GitHub, the HTML representation is unable to render, please try loading this page with nbviewer.org.</b></div><div class=\"sk-container\" hidden><div class=\"sk-item\"><div class=\"sk-estimator sk-toggleable\"><input class=\"sk-toggleable__control sk-hidden--visually\" id=\"sk-estimator-id-1\" type=\"checkbox\" checked><label for=\"sk-estimator-id-1\" class=\"sk-toggleable__label sk-toggleable__label-arrow\">LinearRegression</label><div class=\"sk-toggleable__content\"><pre>LinearRegression()</pre></div></div></div></div></div>"
      ],
      "text/plain": [
       "LinearRegression()"
      ]
     },
     "execution_count": 41,
     "metadata": {},
     "output_type": "execute_result"
    }
   ],
   "source": [
    "lm_1.fit(x,y)"
   ]
  },
  {
   "cell_type": "code",
   "execution_count": 42,
   "id": "f9ad63fa",
   "metadata": {},
   "outputs": [
    {
     "name": "stdout",
     "output_type": "stream",
     "text": [
      "11489.360889285854 [1161.71155595]\n"
     ]
    }
   ],
   "source": [
    "print(lm_1.intercept_,lm_1.coef_)"
   ]
  },
  {
   "cell_type": "code",
   "execution_count": 43,
   "id": "b8ac44ba",
   "metadata": {},
   "outputs": [
    {
     "data": {
      "text/plain": [
       "<seaborn.axisgrid.JointGrid at 0x228d762f0d0>"
      ]
     },
     "execution_count": 43,
     "metadata": {},
     "output_type": "execute_result"
    },
    {
     "data": {
      "image/png": "[encoded data removed]",
      "text/plain": [
       "<Figure size 600x600 with 3 Axes>"
      ]
     },
     "metadata": {},
     "output_type": "display_data"
    }
   ],
   "source": [
    "sns.jointplot(x='EXP (Month)', y='CTC'    ,data=df, kind=\"reg\")"
   ]
  },
  {
   "cell_type": "markdown",
   "id": "2620867e",
   "metadata": {},
   "source": [
    "# Multi linear regression Using Statsmodel"
   ]
  },
  {
   "cell_type": "code",
   "execution_count": 44,
   "id": "02b98dd7",
   "metadata": {},
   "outputs": [],
   "source": [
    "import statsmodels.api as sn"
   ]
  },
  {
   "cell_type": "code",
   "execution_count": 45,
   "id": "e6796239",
   "metadata": {},
   "outputs": [],
   "source": [
    "x=df.drop(\"CTC\",axis=1)"
   ]
  },
  {
   "cell_type": "code",
   "execution_count": 46,
   "id": "c297b1ff",
   "metadata": {},
   "outputs": [],
   "source": [
    "y=df[\"CTC\"]\n"
   ]
  },
  {
   "cell_type": "code",
   "execution_count": 47,
   "id": "5fc004e5",
   "metadata": {},
   "outputs": [],
   "source": [
    "x_multi_cons=sn.add_constant(x)"
   ]
  },
  {
   "cell_type": "code",
   "execution_count": 48,
   "id": "e2a65bc7",
   "metadata": {},
   "outputs": [],
   "source": [
    "lm_multi=sn.OLS(y,x_multi_cons).fit()"
   ]
  },
  {
   "cell_type": "code",
   "execution_count": 49,
   "id": "e8d45d0a",
   "metadata": {},
   "outputs": [
    {
     "data": {
      "text/html": [
       "<table class=\"simpletable\">\n",
       "<caption>OLS Regression Results</caption>\n",
       "<tr>\n",
       "  <th>Dep. Variable:</th>           <td>CTC</td>       <th>  R-squared:         </th> <td>   0.490</td> \n",
       "</tr>\n",
       "<tr>\n",
       "  <th>Model:</th>                   <td>OLS</td>       <th>  Adj. R-squared:    </th> <td>   0.488</td> \n",
       "</tr>\n",
       "<tr>\n",
       "  <th>Method:</th>             <td>Least Squares</td>  <th>  F-statistic:       </th> <td>   189.9</td> \n",
       "</tr>\n",
       "<tr>\n",
       "  <th>Date:</th>             <td>Wed, 17 Jul 2024</td> <th>  Prob (F-statistic):</th> <td>7.49e-225</td>\n",
       "</tr>\n",
       "<tr>\n",
       "  <th>Time:</th>                 <td>20:10:47</td>     <th>  Log-Likelihood:    </th> <td> -16720.</td> \n",
       "</tr>\n",
       "<tr>\n",
       "  <th>No. Observations:</th>      <td>  1589</td>      <th>  AIC:               </th> <td>3.346e+04</td>\n",
       "</tr>\n",
       "<tr>\n",
       "  <th>Df Residuals:</th>          <td>  1580</td>      <th>  BIC:               </th> <td>3.351e+04</td>\n",
       "</tr>\n",
       "<tr>\n",
       "  <th>Df Model:</th>              <td>     8</td>      <th>                     </th>     <td> </td>    \n",
       "</tr>\n",
       "<tr>\n",
       "  <th>Covariance Type:</th>      <td>nonrobust</td>    <th>                     </th>     <td> </td>    \n",
       "</tr>\n",
       "</table>\n",
       "<table class=\"simpletable\">\n",
       "<tr>\n",
       "            <td></td>               <th>coef</th>     <th>std err</th>      <th>t</th>      <th>P>|t|</th>  <th>[0.025</th>    <th>0.975]</th>  \n",
       "</tr>\n",
       "<tr>\n",
       "  <th>const</th>                 <td> -871.8684</td> <td> 2378.618</td> <td>   -0.367</td> <td> 0.714</td> <td>-5537.447</td> <td> 3793.711</td>\n",
       "</tr>\n",
       "<tr>\n",
       "  <th>Previous CTC</th>          <td>    0.4514</td> <td>    0.034</td> <td>   13.236</td> <td> 0.000</td> <td>    0.384</td> <td>    0.518</td>\n",
       "</tr>\n",
       "<tr>\n",
       "  <th>Previous job change</th>   <td>  146.4669</td> <td>  201.906</td> <td>    0.725</td> <td> 0.468</td> <td> -249.565</td> <td>  542.499</td>\n",
       "</tr>\n",
       "<tr>\n",
       "  <th>Graduation Marks</th>      <td>   -3.5632</td> <td>   15.162</td> <td>   -0.235</td> <td> 0.814</td> <td>  -33.302</td> <td>   26.176</td>\n",
       "</tr>\n",
       "<tr>\n",
       "  <th>EXP (Month)</th>           <td> 1051.6217</td> <td>   94.854</td> <td>   11.087</td> <td> 0.000</td> <td>  865.569</td> <td> 1237.674</td>\n",
       "</tr>\n",
       "<tr>\n",
       "  <th>College_Tier1</th>         <td>  -76.5182</td> <td>  855.778</td> <td>   -0.089</td> <td> 0.929</td> <td>-1755.098</td> <td> 1602.061</td>\n",
       "</tr>\n",
       "<tr>\n",
       "  <th>College_tier2</th>         <td>  251.5602</td> <td>  842.009</td> <td>    0.299</td> <td> 0.765</td> <td>-1400.013</td> <td> 1903.133</td>\n",
       "</tr>\n",
       "<tr>\n",
       "  <th>College_tier3</th>         <td>-1046.9103</td> <td>  868.812</td> <td>   -1.205</td> <td> 0.228</td> <td>-2751.057</td> <td>  657.236</td>\n",
       "</tr>\n",
       "<tr>\n",
       "  <th>City_metrocity</th>        <td> -300.3827</td> <td> 1207.280</td> <td>   -0.249</td> <td> 0.804</td> <td>-2668.423</td> <td> 2067.657</td>\n",
       "</tr>\n",
       "<tr>\n",
       "  <th>City_non_metro_cities</th> <td> -571.4857</td> <td> 1214.216</td> <td>   -0.471</td> <td> 0.638</td> <td>-2953.129</td> <td> 1810.158</td>\n",
       "</tr>\n",
       "<tr>\n",
       "  <th>Role_Executive</th>        <td>-1.002e+04</td> <td> 1209.372</td> <td>   -8.286</td> <td> 0.000</td> <td>-1.24e+04</td> <td>-7648.384</td>\n",
       "</tr>\n",
       "<tr>\n",
       "  <th>Role_Manager</th>          <td> 9148.6591</td> <td> 1234.030</td> <td>    7.414</td> <td> 0.000</td> <td> 6728.151</td> <td> 1.16e+04</td>\n",
       "</tr>\n",
       "</table>\n",
       "<table class=\"simpletable\">\n",
       "<tr>\n",
       "  <th>Omnibus:</th>       <td>46.208</td> <th>  Durbin-Watson:     </th> <td>   2.025</td>\n",
       "</tr>\n",
       "<tr>\n",
       "  <th>Prob(Omnibus):</th> <td> 0.000</td> <th>  Jarque-Bera (JB):  </th> <td>  53.183</td>\n",
       "</tr>\n",
       "<tr>\n",
       "  <th>Skew:</th>          <td> 0.371</td> <th>  Prob(JB):          </th> <td>2.83e-12</td>\n",
       "</tr>\n",
       "<tr>\n",
       "  <th>Kurtosis:</th>      <td> 3.502</td> <th>  Cond. No.          </th> <td>5.45e+20</td>\n",
       "</tr>\n",
       "</table><br/><br/>Notes:<br/>[1] Standard Errors assume that the covariance matrix of the errors is correctly specified.<br/>[2] The smallest eigenvalue is 1.67e-29. This might indicate that there are<br/>strong multicollinearity problems or that the design matrix is singular."
      ],
      "text/latex": [
       "\\begin{center}\n",
       "\\begin{tabular}{lclc}\n",
       "\\toprule\n",
       "\\textbf{Dep. Variable:}           &       CTC        & \\textbf{  R-squared:         } &     0.490   \\\\\n",
       "\\textbf{Model:}                   &       OLS        & \\textbf{  Adj. R-squared:    } &     0.488   \\\\\n",
       "\\textbf{Method:}                  &  Least Squares   & \\textbf{  F-statistic:       } &     189.9   \\\\\n",
       "\\textbf{Date:}                    & Wed, 17 Jul 2024 & \\textbf{  Prob (F-statistic):} & 7.49e-225   \\\\\n",
       "\\textbf{Time:}                    &     20:10:47     & \\textbf{  Log-Likelihood:    } &   -16720.   \\\\\n",
       "\\textbf{No. Observations:}        &        1589      & \\textbf{  AIC:               } & 3.346e+04   \\\\\n",
       "\\textbf{Df Residuals:}            &        1580      & \\textbf{  BIC:               } & 3.351e+04   \\\\\n",
       "\\textbf{Df Model:}                &           8      & \\textbf{                     } &             \\\\\n",
       "\\textbf{Covariance Type:}         &    nonrobust     & \\textbf{                     } &             \\\\\n",
       "\\bottomrule\n",
       "\\end{tabular}\n",
       "\\begin{tabular}{lcccccc}\n",
       "                                  & \\textbf{coef} & \\textbf{std err} & \\textbf{t} & \\textbf{P$> |$t$|$} & \\textbf{[0.025} & \\textbf{0.975]}  \\\\\n",
       "\\midrule\n",
       "\\textbf{const}                    &    -871.8684  &     2378.618     &    -0.367  &         0.714        &    -5537.447    &     3793.711     \\\\\n",
       "\\textbf{Previous CTC}             &       0.4514  &        0.034     &    13.236  &         0.000        &        0.384    &        0.518     \\\\\n",
       "\\textbf{Previous job change}      &     146.4669  &      201.906     &     0.725  &         0.468        &     -249.565    &      542.499     \\\\\n",
       "\\textbf{Graduation Marks}         &      -3.5632  &       15.162     &    -0.235  &         0.814        &      -33.302    &       26.176     \\\\\n",
       "\\textbf{EXP (Month)}              &    1051.6217  &       94.854     &    11.087  &         0.000        &      865.569    &     1237.674     \\\\\n",
       "\\textbf{College\\_Tier1}           &     -76.5182  &      855.778     &    -0.089  &         0.929        &    -1755.098    &     1602.061     \\\\\n",
       "\\textbf{College\\_tier2}           &     251.5602  &      842.009     &     0.299  &         0.765        &    -1400.013    &     1903.133     \\\\\n",
       "\\textbf{College\\_tier3}           &   -1046.9103  &      868.812     &    -1.205  &         0.228        &    -2751.057    &      657.236     \\\\\n",
       "\\textbf{City\\_metrocity}          &    -300.3827  &     1207.280     &    -0.249  &         0.804        &    -2668.423    &     2067.657     \\\\\n",
       "\\textbf{City\\_non\\_metro\\_cities} &    -571.4857  &     1214.216     &    -0.471  &         0.638        &    -2953.129    &     1810.158     \\\\\n",
       "\\textbf{Role\\_Executive}          &   -1.002e+04  &     1209.372     &    -8.286  &         0.000        &    -1.24e+04    &    -7648.384     \\\\\n",
       "\\textbf{Role\\_Manager}            &    9148.6591  &     1234.030     &     7.414  &         0.000        &     6728.151    &     1.16e+04     \\\\\n",
       "\\bottomrule\n",
       "\\end{tabular}\n",
       "\\begin{tabular}{lclc}\n",
       "\\textbf{Omnibus:}       & 46.208 & \\textbf{  Durbin-Watson:     } &    2.025  \\\\\n",
       "\\textbf{Prob(Omnibus):} &  0.000 & \\textbf{  Jarque-Bera (JB):  } &   53.183  \\\\\n",
       "\\textbf{Skew:}          &  0.371 & \\textbf{  Prob(JB):          } & 2.83e-12  \\\\\n",
       "\\textbf{Kurtosis:}      &  3.502 & \\textbf{  Cond. No.          } & 5.45e+20  \\\\\n",
       "\\bottomrule\n",
       "\\end{tabular}\n",
       "%\\caption{OLS Regression Results}\n",
       "\\end{center}\n",
       "\n",
       "Notes: \\newline\n",
       " [1] Standard Errors assume that the covariance matrix of the errors is correctly specified. \\newline\n",
       " [2] The smallest eigenvalue is 1.67e-29. This might indicate that there are \\newline\n",
       " strong multicollinearity problems or that the design matrix is singular."
      ],
      "text/plain": [
       "<class 'statsmodels.iolib.summary.Summary'>\n",
       "\"\"\"\n",
       "                            OLS Regression Results                            \n",
       "==============================================================================\n",
       "Dep. Variable:                    CTC   R-squared:                       0.490\n",
       "Model:                            OLS   Adj. R-squared:                  0.488\n",
       "Method:                 Least Squares   F-statistic:                     189.9\n",
       "Date:                Wed, 17 Jul 2024   Prob (F-statistic):          7.49e-225\n",
       "Time:                        20:10:47   Log-Likelihood:                -16720.\n",
       "No. Observations:                1589   AIC:                         3.346e+04\n",
       "Df Residuals:                    1580   BIC:                         3.351e+04\n",
       "Df Model:                           8                                         \n",
       "Covariance Type:            nonrobust                                         \n",
       "=========================================================================================\n",
       "                            coef    std err          t      P>|t|      [0.025      0.975]\n",
       "-----------------------------------------------------------------------------------------\n",
       "const                  -871.8684   2378.618     -0.367      0.714   -5537.447    3793.711\n",
       "Previous CTC              0.4514      0.034     13.236      0.000       0.384       0.518\n",
       "Previous job change     146.4669    201.906      0.725      0.468    -249.565     542.499\n",
       "Graduation Marks         -3.5632     15.162     -0.235      0.814     -33.302      26.176\n",
       "EXP (Month)            1051.6217     94.854     11.087      0.000     865.569    1237.674\n",
       "College_Tier1           -76.5182    855.778     -0.089      0.929   -1755.098    1602.061\n",
       "College_tier2           251.5602    842.009      0.299      0.765   -1400.013    1903.133\n",
       "College_tier3         -1046.9103    868.812     -1.205      0.228   -2751.057     657.236\n",
       "City_metrocity         -300.3827   1207.280     -0.249      0.804   -2668.423    2067.657\n",
       "City_non_metro_cities  -571.4857   1214.216     -0.471      0.638   -2953.129    1810.158\n",
       "Role_Executive        -1.002e+04   1209.372     -8.286      0.000   -1.24e+04   -7648.384\n",
       "Role_Manager           9148.6591   1234.030      7.414      0.000    6728.151    1.16e+04\n",
       "==============================================================================\n",
       "Omnibus:                       46.208   Durbin-Watson:                   2.025\n",
       "Prob(Omnibus):                  0.000   Jarque-Bera (JB):               53.183\n",
       "Skew:                           0.371   Prob(JB):                     2.83e-12\n",
       "Kurtosis:                       3.502   Cond. No.                     5.45e+20\n",
       "==============================================================================\n",
       "\n",
       "Notes:\n",
       "[1] Standard Errors assume that the covariance matrix of the errors is correctly specified.\n",
       "[2] The smallest eigenvalue is 1.67e-29. This might indicate that there are\n",
       "strong multicollinearity problems or that the design matrix is singular.\n",
       "\"\"\""
      ]
     },
     "execution_count": 49,
     "metadata": {},
     "output_type": "execute_result"
    }
   ],
   "source": [
    "lm_multi.summary()"
   ]
  },
  {
   "cell_type": "markdown",
   "id": "eb7ca895",
   "metadata": {},
   "source": [
    "# Multi  linear regression Using Sklearn"
   ]
  },
  {
   "cell_type": "code",
   "execution_count": 50,
   "id": "bd3d2996",
   "metadata": {},
   "outputs": [],
   "source": [
    "from sklearn.linear_model import LinearRegression"
   ]
  },
  {
   "cell_type": "code",
   "execution_count": 51,
   "id": "0db22b83",
   "metadata": {},
   "outputs": [],
   "source": [
    "x=df.drop(\"CTC\",axis=1)\n"
   ]
  },
  {
   "cell_type": "code",
   "execution_count": 52,
   "id": "710564c2",
   "metadata": {},
   "outputs": [],
   "source": [
    "lg_a=LinearRegression()"
   ]
  },
  {
   "cell_type": "code",
   "execution_count": 53,
   "id": "e21b98ee",
   "metadata": {},
   "outputs": [
    {
     "data": {
      "text/html": [
       "<style>#sk-container-id-2 {color: black;}#sk-container-id-2 pre{padding: 0;}#sk-container-id-2 div.sk-toggleable {background-color: white;}#sk-container-id-2 label.sk-toggleable__label {cursor: pointer;display: block;width: 100%;margin-bottom: 0;padding: 0.3em;box-sizing: border-box;text-align: center;}#sk-container-id-2 label.sk-toggleable__label-arrow:before {content: \"▸\";float: left;margin-right: 0.25em;color: #696969;}#sk-container-id-2 label.sk-toggleable__label-arrow:hover:before {color: black;}#sk-container-id-2 div.sk-estimator:hover label.sk-toggleable__label-arrow:before {color: black;}#sk-container-id-2 div.sk-toggleable__content {max-height: 0;max-width: 0;overflow: hidden;text-align: left;background-color: #f0f8ff;}#sk-container-id-2 div.sk-toggleable__content pre {margin: 0.2em;color: black;border-radius: 0.25em;background-color: #f0f8ff;}#sk-container-id-2 input.sk-toggleable__control:checked~div.sk-toggleable__content {max-height: 200px;max-width: 100%;overflow: auto;}#sk-container-id-2 input.sk-toggleable__control:checked~label.sk-toggleable__label-arrow:before {content: \"▾\";}#sk-container-id-2 div.sk-estimator input.sk-toggleable__control:checked~label.sk-toggleable__label {background-color: #d4ebff;}#sk-container-id-2 div.sk-label input.sk-toggleable__control:checked~label.sk-toggleable__label {background-color: #d4ebff;}#sk-container-id-2 input.sk-hidden--visually {border: 0;clip: rect(1px 1px 1px 1px);clip: rect(1px, 1px, 1px, 1px);height: 1px;margin: -1px;overflow: hidden;padding: 0;position: absolute;width: 1px;}#sk-container-id-2 div.sk-estimator {font-family: monospace;background-color: #f0f8ff;border: 1px dotted black;border-radius: 0.25em;box-sizing: border-box;margin-bottom: 0.5em;}#sk-container-id-2 div.sk-estimator:hover {background-color: #d4ebff;}#sk-container-id-2 div.sk-parallel-item::after {content: \"\";width: 100%;border-bottom: 1px solid gray;flex-grow: 1;}#sk-container-id-2 div.sk-label:hover label.sk-toggleable__label {background-color: #d4ebff;}#sk-container-id-2 div.sk-serial::before {content: \"\";position: absolute;border-left: 1px solid gray;box-sizing: border-box;top: 0;bottom: 0;left: 50%;z-index: 0;}#sk-container-id-2 div.sk-serial {display: flex;flex-direction: column;align-items: center;background-color: white;padding-right: 0.2em;padding-left: 0.2em;position: relative;}#sk-container-id-2 div.sk-item {position: relative;z-index: 1;}#sk-container-id-2 div.sk-parallel {display: flex;align-items: stretch;justify-content: center;background-color: white;position: relative;}#sk-container-id-2 div.sk-item::before, #sk-container-id-2 div.sk-parallel-item::before {content: \"\";position: absolute;border-left: 1px solid gray;box-sizing: border-box;top: 0;bottom: 0;left: 50%;z-index: -1;}#sk-container-id-2 div.sk-parallel-item {display: flex;flex-direction: column;z-index: 1;position: relative;background-color: white;}#sk-container-id-2 div.sk-parallel-item:first-child::after {align-self: flex-end;width: 50%;}#sk-container-id-2 div.sk-parallel-item:last-child::after {align-self: flex-start;width: 50%;}#sk-container-id-2 div.sk-parallel-item:only-child::after {width: 0;}#sk-container-id-2 div.sk-dashed-wrapped {border: 1px dashed gray;margin: 0 0.4em 0.5em 0.4em;box-sizing: border-box;padding-bottom: 0.4em;background-color: white;}#sk-container-id-2 div.sk-label label {font-family: monospace;font-weight: bold;display: inline-block;line-height: 1.2em;}#sk-container-id-2 div.sk-label-container {text-align: center;}#sk-container-id-2 div.sk-container {/* jupyter's `normalize.less` sets `[hidden] { display: none; }` but bootstrap.min.css set `[hidden] { display: none !important; }` so we also need the `!important` here to be able to override the default hidden behavior on the sphinx rendered scikit-learn.org. See: https://github.com/scikit-learn/scikit-learn/issues/21755 */display: inline-block !important;position: relative;}#sk-container-id-2 div.sk-text-repr-fallback {display: none;}</style><div id=\"sk-container-id-2\" class=\"sk-top-container\"><div class=\"sk-text-repr-fallback\"><pre>LinearRegression()</pre><b>In a Jupyter environment, please rerun this cell to show the HTML representation or trust the notebook. <br />On GitHub, the HTML representation is unable to render, please try loading this page with nbviewer.org.</b></div><div class=\"sk-container\" hidden><div class=\"sk-item\"><div class=\"sk-estimator sk-toggleable\"><input class=\"sk-toggleable__control sk-hidden--visually\" id=\"sk-estimator-id-2\" type=\"checkbox\" checked><label for=\"sk-estimator-id-2\" class=\"sk-toggleable__label sk-toggleable__label-arrow\">LinearRegression</label><div class=\"sk-toggleable__content\"><pre>LinearRegression()</pre></div></div></div></div></div>"
      ],
      "text/plain": [
       "LinearRegression()"
      ]
     },
     "execution_count": 53,
     "metadata": {},
     "output_type": "execute_result"
    }
   ],
   "source": [
    "lg_a.fit(x,y)"
   ]
  },
  {
   "cell_type": "code",
   "execution_count": 54,
   "id": "b0430aa3",
   "metadata": {},
   "outputs": [
    {
     "name": "stdout",
     "output_type": "stream",
     "text": [
      "-2034.359560286277 [ 4.51383944e-01  1.46466896e+02 -3.56315349e+00  1.05162170e+03\n",
      "  2.14104563e+02  5.42182964e+02 -7.56287527e+02  1.35551473e+02\n",
      " -1.35551473e+02 -9.58459325e+03  9.58459325e+03]\n"
     ]
    }
   ],
   "source": [
    "print(lg_a.intercept_,lg_a.coef_)"
   ]
  },
  {
   "cell_type": "code",
   "execution_count": 55,
   "id": "fea27bce",
   "metadata": {},
   "outputs": [],
   "source": [
    "from sklearn.linear_model import LinearRegression"
   ]
  },
  {
   "cell_type": "code",
   "execution_count": 56,
   "id": "5b2a109f",
   "metadata": {},
   "outputs": [],
   "source": [
    "from sklearn.model_selection import train_test_split"
   ]
  },
  {
   "cell_type": "code",
   "execution_count": 57,
   "id": "e0776feb",
   "metadata": {},
   "outputs": [],
   "source": [
    "x_multi=df.drop(\"CTC\",axis=1)"
   ]
  },
  {
   "cell_type": "code",
   "execution_count": 58,
   "id": "548855ff",
   "metadata": {},
   "outputs": [],
   "source": [
    "y_multi=df[\"CTC\"]"
   ]
  },
  {
   "cell_type": "code",
   "execution_count": 59,
   "id": "defe8f52",
   "metadata": {},
   "outputs": [],
   "source": [
    "x_train,x_test,y_train,y_test=train_test_split(x_multi,y_multi,test_size=0.2,random_state=0)"
   ]
  },
  {
   "cell_type": "code",
   "execution_count": 60,
   "id": "75faed7b",
   "metadata": {},
   "outputs": [
    {
     "name": "stdout",
     "output_type": "stream",
     "text": [
      "(1271, 11) (318, 11) (1271,) (318,)\n"
     ]
    }
   ],
   "source": [
    "print(x_train.shape,x_test.shape,y_train.shape,y_test.shape)"
   ]
  },
  {
   "cell_type": "code",
   "execution_count": 61,
   "id": "fad590a4",
   "metadata": {},
   "outputs": [],
   "source": [
    "lm_a=LinearRegression()"
   ]
  },
  {
   "cell_type": "code",
   "execution_count": 62,
   "id": "a96a2a99",
   "metadata": {
    "scrolled": true
   },
   "outputs": [
    {
     "data": {
      "text/html": [
       "<style>#sk-container-id-3 {color: black;}#sk-container-id-3 pre{padding: 0;}#sk-container-id-3 div.sk-toggleable {background-color: white;}#sk-container-id-3 label.sk-toggleable__label {cursor: pointer;display: block;width: 100%;margin-bottom: 0;padding: 0.3em;box-sizing: border-box;text-align: center;}#sk-container-id-3 label.sk-toggleable__label-arrow:before {content: \"▸\";float: left;margin-right: 0.25em;color: #696969;}#sk-container-id-3 label.sk-toggleable__label-arrow:hover:before {color: black;}#sk-container-id-3 div.sk-estimator:hover label.sk-toggleable__label-arrow:before {color: black;}#sk-container-id-3 div.sk-toggleable__content {max-height: 0;max-width: 0;overflow: hidden;text-align: left;background-color: #f0f8ff;}#sk-container-id-3 div.sk-toggleable__content pre {margin: 0.2em;color: black;border-radius: 0.25em;background-color: #f0f8ff;}#sk-container-id-3 input.sk-toggleable__control:checked~div.sk-toggleable__content {max-height: 200px;max-width: 100%;overflow: auto;}#sk-container-id-3 input.sk-toggleable__control:checked~label.sk-toggleable__label-arrow:before {content: \"▾\";}#sk-container-id-3 div.sk-estimator input.sk-toggleable__control:checked~label.sk-toggleable__label {background-color: #d4ebff;}#sk-container-id-3 div.sk-label input.sk-toggleable__control:checked~label.sk-toggleable__label {background-color: #d4ebff;}#sk-container-id-3 input.sk-hidden--visually {border: 0;clip: rect(1px 1px 1px 1px);clip: rect(1px, 1px, 1px, 1px);height: 1px;margin: -1px;overflow: hidden;padding: 0;position: absolute;width: 1px;}#sk-container-id-3 div.sk-estimator {font-family: monospace;background-color: #f0f8ff;border: 1px dotted black;border-radius: 0.25em;box-sizing: border-box;margin-bottom: 0.5em;}#sk-container-id-3 div.sk-estimator:hover {background-color: #d4ebff;}#sk-container-id-3 div.sk-parallel-item::after {content: \"\";width: 100%;border-bottom: 1px solid gray;flex-grow: 1;}#sk-container-id-3 div.sk-label:hover label.sk-toggleable__label {background-color: #d4ebff;}#sk-container-id-3 div.sk-serial::before {content: \"\";position: absolute;border-left: 1px solid gray;box-sizing: border-box;top: 0;bottom: 0;left: 50%;z-index: 0;}#sk-container-id-3 div.sk-serial {display: flex;flex-direction: column;align-items: center;background-color: white;padding-right: 0.2em;padding-left: 0.2em;position: relative;}#sk-container-id-3 div.sk-item {position: relative;z-index: 1;}#sk-container-id-3 div.sk-parallel {display: flex;align-items: stretch;justify-content: center;background-color: white;position: relative;}#sk-container-id-3 div.sk-item::before, #sk-container-id-3 div.sk-parallel-item::before {content: \"\";position: absolute;border-left: 1px solid gray;box-sizing: border-box;top: 0;bottom: 0;left: 50%;z-index: -1;}#sk-container-id-3 div.sk-parallel-item {display: flex;flex-direction: column;z-index: 1;position: relative;background-color: white;}#sk-container-id-3 div.sk-parallel-item:first-child::after {align-self: flex-end;width: 50%;}#sk-container-id-3 div.sk-parallel-item:last-child::after {align-self: flex-start;width: 50%;}#sk-container-id-3 div.sk-parallel-item:only-child::after {width: 0;}#sk-container-id-3 div.sk-dashed-wrapped {border: 1px dashed gray;margin: 0 0.4em 0.5em 0.4em;box-sizing: border-box;padding-bottom: 0.4em;background-color: white;}#sk-container-id-3 div.sk-label label {font-family: monospace;font-weight: bold;display: inline-block;line-height: 1.2em;}#sk-container-id-3 div.sk-label-container {text-align: center;}#sk-container-id-3 div.sk-container {/* jupyter's `normalize.less` sets `[hidden] { display: none; }` but bootstrap.min.css set `[hidden] { display: none !important; }` so we also need the `!important` here to be able to override the default hidden behavior on the sphinx rendered scikit-learn.org. See: https://github.com/scikit-learn/scikit-learn/issues/21755 */display: inline-block !important;position: relative;}#sk-container-id-3 div.sk-text-repr-fallback {display: none;}</style><div id=\"sk-container-id-3\" class=\"sk-top-container\"><div class=\"sk-text-repr-fallback\"><pre>LinearRegression()</pre><b>In a Jupyter environment, please rerun this cell to show the HTML representation or trust the notebook. <br />On GitHub, the HTML representation is unable to render, please try loading this page with nbviewer.org.</b></div><div class=\"sk-container\" hidden><div class=\"sk-item\"><div class=\"sk-estimator sk-toggleable\"><input class=\"sk-toggleable__control sk-hidden--visually\" id=\"sk-estimator-id-3\" type=\"checkbox\" checked><label for=\"sk-estimator-id-3\" class=\"sk-toggleable__label sk-toggleable__label-arrow\">LinearRegression</label><div class=\"sk-toggleable__content\"><pre>LinearRegression()</pre></div></div></div></div></div>"
      ],
      "text/plain": [
       "LinearRegression()"
      ]
     },
     "execution_count": 62,
     "metadata": {},
     "output_type": "execute_result"
    }
   ],
   "source": [
    "lm_a.fit(x_train,y_train)"
   ]
  },
  {
   "cell_type": "code",
   "execution_count": 63,
   "id": "011a233f",
   "metadata": {
    "scrolled": true
   },
   "outputs": [
    {
     "name": "stdout",
     "output_type": "stream",
     "text": [
      "-2609.994877504083 [ 4.79938152e-01  9.95821457e+01  4.27383110e+00  1.02595994e+03\n",
      "  1.06094747e+02  5.34729948e+02 -6.40824695e+02  4.07947594e+02\n",
      " -4.07947594e+02 -9.45458507e+03  9.45458507e+03]\n"
     ]
    }
   ],
   "source": [
    "print(lm_a.intercept_,lm_a.coef_)"
   ]
  },
  {
   "cell_type": "code",
   "execution_count": 79,
   "id": "5c15ed6a",
   "metadata": {},
   "outputs": [],
   "source": [
    "y_test_a=lm_a.predict(x_test)"
   ]
  },
  {
   "cell_type": "code",
   "execution_count": 80,
   "id": "258b8138",
   "metadata": {},
   "outputs": [
    {
     "data": {
      "text/plain": [
       "array([ 64812.54009885,  68396.48273702,  66194.33078037,  67202.05149561,\n",
       "        74148.84553094,  87444.84465045,  66767.38702335,  67065.50407069,\n",
       "        76095.41359861,  69960.50273212,  71214.94279416,  81128.54161404,\n",
       "        89471.90402541,  80338.08183637,  73865.04862422,  92498.98260699,\n",
       "        68289.03275097,  70772.825707  ,  68932.25081066,  79433.64939412,\n",
       "        90645.93320419,  93856.67311998,  72412.26175901,  68159.76709396,\n",
       "        70679.99776004,  70891.71837555,  72178.75348525,  92039.26926673,\n",
       "        67441.92414909,  70675.50126583,  73106.0617827 ,  74147.02901592,\n",
       "        85570.42622142,  79741.50385509, 100961.59789127,  76887.39321342,\n",
       "        72669.08551313,  81846.81103346,  76395.95347467,  67957.03346342,\n",
       "        73694.91725941,  85847.3052995 ,  70912.90999859,  70999.27941749,\n",
       "        72959.89752073,  76887.97681438,  83879.91454053,  69146.29351434,\n",
       "        72853.05008761,  74349.53914765,  91910.16310285,  64785.33685953,\n",
       "        91341.1113795 ,  68857.126893  ,  94277.01213178,  70275.79225484,\n",
       "        67950.44829275,  87635.15400684,  71819.61844676,  70616.66973954,\n",
       "        72976.9664162 ,  69190.13141178,  67866.27300648,  70254.1967033 ,\n",
       "        67112.18681367,  71557.50281207,  67977.2146813 ,  66311.29370314,\n",
       "        93157.84760047,  71169.19561088,  70122.52129061,  76722.13421492,\n",
       "        72200.91172105,  73928.50545873,  70098.1663719 ,  74036.13296248,\n",
       "        71334.93656741,  70173.34743326,  70584.58903896,  71750.9683193 ,\n",
       "        90719.57371501,  71413.78413903,  72838.66029544,  80145.68014909,\n",
       "        68301.24957801,  67486.18863086,  71428.30454019,  68090.79134815,\n",
       "        79339.09525081,  91869.99315769,  73702.23041389,  72377.71789555,\n",
       "        73374.08360193,  94277.01213178,  69670.40779656,  68518.44354093,\n",
       "        71955.33392642,  80261.07110364,  89215.56657194,  70544.78368569,\n",
       "        74857.25112404,  74576.32385194,  69627.0966337 ,  69201.56385234,\n",
       "        87125.86941785,  65664.31119208,  95977.46075545,  87566.89753297,\n",
       "        86381.10112128,  73077.23632825,  78565.04739592,  72063.33698744,\n",
       "        84387.18283144,  75294.94263354,  75348.71820972,  90806.7497215 ,\n",
       "        90873.90720567,  69634.52028314,  71793.56095951,  71225.42605007,\n",
       "        87297.48267685,  91331.84878358,  75804.34180985,  84120.42811406,\n",
       "        78633.99405009,  72582.30851666,  76532.65953313,  70531.80388844,\n",
       "        66802.30910918,  71167.92061051,  74959.80099249,  86709.1910181 ,\n",
       "        69211.85857841,  70058.75841423,  86126.24228041,  75085.3488601 ,\n",
       "        72478.82566572,  69130.73091808,  90760.25657242,  71940.24236258,\n",
       "        67885.97880146,  90304.97740935,  69485.02287939,  67544.47112082,\n",
       "        93610.64320873,  77701.93254444,  76127.82360053,  65120.73698318,\n",
       "        70982.20354148,  72538.15440459,  67973.10632235,  76166.08838955,\n",
       "        89258.38977498,  84989.61674426,  75129.73646276,  73626.32969722,\n",
       "        74300.48048218,  73782.64583426,  70151.86727523,  69687.32788849,\n",
       "        68368.48905137,  76904.0887271 ,  68224.74003432,  71528.4405187 ,\n",
       "        74427.53407081,  74164.54736113,  88078.03401282,  71456.9618857 ,\n",
       "        88584.89108691,  71867.97463516,  73218.49617257,  71194.37323951,\n",
       "        89713.17002761,  68803.05829047,  74624.22639421,  75979.99472167,\n",
       "        71362.34319295,  82862.5982652 ,  70106.85349547,  91005.59265991,\n",
       "        66013.50545319,  71525.58591285,  70113.0823203 ,  98970.14806078,\n",
       "        70595.27725014,  92185.98486353,  70078.19404316,  76898.89429442,\n",
       "        71555.27177252,  69660.84374466,  67462.48550444,  68129.67552039,\n",
       "        69102.6962635 ,  70732.1351269 ,  93420.57637331,  65718.87592733,\n",
       "        97187.07786506,  73341.63199421,  64840.747695  ,  70172.8726918 ,\n",
       "        70497.73279493,  92798.18814475,  77846.74393272,  73199.77454713,\n",
       "        70402.91327586,  69579.21750511,  72253.79780805,  69837.61593897,\n",
       "        96618.04790849,  70667.48921897,  70474.54063763,  97073.49987929,\n",
       "        84024.17509905,  68771.07146236,  71528.33645154,  75122.38847863,\n",
       "        68510.57657853,  80604.10811821,  69505.78209968,  67960.069206  ,\n",
       "        75566.21826238,  68979.16320046,  90372.99658656,  72778.78668091,\n",
       "        67153.61493044,  71664.20887445,  73120.50983808,  69365.93933767,\n",
       "        71372.49853849,  69997.97347866,  93978.02686437,  71930.5071396 ,\n",
       "        73311.00543949,  89697.50969781,  69984.83671366,  74301.06703625,\n",
       "        71993.24253027,  80217.92509702,  71479.03792117,  69141.60349342,\n",
       "        72801.25784087,  86087.208327  ,  70797.2790907 ,  71126.63657099,\n",
       "        82707.7154086 ,  92922.00060919,  65926.88854795,  74571.85610641,\n",
       "        87254.05417285,  71223.34879972,  66139.12416734,  75165.76590609,\n",
       "        72127.62276613,  70509.13742501,  74085.04105138,  86126.24228041,\n",
       "        69553.7537885 ,  66645.08910262,  65785.00208755,  86099.73132517,\n",
       "        67862.49253453,  73389.46750542,  72440.46710856,  93447.68665056,\n",
       "        72476.84260629,  78974.41655156,  73077.29678562,  70701.30523434,\n",
       "        80178.35379073,  69482.16163934,  76328.80266232,  92739.32329138,\n",
       "        69979.08954064,  67918.41269832,  71454.93196128,  75550.96723541,\n",
       "        64203.93238031,  69634.61869976,  73462.70865821,  74214.01748571,\n",
       "        72476.84260629,  77177.92802616,  69267.0417539 ,  71061.42716968,\n",
       "        89546.77115075,  71672.71579261,  69947.90125398,  70037.43000277,\n",
       "        73877.7989944 ,  69696.86811936,  75474.59419891,  90163.71726544,\n",
       "        89848.06824282,  64802.63728933,  69353.94417016,  71346.81179047,\n",
       "        72742.17461426,  71996.343888  ,  68923.77542569,  88507.68043073,\n",
       "        90514.98082889,  85749.81673972,  83541.11750198,  78936.29719178,\n",
       "        71317.97288199,  76117.2612035 ,  76893.4322159 ,  72353.0165444 ,\n",
       "        70647.18519611,  70580.88228464,  71950.31538933,  73182.10150154,\n",
       "        72176.80547674,  77805.75351047,  66733.56445059,  71771.52623886,\n",
       "        76243.785934  ,  75215.71721794])"
      ]
     },
     "execution_count": 80,
     "metadata": {},
     "output_type": "execute_result"
    }
   ],
   "source": [
    "y_test_a"
   ]
  },
  {
   "cell_type": "code",
   "execution_count": 65,
   "id": "6e38f9ff",
   "metadata": {},
   "outputs": [],
   "source": [
    "y_train_a=lm_a.predict(x_train)"
   ]
  },
  {
   "cell_type": "code",
   "execution_count": null,
   "id": "83ce9fd3",
   "metadata": {},
   "outputs": [],
   "source": [
    "    '''pending'''\n",
    "from sklearn.metrics import accuracy_score,confusion_matrix\n",
    "confusion_matrix(y_test,lm_a.predict(x_test))"
   ]
  },
  {
   "cell_type": "code",
   "execution_count": 68,
   "id": "cbc6b693",
   "metadata": {},
   "outputs": [
    {
     "data": {
      "text/plain": [
       "0.4906973250819059"
      ]
     },
     "execution_count": 68,
     "metadata": {},
     "output_type": "execute_result"
    }
   ],
   "source": [
    "from sklearn.metrics import r2_score\n",
    "r2_score(y_test, y_test_a)\n",
    "r2_score(y_train,y_train_a)"
   ]
  },
  {
   "cell_type": "code",
   "execution_count": 69,
   "id": "e808df8b",
   "metadata": {},
   "outputs": [
    {
     "data": {
      "text/plain": [
       "0.4906973250819059"
      ]
     },
     "execution_count": 69,
     "metadata": {},
     "output_type": "execute_result"
    }
   ],
   "source": [
    "r2_score(y_train,y_train_a)"
   ]
  },
  {
   "cell_type": "code",
   "execution_count": 70,
   "id": "702c3e31",
   "metadata": {},
   "outputs": [],
   "source": [
    "from sklearn import preprocessing"
   ]
  },
  {
   "cell_type": "code",
   "execution_count": 71,
   "id": "e3eeaa40",
   "metadata": {},
   "outputs": [],
   "source": [
    "scaler = preprocessing.StandardScaler().fit(x_train)\n",
    "x_train1=scaler.transform(x_train)"
   ]
  },
  {
   "cell_type": "code",
   "execution_count": 72,
   "id": "9c3700f9",
   "metadata": {},
   "outputs": [],
   "source": [
    "x_test1=scaler.transform(x_test)"
   ]
  },
  {
   "cell_type": "code",
   "execution_count": 73,
   "id": "6e02fe0c",
   "metadata": {},
   "outputs": [],
   "source": [
    "from sklearn.linear_model import Ridge"
   ]
  },
  {
   "cell_type": "code",
   "execution_count": 76,
   "id": "ee8b8a98",
   "metadata": {},
   "outputs": [
    {
     "data": {
      "text/html": [
       "<div>\n",
       "<style scoped>\n",
       "    .dataframe tbody tr th:only-of-type {\n",
       "        vertical-align: middle;\n",
       "    }\n",
       "\n",
       "    .dataframe tbody tr th {\n",
       "        vertical-align: top;\n",
       "    }\n",
       "\n",
       "    .dataframe thead th {\n",
       "        text-align: right;\n",
       "    }\n",
       "</style>\n",
       "<table border=\"1\" class=\"dataframe\">\n",
       "  <thead>\n",
       "    <tr style=\"text-align: right;\">\n",
       "      <th></th>\n",
       "      <th>Previous CTC</th>\n",
       "      <th>Previous job change</th>\n",
       "      <th>Graduation Marks</th>\n",
       "      <th>EXP (Month)</th>\n",
       "      <th>College_Tier1</th>\n",
       "      <th>College_tier2</th>\n",
       "      <th>College_tier3</th>\n",
       "      <th>City_metrocity</th>\n",
       "      <th>City_non_metro_cities</th>\n",
       "      <th>Role_Executive</th>\n",
       "      <th>Role_Manager</th>\n",
       "    </tr>\n",
       "  </thead>\n",
       "  <tbody>\n",
       "    <tr>\n",
       "      <th>1062</th>\n",
       "      <td>61410</td>\n",
       "      <td>4</td>\n",
       "      <td>83</td>\n",
       "      <td>59</td>\n",
       "      <td>1</td>\n",
       "      <td>0</td>\n",
       "      <td>0</td>\n",
       "      <td>0</td>\n",
       "      <td>1</td>\n",
       "      <td>0</td>\n",
       "      <td>1</td>\n",
       "    </tr>\n",
       "    <tr>\n",
       "      <th>215</th>\n",
       "      <td>59781</td>\n",
       "      <td>1</td>\n",
       "      <td>46</td>\n",
       "      <td>54</td>\n",
       "      <td>1</td>\n",
       "      <td>0</td>\n",
       "      <td>0</td>\n",
       "      <td>1</td>\n",
       "      <td>0</td>\n",
       "      <td>1</td>\n",
       "      <td>0</td>\n",
       "    </tr>\n",
       "    <tr>\n",
       "      <th>654</th>\n",
       "      <td>62521</td>\n",
       "      <td>1</td>\n",
       "      <td>70</td>\n",
       "      <td>59</td>\n",
       "      <td>1</td>\n",
       "      <td>0</td>\n",
       "      <td>0</td>\n",
       "      <td>0</td>\n",
       "      <td>1</td>\n",
       "      <td>1</td>\n",
       "      <td>0</td>\n",
       "    </tr>\n",
       "    <tr>\n",
       "      <th>55</th>\n",
       "      <td>66624</td>\n",
       "      <td>1</td>\n",
       "      <td>63</td>\n",
       "      <td>58</td>\n",
       "      <td>1</td>\n",
       "      <td>0</td>\n",
       "      <td>0</td>\n",
       "      <td>0</td>\n",
       "      <td>1</td>\n",
       "      <td>0</td>\n",
       "      <td>1</td>\n",
       "    </tr>\n",
       "    <tr>\n",
       "      <th>1187</th>\n",
       "      <td>54621</td>\n",
       "      <td>2</td>\n",
       "      <td>52</td>\n",
       "      <td>62</td>\n",
       "      <td>0</td>\n",
       "      <td>0</td>\n",
       "      <td>1</td>\n",
       "      <td>0</td>\n",
       "      <td>1</td>\n",
       "      <td>1</td>\n",
       "      <td>0</td>\n",
       "    </tr>\n",
       "    <tr>\n",
       "      <th>...</th>\n",
       "      <td>...</td>\n",
       "      <td>...</td>\n",
       "      <td>...</td>\n",
       "      <td>...</td>\n",
       "      <td>...</td>\n",
       "      <td>...</td>\n",
       "      <td>...</td>\n",
       "      <td>...</td>\n",
       "      <td>...</td>\n",
       "      <td>...</td>\n",
       "      <td>...</td>\n",
       "    </tr>\n",
       "    <tr>\n",
       "      <th>763</th>\n",
       "      <td>54660</td>\n",
       "      <td>3</td>\n",
       "      <td>43</td>\n",
       "      <td>54</td>\n",
       "      <td>0</td>\n",
       "      <td>1</td>\n",
       "      <td>0</td>\n",
       "      <td>0</td>\n",
       "      <td>1</td>\n",
       "      <td>1</td>\n",
       "      <td>0</td>\n",
       "    </tr>\n",
       "    <tr>\n",
       "      <th>835</th>\n",
       "      <td>58049</td>\n",
       "      <td>2</td>\n",
       "      <td>51</td>\n",
       "      <td>54</td>\n",
       "      <td>1</td>\n",
       "      <td>0</td>\n",
       "      <td>0</td>\n",
       "      <td>1</td>\n",
       "      <td>0</td>\n",
       "      <td>1</td>\n",
       "      <td>0</td>\n",
       "    </tr>\n",
       "    <tr>\n",
       "      <th>1216</th>\n",
       "      <td>52744</td>\n",
       "      <td>4</td>\n",
       "      <td>80</td>\n",
       "      <td>54</td>\n",
       "      <td>0</td>\n",
       "      <td>0</td>\n",
       "      <td>1</td>\n",
       "      <td>1</td>\n",
       "      <td>0</td>\n",
       "      <td>1</td>\n",
       "      <td>0</td>\n",
       "    </tr>\n",
       "    <tr>\n",
       "      <th>559</th>\n",
       "      <td>56519</td>\n",
       "      <td>1</td>\n",
       "      <td>64</td>\n",
       "      <td>54</td>\n",
       "      <td>1</td>\n",
       "      <td>0</td>\n",
       "      <td>0</td>\n",
       "      <td>0</td>\n",
       "      <td>1</td>\n",
       "      <td>1</td>\n",
       "      <td>0</td>\n",
       "    </tr>\n",
       "    <tr>\n",
       "      <th>684</th>\n",
       "      <td>40632</td>\n",
       "      <td>2</td>\n",
       "      <td>61</td>\n",
       "      <td>54</td>\n",
       "      <td>1</td>\n",
       "      <td>0</td>\n",
       "      <td>0</td>\n",
       "      <td>1</td>\n",
       "      <td>0</td>\n",
       "      <td>1</td>\n",
       "      <td>0</td>\n",
       "    </tr>\n",
       "  </tbody>\n",
       "</table>\n",
       "<p>1271 rows × 11 columns</p>\n",
       "</div>"
      ],
      "text/plain": [
       "      Previous CTC  Previous job change  Graduation Marks  EXP (Month)  \\\n",
       "1062         61410                    4                83           59   \n",
       "215          59781                    1                46           54   \n",
       "654          62521                    1                70           59   \n",
       "55           66624                    1                63           58   \n",
       "1187         54621                    2                52           62   \n",
       "...            ...                  ...               ...          ...   \n",
       "763          54660                    3                43           54   \n",
       "835          58049                    2                51           54   \n",
       "1216         52744                    4                80           54   \n",
       "559          56519                    1                64           54   \n",
       "684          40632                    2                61           54   \n",
       "\n",
       "      College_Tier1  College_tier2  College_tier3  City_metrocity  \\\n",
       "1062              1              0              0               0   \n",
       "215               1              0              0               1   \n",
       "654               1              0              0               0   \n",
       "55                1              0              0               0   \n",
       "1187              0              0              1               0   \n",
       "...             ...            ...            ...             ...   \n",
       "763               0              1              0               0   \n",
       "835               1              0              0               1   \n",
       "1216              0              0              1               1   \n",
       "559               1              0              0               0   \n",
       "684               1              0              0               1   \n",
       "\n",
       "      City_non_metro_cities  Role_Executive  Role_Manager  \n",
       "1062                      1               0             1  \n",
       "215                       0               1             0  \n",
       "654                       1               1             0  \n",
       "55                        1               0             1  \n",
       "1187                      1               1             0  \n",
       "...                     ...             ...           ...  \n",
       "763                       1               1             0  \n",
       "835                       0               1             0  \n",
       "1216                      0               1             0  \n",
       "559                       1               1             0  \n",
       "684                       0               1             0  \n",
       "\n",
       "[1271 rows x 11 columns]"
      ]
     },
     "execution_count": 76,
     "metadata": {},
     "output_type": "execute_result"
    }
   ],
   "source": [
    "lm_r=Ridge(alpha=0.1)\n",
    "lm_r.fit(x_train1,y_train)\n",
    "x_train"
   ]
  },
  {
   "cell_type": "code",
   "execution_count": 75,
   "id": "87177841",
   "metadata": {},
   "outputs": [
    {
     "data": {
      "text/plain": [
       "0.48266183461467194"
      ]
     },
     "execution_count": 75,
     "metadata": {},
     "output_type": "execute_result"
    }
   ],
   "source": [
    "r2_score(y_test,lm_r.predict(x_test1))"
   ]
  },
  {
   "cell_type": "code",
   "execution_count": null,
   "id": "140a1c92",
   "metadata": {},
   "outputs": [],
   "source": []
  },
  {
   "cell_type": "code",
   "execution_count": null,
   "id": "ea59c416",
   "metadata": {},
   "outputs": [],
   "source": []
  },
  {
   "cell_type": "code",
   "execution_count": null,
   "id": "452c5934",
   "metadata": {},
   "outputs": [],
   "source": []
  },
  {
   "cell_type": "code",
   "execution_count": null,
   "id": "58a75884",
   "metadata": {},
   "outputs": [],
   "source": []
  },
  {
   "cell_type": "code",
   "execution_count": null,
   "id": "e675b281",
   "metadata": {},
   "outputs": [],
   "source": []
  },
  {
   "cell_type": "markdown",
   "id": "0215fd2a",
   "metadata": {},
   "source": [
    "# logistic Regression Model"
   ]
  },
  {
   "cell_type": "code",
   "execution_count": 333,
   "id": "b5f91a41",
   "metadata": {},
   "outputs": [],
   "source": [
    "# simple logistic Regression Model\n",
    "from sklearn.linear_model import LogisticRegression"
   ]
  },
  {
   "cell_type": "code",
   "execution_count": 311,
   "id": "ae2b634f",
   "metadata": {},
   "outputs": [],
   "source": [
    "x=df[[\"Previous job change\"]]"
   ]
  },
  {
   "cell_type": "code",
   "execution_count": 312,
   "id": "6bb8394e",
   "metadata": {},
   "outputs": [],
   "source": [
    "y=df[\"CTC\"]"
   ]
  },
  {
   "cell_type": "code",
   "execution_count": 313,
   "id": "9dbb72e6",
   "metadata": {},
   "outputs": [],
   "source": [
    "mk=LogisticRegression()"
   ]
  },
  {
   "cell_type": "code",
   "execution_count": 314,
   "id": "81317f1a",
   "metadata": {},
   "outputs": [
    {
     "data": {
      "text/html": [
       "<style>#sk-container-id-19 {color: black;}#sk-container-id-19 pre{padding: 0;}#sk-container-id-19 div.sk-toggleable {background-color: white;}#sk-container-id-19 label.sk-toggleable__label {cursor: pointer;display: block;width: 100%;margin-bottom: 0;padding: 0.3em;box-sizing: border-box;text-align: center;}#sk-container-id-19 label.sk-toggleable__label-arrow:before {content: \"▸\";float: left;margin-right: 0.25em;color: #696969;}#sk-container-id-19 label.sk-toggleable__label-arrow:hover:before {color: black;}#sk-container-id-19 div.sk-estimator:hover label.sk-toggleable__label-arrow:before {color: black;}#sk-container-id-19 div.sk-toggleable__content {max-height: 0;max-width: 0;overflow: hidden;text-align: left;background-color: #f0f8ff;}#sk-container-id-19 div.sk-toggleable__content pre {margin: 0.2em;color: black;border-radius: 0.25em;background-color: #f0f8ff;}#sk-container-id-19 input.sk-toggleable__control:checked~div.sk-toggleable__content {max-height: 200px;max-width: 100%;overflow: auto;}#sk-container-id-19 input.sk-toggleable__control:checked~label.sk-toggleable__label-arrow:before {content: \"▾\";}#sk-container-id-19 div.sk-estimator input.sk-toggleable__control:checked~label.sk-toggleable__label {background-color: #d4ebff;}#sk-container-id-19 div.sk-label input.sk-toggleable__control:checked~label.sk-toggleable__label {background-color: #d4ebff;}#sk-container-id-19 input.sk-hidden--visually {border: 0;clip: rect(1px 1px 1px 1px);clip: rect(1px, 1px, 1px, 1px);height: 1px;margin: -1px;overflow: hidden;padding: 0;position: absolute;width: 1px;}#sk-container-id-19 div.sk-estimator {font-family: monospace;background-color: #f0f8ff;border: 1px dotted black;border-radius: 0.25em;box-sizing: border-box;margin-bottom: 0.5em;}#sk-container-id-19 div.sk-estimator:hover {background-color: #d4ebff;}#sk-container-id-19 div.sk-parallel-item::after {content: \"\";width: 100%;border-bottom: 1px solid gray;flex-grow: 1;}#sk-container-id-19 div.sk-label:hover label.sk-toggleable__label {background-color: #d4ebff;}#sk-container-id-19 div.sk-serial::before {content: \"\";position: absolute;border-left: 1px solid gray;box-sizing: border-box;top: 0;bottom: 0;left: 50%;z-index: 0;}#sk-container-id-19 div.sk-serial {display: flex;flex-direction: column;align-items: center;background-color: white;padding-right: 0.2em;padding-left: 0.2em;position: relative;}#sk-container-id-19 div.sk-item {position: relative;z-index: 1;}#sk-container-id-19 div.sk-parallel {display: flex;align-items: stretch;justify-content: center;background-color: white;position: relative;}#sk-container-id-19 div.sk-item::before, #sk-container-id-19 div.sk-parallel-item::before {content: \"\";position: absolute;border-left: 1px solid gray;box-sizing: border-box;top: 0;bottom: 0;left: 50%;z-index: -1;}#sk-container-id-19 div.sk-parallel-item {display: flex;flex-direction: column;z-index: 1;position: relative;background-color: white;}#sk-container-id-19 div.sk-parallel-item:first-child::after {align-self: flex-end;width: 50%;}#sk-container-id-19 div.sk-parallel-item:last-child::after {align-self: flex-start;width: 50%;}#sk-container-id-19 div.sk-parallel-item:only-child::after {width: 0;}#sk-container-id-19 div.sk-dashed-wrapped {border: 1px dashed gray;margin: 0 0.4em 0.5em 0.4em;box-sizing: border-box;padding-bottom: 0.4em;background-color: white;}#sk-container-id-19 div.sk-label label {font-family: monospace;font-weight: bold;display: inline-block;line-height: 1.2em;}#sk-container-id-19 div.sk-label-container {text-align: center;}#sk-container-id-19 div.sk-container {/* jupyter's `normalize.less` sets `[hidden] { display: none; }` but bootstrap.min.css set `[hidden] { display: none !important; }` so we also need the `!important` here to be able to override the default hidden behavior on the sphinx rendered scikit-learn.org. See: https://github.com/scikit-learn/scikit-learn/issues/21755 */display: inline-block !important;position: relative;}#sk-container-id-19 div.sk-text-repr-fallback {display: none;}</style><div id=\"sk-container-id-19\" class=\"sk-top-container\"><div class=\"sk-text-repr-fallback\"><pre>LogisticRegression()</pre><b>In a Jupyter environment, please rerun this cell to show the HTML representation or trust the notebook. <br />On GitHub, the HTML representation is unable to render, please try loading this page with nbviewer.org.</b></div><div class=\"sk-container\" hidden><div class=\"sk-item\"><div class=\"sk-estimator sk-toggleable\"><input class=\"sk-toggleable__control sk-hidden--visually\" id=\"sk-estimator-id-23\" type=\"checkbox\" checked><label for=\"sk-estimator-id-23\" class=\"sk-toggleable__label sk-toggleable__label-arrow\">LogisticRegression</label><div class=\"sk-toggleable__content\"><pre>LogisticRegression()</pre></div></div></div></div></div>"
      ],
      "text/plain": [
       "LogisticRegression()"
      ]
     },
     "execution_count": 314,
     "metadata": {},
     "output_type": "execute_result"
    }
   ],
   "source": [
    "mk.fit(x,y)"
   ]
  },
  {
   "cell_type": "code",
   "execution_count": 315,
   "id": "0904649e",
   "metadata": {},
   "outputs": [
    {
     "name": "stdout",
     "output_type": "stream",
     "text": [
      "[ 0.66716403  2.91164332  1.69049017 ... -2.12395326  1.69049017\n",
      "  1.69049017] [[-0.25709639]\n",
      " [-1.08816649]\n",
      " [-0.76853477]\n",
      " ...\n",
      " [ 0.74481711]\n",
      " [-0.76853477]\n",
      " [-0.76853477]]\n"
     ]
    }
   ],
   "source": [
    "print(mk.intercept_,mk.coef_)"
   ]
  },
  {
   "cell_type": "code",
   "execution_count": 317,
   "id": "998bf56f",
   "metadata": {},
   "outputs": [],
   "source": [
    "# Multi  logistic Regression Model\n",
    "x_multi=df.drop(\"CTC\",axis=1)"
   ]
  },
  {
   "cell_type": "code",
   "execution_count": 318,
   "id": "b122755f",
   "metadata": {},
   "outputs": [],
   "source": [
    "y=df[\"CTC\"]"
   ]
  },
  {
   "cell_type": "code",
   "execution_count": 319,
   "id": "36f9b4a0",
   "metadata": {},
   "outputs": [],
   "source": [
    "from sklearn.model_selection import train_test_split"
   ]
  },
  {
   "cell_type": "code",
   "execution_count": 320,
   "id": "78d47472",
   "metadata": {},
   "outputs": [],
   "source": [
    "x_train,x_test,y_train,y_test=train_test_split(x_multi,y_multi,test_size=0.2,random_state=0)"
   ]
  },
  {
   "cell_type": "code",
   "execution_count": 321,
   "id": "3ee1c4a7",
   "metadata": {},
   "outputs": [
    {
     "name": "stdout",
     "output_type": "stream",
     "text": [
      "(1271, 11) (318, 11) (1271,) (318,)\n"
     ]
    }
   ],
   "source": [
    "print(x_train.shape,x_test.shape,y_train.shape,y_test.shape)"
   ]
  },
  {
   "cell_type": "code",
   "execution_count": 322,
   "id": "9f4707a2",
   "metadata": {},
   "outputs": [],
   "source": [
    "lm_r=LogisticRegression()"
   ]
  },
  {
   "cell_type": "code",
   "execution_count": 323,
   "id": "180927b1",
   "metadata": {},
   "outputs": [
    {
     "name": "stderr",
     "output_type": "stream",
     "text": [
      "C:\\Users\\vasala harinadha\\anaconda3\\Lib\\site-packages\\sklearn\\linear_model\\_logistic.py:460: ConvergenceWarning: lbfgs failed to converge (status=1):\n",
      "STOP: TOTAL NO. of ITERATIONS REACHED LIMIT.\n",
      "\n",
      "Increase the number of iterations (max_iter) or scale the data as shown in:\n",
      "    https://scikit-learn.org/stable/modules/preprocessing.html\n",
      "Please also refer to the documentation for alternative solver options:\n",
      "    https://scikit-learn.org/stable/modules/linear_model.html#logistic-regression\n",
      "  n_iter_i = _check_optimize_result(\n"
     ]
    },
    {
     "data": {
      "text/html": [
       "<style>#sk-container-id-20 {color: black;}#sk-container-id-20 pre{padding: 0;}#sk-container-id-20 div.sk-toggleable {background-color: white;}#sk-container-id-20 label.sk-toggleable__label {cursor: pointer;display: block;width: 100%;margin-bottom: 0;padding: 0.3em;box-sizing: border-box;text-align: center;}#sk-container-id-20 label.sk-toggleable__label-arrow:before {content: \"▸\";float: left;margin-right: 0.25em;color: #696969;}#sk-container-id-20 label.sk-toggleable__label-arrow:hover:before {color: black;}#sk-container-id-20 div.sk-estimator:hover label.sk-toggleable__label-arrow:before {color: black;}#sk-container-id-20 div.sk-toggleable__content {max-height: 0;max-width: 0;overflow: hidden;text-align: left;background-color: #f0f8ff;}#sk-container-id-20 div.sk-toggleable__content pre {margin: 0.2em;color: black;border-radius: 0.25em;background-color: #f0f8ff;}#sk-container-id-20 input.sk-toggleable__control:checked~div.sk-toggleable__content {max-height: 200px;max-width: 100%;overflow: auto;}#sk-container-id-20 input.sk-toggleable__control:checked~label.sk-toggleable__label-arrow:before {content: \"▾\";}#sk-container-id-20 div.sk-estimator input.sk-toggleable__control:checked~label.sk-toggleable__label {background-color: #d4ebff;}#sk-container-id-20 div.sk-label input.sk-toggleable__control:checked~label.sk-toggleable__label {background-color: #d4ebff;}#sk-container-id-20 input.sk-hidden--visually {border: 0;clip: rect(1px 1px 1px 1px);clip: rect(1px, 1px, 1px, 1px);height: 1px;margin: -1px;overflow: hidden;padding: 0;position: absolute;width: 1px;}#sk-container-id-20 div.sk-estimator {font-family: monospace;background-color: #f0f8ff;border: 1px dotted black;border-radius: 0.25em;box-sizing: border-box;margin-bottom: 0.5em;}#sk-container-id-20 div.sk-estimator:hover {background-color: #d4ebff;}#sk-container-id-20 div.sk-parallel-item::after {content: \"\";width: 100%;border-bottom: 1px solid gray;flex-grow: 1;}#sk-container-id-20 div.sk-label:hover label.sk-toggleable__label {background-color: #d4ebff;}#sk-container-id-20 div.sk-serial::before {content: \"\";position: absolute;border-left: 1px solid gray;box-sizing: border-box;top: 0;bottom: 0;left: 50%;z-index: 0;}#sk-container-id-20 div.sk-serial {display: flex;flex-direction: column;align-items: center;background-color: white;padding-right: 0.2em;padding-left: 0.2em;position: relative;}#sk-container-id-20 div.sk-item {position: relative;z-index: 1;}#sk-container-id-20 div.sk-parallel {display: flex;align-items: stretch;justify-content: center;background-color: white;position: relative;}#sk-container-id-20 div.sk-item::before, #sk-container-id-20 div.sk-parallel-item::before {content: \"\";position: absolute;border-left: 1px solid gray;box-sizing: border-box;top: 0;bottom: 0;left: 50%;z-index: -1;}#sk-container-id-20 div.sk-parallel-item {display: flex;flex-direction: column;z-index: 1;position: relative;background-color: white;}#sk-container-id-20 div.sk-parallel-item:first-child::after {align-self: flex-end;width: 50%;}#sk-container-id-20 div.sk-parallel-item:last-child::after {align-self: flex-start;width: 50%;}#sk-container-id-20 div.sk-parallel-item:only-child::after {width: 0;}#sk-container-id-20 div.sk-dashed-wrapped {border: 1px dashed gray;margin: 0 0.4em 0.5em 0.4em;box-sizing: border-box;padding-bottom: 0.4em;background-color: white;}#sk-container-id-20 div.sk-label label {font-family: monospace;font-weight: bold;display: inline-block;line-height: 1.2em;}#sk-container-id-20 div.sk-label-container {text-align: center;}#sk-container-id-20 div.sk-container {/* jupyter's `normalize.less` sets `[hidden] { display: none; }` but bootstrap.min.css set `[hidden] { display: none !important; }` so we also need the `!important` here to be able to override the default hidden behavior on the sphinx rendered scikit-learn.org. See: https://github.com/scikit-learn/scikit-learn/issues/21755 */display: inline-block !important;position: relative;}#sk-container-id-20 div.sk-text-repr-fallback {display: none;}</style><div id=\"sk-container-id-20\" class=\"sk-top-container\"><div class=\"sk-text-repr-fallback\"><pre>LogisticRegression()</pre><b>In a Jupyter environment, please rerun this cell to show the HTML representation or trust the notebook. <br />On GitHub, the HTML representation is unable to render, please try loading this page with nbviewer.org.</b></div><div class=\"sk-container\" hidden><div class=\"sk-item\"><div class=\"sk-estimator sk-toggleable\"><input class=\"sk-toggleable__control sk-hidden--visually\" id=\"sk-estimator-id-24\" type=\"checkbox\" checked><label for=\"sk-estimator-id-24\" class=\"sk-toggleable__label sk-toggleable__label-arrow\">LogisticRegression</label><div class=\"sk-toggleable__content\"><pre>LogisticRegression()</pre></div></div></div></div></div>"
      ],
      "text/plain": [
       "LogisticRegression()"
      ]
     },
     "execution_count": 323,
     "metadata": {},
     "output_type": "execute_result"
    }
   ],
   "source": [
    "lm_r.fit(x_train,y_train)"
   ]
  },
  {
   "cell_type": "code",
   "execution_count": 325,
   "id": "f8453a69",
   "metadata": {},
   "outputs": [
    {
     "name": "stdout",
     "output_type": "stream",
     "text": [
      "[ 0.00024855 -0.00153934 -0.00047614 ... -0.00122403 -0.00485387\n",
      " -0.00133201] [[ 6.07750890e-04 -4.41686003e-02 -6.66829534e-01 ... -1.41278039e-02\n",
      "   6.27074811e-03 -6.02220229e-03]\n",
      " [ 3.11193159e-04 -2.62870976e-02 -1.70652954e-01 ...  6.69114678e-03\n",
      "   1.80798697e-03 -3.34732939e-03]\n",
      " [ 4.54555006e-04  1.23306624e-02 -3.88921831e-01 ...  1.03997487e-04\n",
      "   5.69784155e-03 -6.17397671e-03]\n",
      " ...\n",
      " [ 4.43764457e-04  1.82662933e-02 -3.56120472e-01 ... -7.73958229e-03\n",
      "  -1.25270372e-02  1.13030098e-02]\n",
      " [ 3.73030913e-04 -3.46949849e-02 -6.10007965e-02 ... -9.50952698e-03\n",
      "  -1.53991931e-02  1.05453243e-02]\n",
      " [ 3.76730912e-04 -2.57612104e-02 -2.60439044e-01 ...  6.79228425e-03\n",
      "  -1.26124863e-02  1.12804774e-02]]\n"
     ]
    }
   ],
   "source": [
    "print(lm_r.intercept_,lm_r.coef_)"
   ]
  },
  {
   "cell_type": "code",
   "execution_count": 326,
   "id": "bfc45bb0",
   "metadata": {},
   "outputs": [],
   "source": [
    "y_test_a=lm_r.predict(x_test)"
   ]
  },
  {
   "cell_type": "code",
   "execution_count": 327,
   "id": "092dcce3",
   "metadata": {},
   "outputs": [],
   "source": [
    "y_train_a=lm_r.predict(x_train)"
   ]
  },
  {
   "cell_type": "code",
   "execution_count": 328,
   "id": "636cd06d",
   "metadata": {},
   "outputs": [
    {
     "data": {
      "text/plain": [
       "-0.7402095343912529"
      ]
     },
     "execution_count": 328,
     "metadata": {},
     "output_type": "execute_result"
    }
   ],
   "source": [
    "from sklearn.metrics import r2_score\n",
    "r2_score(y_test, y_test_a)\n",
    "r2_score(y_train,y_train_a)"
   ]
  },
  {
   "cell_type": "code",
   "execution_count": 329,
   "id": "e59a8853",
   "metadata": {},
   "outputs": [
    {
     "data": {
      "text/plain": [
       "-0.7402095343912529"
      ]
     },
     "execution_count": 329,
     "metadata": {},
     "output_type": "execute_result"
    }
   ],
   "source": [
    "r2_score(y_train,y_train_a)"
   ]
  },
  {
   "cell_type": "code",
   "execution_count": null,
   "id": "a62acc3f",
   "metadata": {},
   "outputs": [],
   "source": []
  },
  {
   "cell_type": "code",
   "execution_count": 78,
   "id": "33f54d65",
   "metadata": {},
   "outputs": [
    {
     "data": {
      "text/html": [
       "<div>\n",
       "<style scoped>\n",
       "    .dataframe tbody tr th:only-of-type {\n",
       "        vertical-align: middle;\n",
       "    }\n",
       "\n",
       "    .dataframe tbody tr th {\n",
       "        vertical-align: top;\n",
       "    }\n",
       "\n",
       "    .dataframe thead th {\n",
       "        text-align: right;\n",
       "    }\n",
       "</style>\n",
       "<table border=\"1\" class=\"dataframe\">\n",
       "  <thead>\n",
       "    <tr style=\"text-align: right;\">\n",
       "      <th></th>\n",
       "      <th>Previous CTC</th>\n",
       "      <th>Previous job change</th>\n",
       "      <th>Graduation Marks</th>\n",
       "      <th>EXP (Month)</th>\n",
       "      <th>CTC</th>\n",
       "      <th>College_Tier1</th>\n",
       "      <th>College_tier2</th>\n",
       "      <th>College_tier3</th>\n",
       "      <th>City_metrocity</th>\n",
       "      <th>City_non_metro_cities</th>\n",
       "      <th>Role_Executive</th>\n",
       "      <th>Role_Manager</th>\n",
       "    </tr>\n",
       "  </thead>\n",
       "  <tbody>\n",
       "    <tr>\n",
       "      <th>0</th>\n",
       "      <td>55523</td>\n",
       "      <td>3</td>\n",
       "      <td>66</td>\n",
       "      <td>54</td>\n",
       "      <td>71406</td>\n",
       "      <td>0</td>\n",
       "      <td>1</td>\n",
       "      <td>0</td>\n",
       "      <td>0</td>\n",
       "      <td>1</td>\n",
       "      <td>0</td>\n",
       "      <td>1</td>\n",
       "    </tr>\n",
       "    <tr>\n",
       "      <th>1</th>\n",
       "      <td>57081</td>\n",
       "      <td>1</td>\n",
       "      <td>84</td>\n",
       "      <td>54</td>\n",
       "      <td>68005</td>\n",
       "      <td>0</td>\n",
       "      <td>1</td>\n",
       "      <td>0</td>\n",
       "      <td>0</td>\n",
       "      <td>1</td>\n",
       "      <td>1</td>\n",
       "      <td>0</td>\n",
       "    </tr>\n",
       "    <tr>\n",
       "      <th>2</th>\n",
       "      <td>60347</td>\n",
       "      <td>2</td>\n",
       "      <td>52</td>\n",
       "      <td>54</td>\n",
       "      <td>76764</td>\n",
       "      <td>0</td>\n",
       "      <td>0</td>\n",
       "      <td>1</td>\n",
       "      <td>0</td>\n",
       "      <td>1</td>\n",
       "      <td>1</td>\n",
       "      <td>0</td>\n",
       "    </tr>\n",
       "    <tr>\n",
       "      <th>3</th>\n",
       "      <td>49010</td>\n",
       "      <td>2</td>\n",
       "      <td>81</td>\n",
       "      <td>54</td>\n",
       "      <td>82092</td>\n",
       "      <td>0</td>\n",
       "      <td>0</td>\n",
       "      <td>1</td>\n",
       "      <td>0</td>\n",
       "      <td>1</td>\n",
       "      <td>1</td>\n",
       "      <td>0</td>\n",
       "    </tr>\n",
       "    <tr>\n",
       "      <th>4</th>\n",
       "      <td>57879</td>\n",
       "      <td>4</td>\n",
       "      <td>74</td>\n",
       "      <td>54</td>\n",
       "      <td>73878</td>\n",
       "      <td>1</td>\n",
       "      <td>0</td>\n",
       "      <td>0</td>\n",
       "      <td>0</td>\n",
       "      <td>1</td>\n",
       "      <td>1</td>\n",
       "      <td>0</td>\n",
       "    </tr>\n",
       "  </tbody>\n",
       "</table>\n",
       "</div>"
      ],
      "text/plain": [
       "   Previous CTC  Previous job change  Graduation Marks  EXP (Month)    CTC  \\\n",
       "0         55523                    3                66           54  71406   \n",
       "1         57081                    1                84           54  68005   \n",
       "2         60347                    2                52           54  76764   \n",
       "3         49010                    2                81           54  82092   \n",
       "4         57879                    4                74           54  73878   \n",
       "\n",
       "   College_Tier1  College_tier2  College_tier3  City_metrocity  \\\n",
       "0              0              1              0               0   \n",
       "1              0              1              0               0   \n",
       "2              0              0              1               0   \n",
       "3              0              0              1               0   \n",
       "4              1              0              0               0   \n",
       "\n",
       "   City_non_metro_cities  Role_Executive  Role_Manager  \n",
       "0                      1               0             1  \n",
       "1                      1               1             0  \n",
       "2                      1               1             0  \n",
       "3                      1               1             0  \n",
       "4                      1               1             0  "
      ]
     },
     "execution_count": 78,
     "metadata": {},
     "output_type": "execute_result"
    }
   ],
   "source": [
    "df.head()"
   ]
  },
  {
   "cell_type": "markdown",
   "id": "0f6500f5",
   "metadata": {},
   "source": [
    "# KNN"
   ]
  },
  {
   "cell_type": "code",
   "execution_count": 82,
   "id": "5fa2ac96",
   "metadata": {},
   "outputs": [
    {
     "data": {
      "text/html": [
       "<div>\n",
       "<style scoped>\n",
       "    .dataframe tbody tr th:only-of-type {\n",
       "        vertical-align: middle;\n",
       "    }\n",
       "\n",
       "    .dataframe tbody tr th {\n",
       "        vertical-align: top;\n",
       "    }\n",
       "\n",
       "    .dataframe thead th {\n",
       "        text-align: right;\n",
       "    }\n",
       "</style>\n",
       "<table border=\"1\" class=\"dataframe\">\n",
       "  <thead>\n",
       "    <tr style=\"text-align: right;\">\n",
       "      <th></th>\n",
       "      <th>Previous CTC</th>\n",
       "      <th>Previous job change</th>\n",
       "      <th>Graduation Marks</th>\n",
       "      <th>EXP (Month)</th>\n",
       "      <th>CTC</th>\n",
       "      <th>College_Tier1</th>\n",
       "      <th>College_tier2</th>\n",
       "      <th>College_tier3</th>\n",
       "      <th>City_metrocity</th>\n",
       "      <th>City_non_metro_cities</th>\n",
       "      <th>Role_Executive</th>\n",
       "      <th>Role_Manager</th>\n",
       "    </tr>\n",
       "  </thead>\n",
       "  <tbody>\n",
       "    <tr>\n",
       "      <th>0</th>\n",
       "      <td>55523</td>\n",
       "      <td>3</td>\n",
       "      <td>66</td>\n",
       "      <td>54</td>\n",
       "      <td>71406</td>\n",
       "      <td>0</td>\n",
       "      <td>1</td>\n",
       "      <td>0</td>\n",
       "      <td>0</td>\n",
       "      <td>1</td>\n",
       "      <td>0</td>\n",
       "      <td>1</td>\n",
       "    </tr>\n",
       "    <tr>\n",
       "      <th>1</th>\n",
       "      <td>57081</td>\n",
       "      <td>1</td>\n",
       "      <td>84</td>\n",
       "      <td>54</td>\n",
       "      <td>68005</td>\n",
       "      <td>0</td>\n",
       "      <td>1</td>\n",
       "      <td>0</td>\n",
       "      <td>0</td>\n",
       "      <td>1</td>\n",
       "      <td>1</td>\n",
       "      <td>0</td>\n",
       "    </tr>\n",
       "    <tr>\n",
       "      <th>2</th>\n",
       "      <td>60347</td>\n",
       "      <td>2</td>\n",
       "      <td>52</td>\n",
       "      <td>54</td>\n",
       "      <td>76764</td>\n",
       "      <td>0</td>\n",
       "      <td>0</td>\n",
       "      <td>1</td>\n",
       "      <td>0</td>\n",
       "      <td>1</td>\n",
       "      <td>1</td>\n",
       "      <td>0</td>\n",
       "    </tr>\n",
       "    <tr>\n",
       "      <th>3</th>\n",
       "      <td>49010</td>\n",
       "      <td>2</td>\n",
       "      <td>81</td>\n",
       "      <td>54</td>\n",
       "      <td>82092</td>\n",
       "      <td>0</td>\n",
       "      <td>0</td>\n",
       "      <td>1</td>\n",
       "      <td>0</td>\n",
       "      <td>1</td>\n",
       "      <td>1</td>\n",
       "      <td>0</td>\n",
       "    </tr>\n",
       "    <tr>\n",
       "      <th>4</th>\n",
       "      <td>57879</td>\n",
       "      <td>4</td>\n",
       "      <td>74</td>\n",
       "      <td>54</td>\n",
       "      <td>73878</td>\n",
       "      <td>1</td>\n",
       "      <td>0</td>\n",
       "      <td>0</td>\n",
       "      <td>0</td>\n",
       "      <td>1</td>\n",
       "      <td>1</td>\n",
       "      <td>0</td>\n",
       "    </tr>\n",
       "  </tbody>\n",
       "</table>\n",
       "</div>"
      ],
      "text/plain": [
       "   Previous CTC  Previous job change  Graduation Marks  EXP (Month)    CTC  \\\n",
       "0         55523                    3                66           54  71406   \n",
       "1         57081                    1                84           54  68005   \n",
       "2         60347                    2                52           54  76764   \n",
       "3         49010                    2                81           54  82092   \n",
       "4         57879                    4                74           54  73878   \n",
       "\n",
       "   College_Tier1  College_tier2  College_tier3  City_metrocity  \\\n",
       "0              0              1              0               0   \n",
       "1              0              1              0               0   \n",
       "2              0              0              1               0   \n",
       "3              0              0              1               0   \n",
       "4              1              0              0               0   \n",
       "\n",
       "   City_non_metro_cities  Role_Executive  Role_Manager  \n",
       "0                      1               0             1  \n",
       "1                      1               1             0  \n",
       "2                      1               1             0  \n",
       "3                      1               1             0  \n",
       "4                      1               1             0  "
      ]
     },
     "execution_count": 82,
     "metadata": {},
     "output_type": "execute_result"
    }
   ],
   "source": [
    "df.head()"
   ]
  },
  {
   "cell_type": "code",
   "execution_count": 83,
   "id": "2be7b3db",
   "metadata": {},
   "outputs": [],
   "source": [
    "x_multi=df.drop(\"CTC\",axis=1)"
   ]
  },
  {
   "cell_type": "code",
   "execution_count": 84,
   "id": "2911b08a",
   "metadata": {},
   "outputs": [],
   "source": [
    "y_multi=df[\"CTC\"]"
   ]
  },
  {
   "cell_type": "code",
   "execution_count": 85,
   "id": "5e3248c3",
   "metadata": {},
   "outputs": [],
   "source": [
    "x_train,x_test,y_train,y_test=train_test_split(x_multi,y_multi,test_size=0.2,random_state=0)"
   ]
  },
  {
   "cell_type": "code",
   "execution_count": 86,
   "id": "d87191bc",
   "metadata": {},
   "outputs": [
    {
     "name": "stdout",
     "output_type": "stream",
     "text": [
      "(1271, 11) (318, 11) (1271,) (318,)\n"
     ]
    }
   ],
   "source": [
    "print(x_train.shape,x_test.shape,y_train.shape,y_test.shape)"
   ]
  },
  {
   "cell_type": "code",
   "execution_count": 82,
   "id": "30a94291",
   "metadata": {},
   "outputs": [],
   "source": [
    "from sklearn import preprocessing\n",
    "scalr=preprocessing.StandardScaler().fit(x_train)\n",
    "x_train_s=scaler.transform(x_train)"
   ]
  },
  {
   "cell_type": "code",
   "execution_count": 83,
   "id": "d584581d",
   "metadata": {},
   "outputs": [],
   "source": [
    "scaler=preprocessing.StandardScaler().fit(x_test)\n",
    "x_test_s=scaler.transform(x_test)"
   ]
  },
  {
   "cell_type": "code",
   "execution_count": 84,
   "id": "6e8cea71",
   "metadata": {},
   "outputs": [
    {
     "data": {
      "text/html": [
       "<style>#sk-container-id-5 {color: black;}#sk-container-id-5 pre{padding: 0;}#sk-container-id-5 div.sk-toggleable {background-color: white;}#sk-container-id-5 label.sk-toggleable__label {cursor: pointer;display: block;width: 100%;margin-bottom: 0;padding: 0.3em;box-sizing: border-box;text-align: center;}#sk-container-id-5 label.sk-toggleable__label-arrow:before {content: \"▸\";float: left;margin-right: 0.25em;color: #696969;}#sk-container-id-5 label.sk-toggleable__label-arrow:hover:before {color: black;}#sk-container-id-5 div.sk-estimator:hover label.sk-toggleable__label-arrow:before {color: black;}#sk-container-id-5 div.sk-toggleable__content {max-height: 0;max-width: 0;overflow: hidden;text-align: left;background-color: #f0f8ff;}#sk-container-id-5 div.sk-toggleable__content pre {margin: 0.2em;color: black;border-radius: 0.25em;background-color: #f0f8ff;}#sk-container-id-5 input.sk-toggleable__control:checked~div.sk-toggleable__content {max-height: 200px;max-width: 100%;overflow: auto;}#sk-container-id-5 input.sk-toggleable__control:checked~label.sk-toggleable__label-arrow:before {content: \"▾\";}#sk-container-id-5 div.sk-estimator input.sk-toggleable__control:checked~label.sk-toggleable__label {background-color: #d4ebff;}#sk-container-id-5 div.sk-label input.sk-toggleable__control:checked~label.sk-toggleable__label {background-color: #d4ebff;}#sk-container-id-5 input.sk-hidden--visually {border: 0;clip: rect(1px 1px 1px 1px);clip: rect(1px, 1px, 1px, 1px);height: 1px;margin: -1px;overflow: hidden;padding: 0;position: absolute;width: 1px;}#sk-container-id-5 div.sk-estimator {font-family: monospace;background-color: #f0f8ff;border: 1px dotted black;border-radius: 0.25em;box-sizing: border-box;margin-bottom: 0.5em;}#sk-container-id-5 div.sk-estimator:hover {background-color: #d4ebff;}#sk-container-id-5 div.sk-parallel-item::after {content: \"\";width: 100%;border-bottom: 1px solid gray;flex-grow: 1;}#sk-container-id-5 div.sk-label:hover label.sk-toggleable__label {background-color: #d4ebff;}#sk-container-id-5 div.sk-serial::before {content: \"\";position: absolute;border-left: 1px solid gray;box-sizing: border-box;top: 0;bottom: 0;left: 50%;z-index: 0;}#sk-container-id-5 div.sk-serial {display: flex;flex-direction: column;align-items: center;background-color: white;padding-right: 0.2em;padding-left: 0.2em;position: relative;}#sk-container-id-5 div.sk-item {position: relative;z-index: 1;}#sk-container-id-5 div.sk-parallel {display: flex;align-items: stretch;justify-content: center;background-color: white;position: relative;}#sk-container-id-5 div.sk-item::before, #sk-container-id-5 div.sk-parallel-item::before {content: \"\";position: absolute;border-left: 1px solid gray;box-sizing: border-box;top: 0;bottom: 0;left: 50%;z-index: -1;}#sk-container-id-5 div.sk-parallel-item {display: flex;flex-direction: column;z-index: 1;position: relative;background-color: white;}#sk-container-id-5 div.sk-parallel-item:first-child::after {align-self: flex-end;width: 50%;}#sk-container-id-5 div.sk-parallel-item:last-child::after {align-self: flex-start;width: 50%;}#sk-container-id-5 div.sk-parallel-item:only-child::after {width: 0;}#sk-container-id-5 div.sk-dashed-wrapped {border: 1px dashed gray;margin: 0 0.4em 0.5em 0.4em;box-sizing: border-box;padding-bottom: 0.4em;background-color: white;}#sk-container-id-5 div.sk-label label {font-family: monospace;font-weight: bold;display: inline-block;line-height: 1.2em;}#sk-container-id-5 div.sk-label-container {text-align: center;}#sk-container-id-5 div.sk-container {/* jupyter's `normalize.less` sets `[hidden] { display: none; }` but bootstrap.min.css set `[hidden] { display: none !important; }` so we also need the `!important` here to be able to override the default hidden behavior on the sphinx rendered scikit-learn.org. See: https://github.com/scikit-learn/scikit-learn/issues/21755 */display: inline-block !important;position: relative;}#sk-container-id-5 div.sk-text-repr-fallback {display: none;}</style><div id=\"sk-container-id-5\" class=\"sk-top-container\"><div class=\"sk-text-repr-fallback\"><pre>KNeighborsClassifier(n_neighbors=1)</pre><b>In a Jupyter environment, please rerun this cell to show the HTML representation or trust the notebook. <br />On GitHub, the HTML representation is unable to render, please try loading this page with nbviewer.org.</b></div><div class=\"sk-container\" hidden><div class=\"sk-item\"><div class=\"sk-estimator sk-toggleable\"><input class=\"sk-toggleable__control sk-hidden--visually\" id=\"sk-estimator-id-5\" type=\"checkbox\" checked><label for=\"sk-estimator-id-5\" class=\"sk-toggleable__label sk-toggleable__label-arrow\">KNeighborsClassifier</label><div class=\"sk-toggleable__content\"><pre>KNeighborsClassifier(n_neighbors=1)</pre></div></div></div></div></div>"
      ],
      "text/plain": [
       "KNeighborsClassifier(n_neighbors=1)"
      ]
     },
     "execution_count": 84,
     "metadata": {},
     "output_type": "execute_result"
    }
   ],
   "source": [
    "from sklearn.neighbors import KNeighborsClassifier\n",
    "clf_knn_1=KNeighborsClassifier(n_neighbors=1)\n",
    "clf_knn_1.fit(x_train,y_train)\n"
   ]
  },
  {
   "cell_type": "code",
   "execution_count": 85,
   "id": "f3d1a16f",
   "metadata": {},
   "outputs": [],
   "source": [
    "from sklearn.metrics import accuracy_score,confusion_matrix\n"
   ]
  },
  {
   "cell_type": "code",
   "execution_count": 86,
   "id": "ecf0e26c",
   "metadata": {},
   "outputs": [
    {
     "data": {
      "text/plain": [
       "array([[0, 0, 0, ..., 0, 0, 0],\n",
       "       [0, 0, 0, ..., 0, 0, 0],\n",
       "       [0, 0, 0, ..., 0, 0, 0],\n",
       "       ...,\n",
       "       [0, 0, 0, ..., 0, 0, 0],\n",
       "       [0, 0, 0, ..., 0, 0, 0],\n",
       "       [0, 0, 0, ..., 0, 0, 1]], dtype=int64)"
      ]
     },
     "execution_count": 86,
     "metadata": {},
     "output_type": "execute_result"
    }
   ],
   "source": [
    "confusion_matrix(y_test,clf_knn_1.predict(x_test))"
   ]
  },
  {
   "cell_type": "code",
   "execution_count": null,
   "id": "1f75557d",
   "metadata": {},
   "outputs": [],
   "source": [
    "\n",
    "accuracy_score(y,clf_knn_1.predict(x_train_s))\n",
    "clf_knn_3=KNeighborsClassifier(n_neighbors=3)\n",
    "clf_knn_3.fit(x_train_s,y_train)\n",
    "accuracy_score(y,clf_knn_3.predict(x_test_s))"
   ]
  },
  {
   "cell_type": "code",
   "execution_count": 354,
   "id": "c13acfbb",
   "metadata": {},
   "outputs": [],
   "source": [
    "from sklearn.model_selection import GridSearchCV\n",
    "params={'n_neighbors':[1,2,3,4,5,6,7,8,9,10]}\n",
    "grid_search_cv=GridSearchCV(KNeighborsClassifier(),params)"
   ]
  },
  {
   "cell_type": "code",
   "execution_count": null,
   "id": "9140baa8",
   "metadata": {},
   "outputs": [],
   "source": [
    "grid_search_cv.fit(x_train_s,y_train)\n",
    "grid_search_cv.best_params_\n",
    "optimised_knn=grid_search_cv.best_estimator_"
   ]
  },
  {
   "cell_type": "code",
   "execution_count": null,
   "id": "b2733e52",
   "metadata": {},
   "outputs": [],
   "source": [
    "y_test_pred=optimised_knn.predict(x_test_s)"
   ]
  },
  {
   "cell_type": "code",
   "execution_count": null,
   "id": "68fdf17a",
   "metadata": {},
   "outputs": [],
   "source": [
    "confusion_matrix(y_test,y_test_pred)"
   ]
  },
  {
   "cell_type": "code",
   "execution_count": null,
   "id": "000a8dcd",
   "metadata": {},
   "outputs": [],
   "source": [
    "accuracy_score(y_test,y_test_pred)"
   ]
  },
  {
   "cell_type": "code",
   "execution_count": null,
   "id": "35b51768",
   "metadata": {},
   "outputs": [],
   "source": []
  },
  {
   "cell_type": "markdown",
   "id": "ab797575",
   "metadata": {},
   "source": [
    "# Decision tree Regressior"
   ]
  },
  {
   "cell_type": "code",
   "execution_count": 180,
   "id": "9107af9e",
   "metadata": {},
   "outputs": [
    {
     "data": {
      "text/html": [
       "<div>\n",
       "<style scoped>\n",
       "    .dataframe tbody tr th:only-of-type {\n",
       "        vertical-align: middle;\n",
       "    }\n",
       "\n",
       "    .dataframe tbody tr th {\n",
       "        vertical-align: top;\n",
       "    }\n",
       "\n",
       "    .dataframe thead th {\n",
       "        text-align: right;\n",
       "    }\n",
       "</style>\n",
       "<table border=\"1\" class=\"dataframe\">\n",
       "  <thead>\n",
       "    <tr style=\"text-align: right;\">\n",
       "      <th></th>\n",
       "      <th>Previous CTC</th>\n",
       "      <th>Previous job change</th>\n",
       "      <th>Graduation Marks</th>\n",
       "      <th>EXP (Month)</th>\n",
       "      <th>CTC</th>\n",
       "      <th>College_Tier1</th>\n",
       "      <th>College_tier2</th>\n",
       "      <th>College_tier3</th>\n",
       "      <th>City_metrocity</th>\n",
       "      <th>City_non_metro_cities</th>\n",
       "      <th>Role_Executive</th>\n",
       "      <th>Role_Manager</th>\n",
       "    </tr>\n",
       "  </thead>\n",
       "  <tbody>\n",
       "    <tr>\n",
       "      <th>0</th>\n",
       "      <td>55523</td>\n",
       "      <td>3</td>\n",
       "      <td>66</td>\n",
       "      <td>54</td>\n",
       "      <td>71406</td>\n",
       "      <td>0</td>\n",
       "      <td>1</td>\n",
       "      <td>0</td>\n",
       "      <td>0</td>\n",
       "      <td>1</td>\n",
       "      <td>0</td>\n",
       "      <td>1</td>\n",
       "    </tr>\n",
       "    <tr>\n",
       "      <th>1</th>\n",
       "      <td>57081</td>\n",
       "      <td>1</td>\n",
       "      <td>84</td>\n",
       "      <td>54</td>\n",
       "      <td>68005</td>\n",
       "      <td>0</td>\n",
       "      <td>1</td>\n",
       "      <td>0</td>\n",
       "      <td>0</td>\n",
       "      <td>1</td>\n",
       "      <td>1</td>\n",
       "      <td>0</td>\n",
       "    </tr>\n",
       "    <tr>\n",
       "      <th>2</th>\n",
       "      <td>60347</td>\n",
       "      <td>2</td>\n",
       "      <td>52</td>\n",
       "      <td>54</td>\n",
       "      <td>76764</td>\n",
       "      <td>0</td>\n",
       "      <td>0</td>\n",
       "      <td>1</td>\n",
       "      <td>0</td>\n",
       "      <td>1</td>\n",
       "      <td>1</td>\n",
       "      <td>0</td>\n",
       "    </tr>\n",
       "    <tr>\n",
       "      <th>3</th>\n",
       "      <td>49010</td>\n",
       "      <td>2</td>\n",
       "      <td>81</td>\n",
       "      <td>54</td>\n",
       "      <td>82092</td>\n",
       "      <td>0</td>\n",
       "      <td>0</td>\n",
       "      <td>1</td>\n",
       "      <td>0</td>\n",
       "      <td>1</td>\n",
       "      <td>1</td>\n",
       "      <td>0</td>\n",
       "    </tr>\n",
       "    <tr>\n",
       "      <th>4</th>\n",
       "      <td>57879</td>\n",
       "      <td>4</td>\n",
       "      <td>74</td>\n",
       "      <td>54</td>\n",
       "      <td>73878</td>\n",
       "      <td>1</td>\n",
       "      <td>0</td>\n",
       "      <td>0</td>\n",
       "      <td>0</td>\n",
       "      <td>1</td>\n",
       "      <td>1</td>\n",
       "      <td>0</td>\n",
       "    </tr>\n",
       "  </tbody>\n",
       "</table>\n",
       "</div>"
      ],
      "text/plain": [
       "   Previous CTC  Previous job change  Graduation Marks  EXP (Month)    CTC  \\\n",
       "0         55523                    3                66           54  71406   \n",
       "1         57081                    1                84           54  68005   \n",
       "2         60347                    2                52           54  76764   \n",
       "3         49010                    2                81           54  82092   \n",
       "4         57879                    4                74           54  73878   \n",
       "\n",
       "   College_Tier1  College_tier2  College_tier3  City_metrocity  \\\n",
       "0              0              1              0               0   \n",
       "1              0              1              0               0   \n",
       "2              0              0              1               0   \n",
       "3              0              0              1               0   \n",
       "4              1              0              0               0   \n",
       "\n",
       "   City_non_metro_cities  Role_Executive  Role_Manager  \n",
       "0                      1               0             1  \n",
       "1                      1               1             0  \n",
       "2                      1               1             0  \n",
       "3                      1               1             0  \n",
       "4                      1               1             0  "
      ]
     },
     "execution_count": 180,
     "metadata": {},
     "output_type": "execute_result"
    }
   ],
   "source": [
    "df.head()"
   ]
  },
  {
   "cell_type": "code",
   "execution_count": 219,
   "id": "47434a9b",
   "metadata": {},
   "outputs": [],
   "source": [
    "x=df.loc[:,df.columns!='CTC']"
   ]
  },
  {
   "cell_type": "code",
   "execution_count": 220,
   "id": "307e4e87",
   "metadata": {},
   "outputs": [],
   "source": [
    "y=df[\"CTC\"]"
   ]
  },
  {
   "cell_type": "code",
   "execution_count": 221,
   "id": "36275fe8",
   "metadata": {},
   "outputs": [
    {
     "data": {
      "text/html": [
       "<div>\n",
       "<style scoped>\n",
       "    .dataframe tbody tr th:only-of-type {\n",
       "        vertical-align: middle;\n",
       "    }\n",
       "\n",
       "    .dataframe tbody tr th {\n",
       "        vertical-align: top;\n",
       "    }\n",
       "\n",
       "    .dataframe thead th {\n",
       "        text-align: right;\n",
       "    }\n",
       "</style>\n",
       "<table border=\"1\" class=\"dataframe\">\n",
       "  <thead>\n",
       "    <tr style=\"text-align: right;\">\n",
       "      <th></th>\n",
       "      <th>Previous CTC</th>\n",
       "      <th>Previous job change</th>\n",
       "      <th>Graduation Marks</th>\n",
       "      <th>EXP (Month)</th>\n",
       "      <th>College_Tier1</th>\n",
       "      <th>College_tier2</th>\n",
       "      <th>College_tier3</th>\n",
       "      <th>City_metrocity</th>\n",
       "      <th>City_non_metro_cities</th>\n",
       "      <th>Role_Executive</th>\n",
       "      <th>Role_Manager</th>\n",
       "    </tr>\n",
       "  </thead>\n",
       "  <tbody>\n",
       "    <tr>\n",
       "      <th>0</th>\n",
       "      <td>55523</td>\n",
       "      <td>3</td>\n",
       "      <td>66</td>\n",
       "      <td>54</td>\n",
       "      <td>0</td>\n",
       "      <td>1</td>\n",
       "      <td>0</td>\n",
       "      <td>0</td>\n",
       "      <td>1</td>\n",
       "      <td>0</td>\n",
       "      <td>1</td>\n",
       "    </tr>\n",
       "    <tr>\n",
       "      <th>1</th>\n",
       "      <td>57081</td>\n",
       "      <td>1</td>\n",
       "      <td>84</td>\n",
       "      <td>54</td>\n",
       "      <td>0</td>\n",
       "      <td>1</td>\n",
       "      <td>0</td>\n",
       "      <td>0</td>\n",
       "      <td>1</td>\n",
       "      <td>1</td>\n",
       "      <td>0</td>\n",
       "    </tr>\n",
       "    <tr>\n",
       "      <th>2</th>\n",
       "      <td>60347</td>\n",
       "      <td>2</td>\n",
       "      <td>52</td>\n",
       "      <td>54</td>\n",
       "      <td>0</td>\n",
       "      <td>0</td>\n",
       "      <td>1</td>\n",
       "      <td>0</td>\n",
       "      <td>1</td>\n",
       "      <td>1</td>\n",
       "      <td>0</td>\n",
       "    </tr>\n",
       "    <tr>\n",
       "      <th>3</th>\n",
       "      <td>49010</td>\n",
       "      <td>2</td>\n",
       "      <td>81</td>\n",
       "      <td>54</td>\n",
       "      <td>0</td>\n",
       "      <td>0</td>\n",
       "      <td>1</td>\n",
       "      <td>0</td>\n",
       "      <td>1</td>\n",
       "      <td>1</td>\n",
       "      <td>0</td>\n",
       "    </tr>\n",
       "    <tr>\n",
       "      <th>4</th>\n",
       "      <td>57879</td>\n",
       "      <td>4</td>\n",
       "      <td>74</td>\n",
       "      <td>54</td>\n",
       "      <td>1</td>\n",
       "      <td>0</td>\n",
       "      <td>0</td>\n",
       "      <td>0</td>\n",
       "      <td>1</td>\n",
       "      <td>1</td>\n",
       "      <td>0</td>\n",
       "    </tr>\n",
       "  </tbody>\n",
       "</table>\n",
       "</div>"
      ],
      "text/plain": [
       "   Previous CTC  Previous job change  Graduation Marks  EXP (Month)  \\\n",
       "0         55523                    3                66           54   \n",
       "1         57081                    1                84           54   \n",
       "2         60347                    2                52           54   \n",
       "3         49010                    2                81           54   \n",
       "4         57879                    4                74           54   \n",
       "\n",
       "   College_Tier1  College_tier2  College_tier3  City_metrocity  \\\n",
       "0              0              1              0               0   \n",
       "1              0              1              0               0   \n",
       "2              0              0              1               0   \n",
       "3              0              0              1               0   \n",
       "4              1              0              0               0   \n",
       "\n",
       "   City_non_metro_cities  Role_Executive  Role_Manager  \n",
       "0                      1               0             1  \n",
       "1                      1               1             0  \n",
       "2                      1               1             0  \n",
       "3                      1               1             0  \n",
       "4                      1               1             0  "
      ]
     },
     "execution_count": 221,
     "metadata": {},
     "output_type": "execute_result"
    }
   ],
   "source": [
    "type(x)\n",
    "x.head()"
   ]
  },
  {
   "cell_type": "code",
   "execution_count": 222,
   "id": "1f19476a",
   "metadata": {},
   "outputs": [],
   "source": [
    "from sklearn.model_selection import train_test_split"
   ]
  },
  {
   "cell_type": "code",
   "execution_count": 223,
   "id": "9af0ae3f",
   "metadata": {},
   "outputs": [],
   "source": [
    "x_train,x_test,y_train,y_test=train_test_split(x,y,test_size=0.2,random_state=0)"
   ]
  },
  {
   "cell_type": "code",
   "execution_count": 187,
   "id": "9bc160d8",
   "metadata": {},
   "outputs": [
    {
     "data": {
      "text/html": [
       "<div>\n",
       "<style scoped>\n",
       "    .dataframe tbody tr th:only-of-type {\n",
       "        vertical-align: middle;\n",
       "    }\n",
       "\n",
       "    .dataframe tbody tr th {\n",
       "        vertical-align: top;\n",
       "    }\n",
       "\n",
       "    .dataframe thead th {\n",
       "        text-align: right;\n",
       "    }\n",
       "</style>\n",
       "<table border=\"1\" class=\"dataframe\">\n",
       "  <thead>\n",
       "    <tr style=\"text-align: right;\">\n",
       "      <th></th>\n",
       "      <th>Previous CTC</th>\n",
       "      <th>Previous job change</th>\n",
       "      <th>Graduation Marks</th>\n",
       "      <th>EXP (Month)</th>\n",
       "      <th>College_Tier1</th>\n",
       "      <th>College_tier2</th>\n",
       "      <th>College_tier3</th>\n",
       "      <th>City_metrocity</th>\n",
       "      <th>City_non_metro_cities</th>\n",
       "      <th>Role_Executive</th>\n",
       "      <th>Role_Manager</th>\n",
       "    </tr>\n",
       "  </thead>\n",
       "  <tbody>\n",
       "    <tr>\n",
       "      <th>900</th>\n",
       "      <td>43788</td>\n",
       "      <td>4</td>\n",
       "      <td>85</td>\n",
       "      <td>54</td>\n",
       "      <td>1</td>\n",
       "      <td>0</td>\n",
       "      <td>0</td>\n",
       "      <td>0</td>\n",
       "      <td>1</td>\n",
       "      <td>1</td>\n",
       "      <td>0</td>\n",
       "    </tr>\n",
       "    <tr>\n",
       "      <th>427</th>\n",
       "      <td>51533</td>\n",
       "      <td>3</td>\n",
       "      <td>61</td>\n",
       "      <td>54</td>\n",
       "      <td>0</td>\n",
       "      <td>0</td>\n",
       "      <td>1</td>\n",
       "      <td>1</td>\n",
       "      <td>0</td>\n",
       "      <td>1</td>\n",
       "      <td>0</td>\n",
       "    </tr>\n",
       "    <tr>\n",
       "      <th>219</th>\n",
       "      <td>44261</td>\n",
       "      <td>4</td>\n",
       "      <td>64</td>\n",
       "      <td>54</td>\n",
       "      <td>0</td>\n",
       "      <td>1</td>\n",
       "      <td>0</td>\n",
       "      <td>1</td>\n",
       "      <td>0</td>\n",
       "      <td>1</td>\n",
       "      <td>0</td>\n",
       "    </tr>\n",
       "    <tr>\n",
       "      <th>1101</th>\n",
       "      <td>49258</td>\n",
       "      <td>3</td>\n",
       "      <td>37</td>\n",
       "      <td>54</td>\n",
       "      <td>0</td>\n",
       "      <td>0</td>\n",
       "      <td>1</td>\n",
       "      <td>1</td>\n",
       "      <td>0</td>\n",
       "      <td>1</td>\n",
       "      <td>0</td>\n",
       "    </tr>\n",
       "    <tr>\n",
       "      <th>748</th>\n",
       "      <td>64931</td>\n",
       "      <td>4</td>\n",
       "      <td>70</td>\n",
       "      <td>54</td>\n",
       "      <td>0</td>\n",
       "      <td>0</td>\n",
       "      <td>1</td>\n",
       "      <td>0</td>\n",
       "      <td>1</td>\n",
       "      <td>1</td>\n",
       "      <td>0</td>\n",
       "    </tr>\n",
       "  </tbody>\n",
       "</table>\n",
       "</div>"
      ],
      "text/plain": [
       "      Previous CTC  Previous job change  Graduation Marks  EXP (Month)  \\\n",
       "900          43788                    4                85           54   \n",
       "427          51533                    3                61           54   \n",
       "219          44261                    4                64           54   \n",
       "1101         49258                    3                37           54   \n",
       "748          64931                    4                70           54   \n",
       "\n",
       "      College_Tier1  College_tier2  College_tier3  City_metrocity  \\\n",
       "900               1              0              0               0   \n",
       "427               0              0              1               1   \n",
       "219               0              1              0               1   \n",
       "1101              0              0              1               1   \n",
       "748               0              0              1               0   \n",
       "\n",
       "      City_non_metro_cities  Role_Executive  Role_Manager  \n",
       "900                       1               1             0  \n",
       "427                       0               1             0  \n",
       "219                       0               1             0  \n",
       "1101                      0               1             0  \n",
       "748                       1               1             0  "
      ]
     },
     "execution_count": 187,
     "metadata": {},
     "output_type": "execute_result"
    }
   ],
   "source": [
    "x_test.head()"
   ]
  },
  {
   "cell_type": "code",
   "execution_count": 88,
   "id": "67e598dc",
   "metadata": {},
   "outputs": [],
   "source": [
    "from sklearn import tree\n",
    "regtree=tree.DecisionTreeRegressor(max_depth=3)"
   ]
  },
  {
   "cell_type": "code",
   "execution_count": 89,
   "id": "288c08bc",
   "metadata": {},
   "outputs": [
    {
     "data": {
      "text/html": [
       "<style>#sk-container-id-6 {color: black;}#sk-container-id-6 pre{padding: 0;}#sk-container-id-6 div.sk-toggleable {background-color: white;}#sk-container-id-6 label.sk-toggleable__label {cursor: pointer;display: block;width: 100%;margin-bottom: 0;padding: 0.3em;box-sizing: border-box;text-align: center;}#sk-container-id-6 label.sk-toggleable__label-arrow:before {content: \"▸\";float: left;margin-right: 0.25em;color: #696969;}#sk-container-id-6 label.sk-toggleable__label-arrow:hover:before {color: black;}#sk-container-id-6 div.sk-estimator:hover label.sk-toggleable__label-arrow:before {color: black;}#sk-container-id-6 div.sk-toggleable__content {max-height: 0;max-width: 0;overflow: hidden;text-align: left;background-color: #f0f8ff;}#sk-container-id-6 div.sk-toggleable__content pre {margin: 0.2em;color: black;border-radius: 0.25em;background-color: #f0f8ff;}#sk-container-id-6 input.sk-toggleable__control:checked~div.sk-toggleable__content {max-height: 200px;max-width: 100%;overflow: auto;}#sk-container-id-6 input.sk-toggleable__control:checked~label.sk-toggleable__label-arrow:before {content: \"▾\";}#sk-container-id-6 div.sk-estimator input.sk-toggleable__control:checked~label.sk-toggleable__label {background-color: #d4ebff;}#sk-container-id-6 div.sk-label input.sk-toggleable__control:checked~label.sk-toggleable__label {background-color: #d4ebff;}#sk-container-id-6 input.sk-hidden--visually {border: 0;clip: rect(1px 1px 1px 1px);clip: rect(1px, 1px, 1px, 1px);height: 1px;margin: -1px;overflow: hidden;padding: 0;position: absolute;width: 1px;}#sk-container-id-6 div.sk-estimator {font-family: monospace;background-color: #f0f8ff;border: 1px dotted black;border-radius: 0.25em;box-sizing: border-box;margin-bottom: 0.5em;}#sk-container-id-6 div.sk-estimator:hover {background-color: #d4ebff;}#sk-container-id-6 div.sk-parallel-item::after {content: \"\";width: 100%;border-bottom: 1px solid gray;flex-grow: 1;}#sk-container-id-6 div.sk-label:hover label.sk-toggleable__label {background-color: #d4ebff;}#sk-container-id-6 div.sk-serial::before {content: \"\";position: absolute;border-left: 1px solid gray;box-sizing: border-box;top: 0;bottom: 0;left: 50%;z-index: 0;}#sk-container-id-6 div.sk-serial {display: flex;flex-direction: column;align-items: center;background-color: white;padding-right: 0.2em;padding-left: 0.2em;position: relative;}#sk-container-id-6 div.sk-item {position: relative;z-index: 1;}#sk-container-id-6 div.sk-parallel {display: flex;align-items: stretch;justify-content: center;background-color: white;position: relative;}#sk-container-id-6 div.sk-item::before, #sk-container-id-6 div.sk-parallel-item::before {content: \"\";position: absolute;border-left: 1px solid gray;box-sizing: border-box;top: 0;bottom: 0;left: 50%;z-index: -1;}#sk-container-id-6 div.sk-parallel-item {display: flex;flex-direction: column;z-index: 1;position: relative;background-color: white;}#sk-container-id-6 div.sk-parallel-item:first-child::after {align-self: flex-end;width: 50%;}#sk-container-id-6 div.sk-parallel-item:last-child::after {align-self: flex-start;width: 50%;}#sk-container-id-6 div.sk-parallel-item:only-child::after {width: 0;}#sk-container-id-6 div.sk-dashed-wrapped {border: 1px dashed gray;margin: 0 0.4em 0.5em 0.4em;box-sizing: border-box;padding-bottom: 0.4em;background-color: white;}#sk-container-id-6 div.sk-label label {font-family: monospace;font-weight: bold;display: inline-block;line-height: 1.2em;}#sk-container-id-6 div.sk-label-container {text-align: center;}#sk-container-id-6 div.sk-container {/* jupyter's `normalize.less` sets `[hidden] { display: none; }` but bootstrap.min.css set `[hidden] { display: none !important; }` so we also need the `!important` here to be able to override the default hidden behavior on the sphinx rendered scikit-learn.org. See: https://github.com/scikit-learn/scikit-learn/issues/21755 */display: inline-block !important;position: relative;}#sk-container-id-6 div.sk-text-repr-fallback {display: none;}</style><div id=\"sk-container-id-6\" class=\"sk-top-container\"><div class=\"sk-text-repr-fallback\"><pre>DecisionTreeRegressor(max_depth=3)</pre><b>In a Jupyter environment, please rerun this cell to show the HTML representation or trust the notebook. <br />On GitHub, the HTML representation is unable to render, please try loading this page with nbviewer.org.</b></div><div class=\"sk-container\" hidden><div class=\"sk-item\"><div class=\"sk-estimator sk-toggleable\"><input class=\"sk-toggleable__control sk-hidden--visually\" id=\"sk-estimator-id-6\" type=\"checkbox\" checked><label for=\"sk-estimator-id-6\" class=\"sk-toggleable__label sk-toggleable__label-arrow\">DecisionTreeRegressor</label><div class=\"sk-toggleable__content\"><pre>DecisionTreeRegressor(max_depth=3)</pre></div></div></div></div></div>"
      ],
      "text/plain": [
       "DecisionTreeRegressor(max_depth=3)"
      ]
     },
     "execution_count": 89,
     "metadata": {},
     "output_type": "execute_result"
    }
   ],
   "source": [
    "regtree.fit(x_train,y_train)"
   ]
  },
  {
   "cell_type": "code",
   "execution_count": 90,
   "id": "9d1d9966",
   "metadata": {},
   "outputs": [],
   "source": [
    "#predict\n",
    "\n",
    "y_test_pred=regtree.predict(x_test)"
   ]
  },
  {
   "cell_type": "code",
   "execution_count": 91,
   "id": "5e2305d1",
   "metadata": {},
   "outputs": [],
   "source": [
    "y_train_pred=regtree.predict(x_train)"
   ]
  },
  {
   "cell_type": "code",
   "execution_count": 92,
   "id": "109c951a",
   "metadata": {},
   "outputs": [
    {
     "data": {
      "text/plain": [
       "array([104058.6741573 ,  69400.97443182,  80469.42105263, ...,\n",
       "        69400.97443182,  69400.97443182,  69400.97443182])"
      ]
     },
     "execution_count": 92,
     "metadata": {},
     "output_type": "execute_result"
    }
   ],
   "source": [
    "y_train_pred"
   ]
  },
  {
   "cell_type": "code",
   "execution_count": 93,
   "id": "0e35506e",
   "metadata": {},
   "outputs": [],
   "source": [
    "from sklearn.metrics import mean_squared_error, r2_score"
   ]
  },
  {
   "cell_type": "code",
   "execution_count": 94,
   "id": "d822d93c",
   "metadata": {},
   "outputs": [
    {
     "data": {
      "text/plain": [
       "66085011.47443715"
      ]
     },
     "execution_count": 94,
     "metadata": {},
     "output_type": "execute_result"
    }
   ],
   "source": [
    "mean_squared_error(y_test,y_test_pred)"
   ]
  },
  {
   "cell_type": "code",
   "execution_count": 95,
   "id": "c304edfd",
   "metadata": {},
   "outputs": [
    {
     "data": {
      "text/plain": [
       "0.5857249832312482"
      ]
     },
     "execution_count": 95,
     "metadata": {},
     "output_type": "execute_result"
    }
   ],
   "source": [
    "r2_score(y_train,y_train_pred)"
   ]
  },
  {
   "cell_type": "code",
   "execution_count": 96,
   "id": "a8554c9b",
   "metadata": {},
   "outputs": [
    {
     "data": {
      "text/plain": [
       "0.5546369213141513"
      ]
     },
     "execution_count": 96,
     "metadata": {},
     "output_type": "execute_result"
    }
   ],
   "source": [
    "r2_score(y_test,y_test_pred)"
   ]
  },
  {
   "cell_type": "code",
   "execution_count": null,
   "id": "a90fd6d1",
   "metadata": {},
   "outputs": [],
   "source": [
    "!pip install pydotplus\n",
    "!pip install Ipython"
   ]
  },
  {
   "cell_type": "code",
   "execution_count": 97,
   "id": "8fcd90fe",
   "metadata": {},
   "outputs": [],
   "source": [
    "dot_data=tree.export_graphviz(regtree,out_file=None,feature_names=x_train.columns,filled=True)"
   ]
  },
  {
   "cell_type": "code",
   "execution_count": 98,
   "id": "33abfcbc",
   "metadata": {},
   "outputs": [],
   "source": [
    "from IPython.display import Image"
   ]
  },
  {
   "cell_type": "code",
   "execution_count": 99,
   "id": "8bdaf909",
   "metadata": {},
   "outputs": [],
   "source": [
    "import pydotplus"
   ]
  },
  {
   "cell_type": "code",
   "execution_count": 100,
   "id": "0a0f621d",
   "metadata": {},
   "outputs": [],
   "source": [
    "graph =pydotplus.graph_from_dot_data(dot_data)\n"
   ]
  },
  {
   "cell_type": "code",
   "execution_count": 101,
   "id": "eeea0520",
   "metadata": {
    "scrolled": true
   },
   "outputs": [
    {
     "ename": "InvocationException",
     "evalue": "GraphViz's executables not found",
     "output_type": "error",
     "traceback": [
      "\u001b[1;31m---------------------------------------------------------------------------\u001b[0m",
      "\u001b[1;31mInvocationException\u001b[0m                       Traceback (most recent call last)",
      "Cell \u001b[1;32mIn[101], line 1\u001b[0m\n\u001b[1;32m----> 1\u001b[0m Image(graph\u001b[38;5;241m.\u001b[39mcreate_png())\n",
      "File \u001b[1;32m~\\anaconda3\\Lib\\site-packages\\pydotplus\\graphviz.py:1797\u001b[0m, in \u001b[0;36mDot.__init__.<locals>.<lambda>\u001b[1;34m(f, prog)\u001b[0m\n\u001b[0;32m   1792\u001b[0m \u001b[38;5;66;03m# Automatically creates all the methods enabling the creation\u001b[39;00m\n\u001b[0;32m   1793\u001b[0m \u001b[38;5;66;03m# of output in any of the supported formats.\u001b[39;00m\n\u001b[0;32m   1794\u001b[0m \u001b[38;5;28;01mfor\u001b[39;00m frmt \u001b[38;5;129;01min\u001b[39;00m \u001b[38;5;28mself\u001b[39m\u001b[38;5;241m.\u001b[39mformats:\n\u001b[0;32m   1795\u001b[0m     \u001b[38;5;28mself\u001b[39m\u001b[38;5;241m.\u001b[39m\u001b[38;5;21m__setattr__\u001b[39m(\n\u001b[0;32m   1796\u001b[0m         \u001b[38;5;124m'\u001b[39m\u001b[38;5;124mcreate_\u001b[39m\u001b[38;5;124m'\u001b[39m \u001b[38;5;241m+\u001b[39m frmt,\n\u001b[1;32m-> 1797\u001b[0m         \u001b[38;5;28;01mlambda\u001b[39;00m f\u001b[38;5;241m=\u001b[39mfrmt, prog\u001b[38;5;241m=\u001b[39m\u001b[38;5;28mself\u001b[39m\u001b[38;5;241m.\u001b[39mprog: \u001b[38;5;28mself\u001b[39m\u001b[38;5;241m.\u001b[39mcreate(\u001b[38;5;28mformat\u001b[39m\u001b[38;5;241m=\u001b[39mf, prog\u001b[38;5;241m=\u001b[39mprog)\n\u001b[0;32m   1798\u001b[0m     )\n\u001b[0;32m   1799\u001b[0m     f \u001b[38;5;241m=\u001b[39m \u001b[38;5;28mself\u001b[39m\u001b[38;5;241m.\u001b[39m\u001b[38;5;18m__dict__\u001b[39m[\u001b[38;5;124m'\u001b[39m\u001b[38;5;124mcreate_\u001b[39m\u001b[38;5;124m'\u001b[39m \u001b[38;5;241m+\u001b[39m frmt]\n\u001b[0;32m   1800\u001b[0m     f\u001b[38;5;241m.\u001b[39m\u001b[38;5;18m__doc__\u001b[39m \u001b[38;5;241m=\u001b[39m (\n\u001b[0;32m   1801\u001b[0m \u001b[38;5;250m        \u001b[39m\u001b[38;5;124;03m'''Refer to the docstring accompanying the'''\u001b[39;00m\n\u001b[0;32m   1802\u001b[0m \u001b[38;5;250m        \u001b[39m\u001b[38;5;124;03m''''create' method for more information.'''\u001b[39;00m\n\u001b[0;32m   1803\u001b[0m     )\n",
      "File \u001b[1;32m~\\anaconda3\\Lib\\site-packages\\pydotplus\\graphviz.py:1959\u001b[0m, in \u001b[0;36mDot.create\u001b[1;34m(self, prog, format)\u001b[0m\n\u001b[0;32m   1957\u001b[0m     \u001b[38;5;28mself\u001b[39m\u001b[38;5;241m.\u001b[39mprogs \u001b[38;5;241m=\u001b[39m find_graphviz()\n\u001b[0;32m   1958\u001b[0m     \u001b[38;5;28;01mif\u001b[39;00m \u001b[38;5;28mself\u001b[39m\u001b[38;5;241m.\u001b[39mprogs \u001b[38;5;129;01mis\u001b[39;00m \u001b[38;5;28;01mNone\u001b[39;00m:\n\u001b[1;32m-> 1959\u001b[0m         \u001b[38;5;28;01mraise\u001b[39;00m InvocationException(\n\u001b[0;32m   1960\u001b[0m             \u001b[38;5;124m'\u001b[39m\u001b[38;5;124mGraphViz\u001b[39m\u001b[38;5;130;01m\\'\u001b[39;00m\u001b[38;5;124ms executables not found\u001b[39m\u001b[38;5;124m'\u001b[39m)\n\u001b[0;32m   1962\u001b[0m \u001b[38;5;28;01mif\u001b[39;00m prog \u001b[38;5;129;01mnot\u001b[39;00m \u001b[38;5;129;01min\u001b[39;00m \u001b[38;5;28mself\u001b[39m\u001b[38;5;241m.\u001b[39mprogs:\n\u001b[0;32m   1963\u001b[0m     \u001b[38;5;28;01mraise\u001b[39;00m InvocationException(\n\u001b[0;32m   1964\u001b[0m         \u001b[38;5;124m'\u001b[39m\u001b[38;5;124mGraphViz\u001b[39m\u001b[38;5;130;01m\\'\u001b[39;00m\u001b[38;5;124ms executable \u001b[39m\u001b[38;5;124m\"\u001b[39m\u001b[38;5;132;01m%s\u001b[39;00m\u001b[38;5;124m\"\u001b[39m\u001b[38;5;124m not found\u001b[39m\u001b[38;5;124m'\u001b[39m \u001b[38;5;241m%\u001b[39m prog)\n",
      "\u001b[1;31mInvocationException\u001b[0m: GraphViz's executables not found"
     ]
    }
   ],
   "source": [
    "Image(graph.create_png())"
   ]
  },
  {
   "cell_type": "code",
   "execution_count": 105,
   "id": "60c5d75d",
   "metadata": {},
   "outputs": [
    {
     "data": {
      "text/plain": [
       "array([104058.6741573 ,  69400.97443182,  80469.42105263, ...,\n",
       "        69400.97443182,  69400.97443182,  69400.97443182])"
      ]
     },
     "execution_count": 105,
     "metadata": {},
     "output_type": "execute_result"
    }
   ],
   "source": [
    "y_train_pred"
   ]
  },
  {
   "cell_type": "code",
   "execution_count": 106,
   "id": "970e12da",
   "metadata": {},
   "outputs": [],
   "source": [
    "from sklearn.metrics import accuracy_score,confusion_matrix"
   ]
  },
  {
   "cell_type": "code",
   "execution_count": null,
   "id": "9dd18333",
   "metadata": {},
   "outputs": [],
   "source": [
    "confusion_matrix(y_train,y_train_pred)"
   ]
  },
  {
   "cell_type": "code",
   "execution_count": 94,
   "id": "0075828b",
   "metadata": {},
   "outputs": [
    {
     "ename": "NameError",
     "evalue": "name 'y_test_pred' is not defined",
     "output_type": "error",
     "traceback": [
      "\u001b[1;31m---------------------------------------------------------------------------\u001b[0m",
      "\u001b[1;31mNameError\u001b[0m                                 Traceback (most recent call last)",
      "Cell \u001b[1;32mIn[94], line 1\u001b[0m\n\u001b[1;32m----> 1\u001b[0m confusion_matrix(y_test,y_test_pred)\n",
      "\u001b[1;31mNameError\u001b[0m: name 'y_test_pred' is not defined"
     ]
    }
   ],
   "source": [
    "confusion_matrix(y_test,y_test_pred)"
   ]
  },
  {
   "cell_type": "code",
   "execution_count": 234,
   "id": "79a99ca5",
   "metadata": {},
   "outputs": [
    {
     "data": {
      "text/plain": [
       "0.0"
      ]
     },
     "execution_count": 234,
     "metadata": {},
     "output_type": "execute_result"
    }
   ],
   "source": [
    "accuracy_score(y_test,regtree.predict(x_test))"
   ]
  },
  {
   "cell_type": "code",
   "execution_count": null,
   "id": "8e073671",
   "metadata": {},
   "outputs": [],
   "source": []
  },
  {
   "cell_type": "code",
   "execution_count": 87,
   "id": "60c9faff",
   "metadata": {},
   "outputs": [
    {
     "ename": "NameError",
     "evalue": "name 'tree' is not defined",
     "output_type": "error",
     "traceback": [
      "\u001b[1;31m---------------------------------------------------------------------------\u001b[0m",
      "\u001b[1;31mNameError\u001b[0m                                 Traceback (most recent call last)",
      "Cell \u001b[1;32mIn[87], line 1\u001b[0m\n\u001b[1;32m----> 1\u001b[0m regtree\u001b[38;5;241m=\u001b[39mtree\u001b[38;5;241m.\u001b[39mDecisionTreeRegressor(max_depth\u001b[38;5;241m=\u001b[39m\u001b[38;5;241m3\u001b[39m)\n\u001b[0;32m      2\u001b[0m regtree\u001b[38;5;241m.\u001b[39mfit(x_train,y_train)\n\u001b[0;32m      3\u001b[0m dot_data\u001b[38;5;241m=\u001b[39mtree\u001b[38;5;241m.\u001b[39mexport_graphviz(regtree,out_file\u001b[38;5;241m=\u001b[39m\u001b[38;5;28;01mNone\u001b[39;00m,feature_names\u001b[38;5;241m=\u001b[39mx_train\u001b[38;5;241m.\u001b[39mcolumns,filled\u001b[38;5;241m=\u001b[39m\u001b[38;5;28;01mTrue\u001b[39;00m)\n",
      "\u001b[1;31mNameError\u001b[0m: name 'tree' is not defined"
     ]
    }
   ],
   "source": [
    "regtree=tree.DecisionTreeRegressor(max_depth=3)\n",
    "regtree.fit(x_train,y_train)\n",
    "dot_data=tree.export_graphviz(regtree,out_file=None,feature_names=x_train.columns,filled=True)\n",
    "graph =pydotplus.graph_from_dot_data(dot_data)\n",
    "Image(graph.create_png())"
   ]
  },
  {
   "cell_type": "code",
   "execution_count": null,
   "id": "1db2c03d",
   "metadata": {},
   "outputs": [],
   "source": [
    "regtree=tree.DecisionTreeRegressor(min_samples_split=3)\n",
    "regtree.fit(x_train,y_train)\n",
    "dot_data=tree.export_graphviz(regtree,out_file=None,feature_names=x_train.columns,filled=True)\n",
    "graph =pydotplus.graph_from_dot_data(dot_data)\n",
    "Image(graph.create_png())"
   ]
  },
  {
   "cell_type": "code",
   "execution_count": null,
   "id": "b4b4de80",
   "metadata": {},
   "outputs": [],
   "source": [
    "regtree=tree.DecisionTreeRegressor(min_samples_leaf=3)\n",
    "regtree.fit(x_train,y_train)\n",
    "dot_data=tree.export_graphviz(regtree,out_file=None,feature_names=x_train.columns,filled=True)\n",
    "graph =pydotplus.graph_from_dot_data(dot_data)\n",
    "Image(graph.create_png())"
   ]
  },
  {
   "cell_type": "markdown",
   "id": "139ae48d",
   "metadata": {},
   "source": [
    "# Classification"
   ]
  },
  {
   "cell_type": "code",
   "execution_count": 273,
   "id": "d807ddef",
   "metadata": {},
   "outputs": [],
   "source": [
    "from sklearn import tree\n",
    "var=tree.DecisionTreeClassifier(max_depth=3)"
   ]
  },
  {
   "cell_type": "code",
   "execution_count": null,
   "id": "db9e3a9d",
   "metadata": {},
   "outputs": [],
   "source": [
    "x=df.loc[:,df.columns!='CTC']\n",
    "y=df[\"CTC\"]\n",
    "from sklearn.model_selection import train_test_split\n",
    "x_train,x_test,y_train,y_test=train_test_split(x,y,test_size=0.2,random_state=0)"
   ]
  },
  {
   "cell_type": "code",
   "execution_count": 274,
   "id": "e86548da",
   "metadata": {},
   "outputs": [],
   "source": [
    "from sklearn.model_selection import train_test_split"
   ]
  },
  {
   "cell_type": "code",
   "execution_count": 275,
   "id": "d1c3f742",
   "metadata": {},
   "outputs": [],
   "source": [
    "x_train,x_test,y_train,y_test=train_test_split(x,y,test_size=0.2,random_state=0)"
   ]
  },
  {
   "cell_type": "code",
   "execution_count": 276,
   "id": "f5c51d41",
   "metadata": {},
   "outputs": [
    {
     "data": {
      "text/html": [
       "<style>#sk-container-id-15 {color: black;}#sk-container-id-15 pre{padding: 0;}#sk-container-id-15 div.sk-toggleable {background-color: white;}#sk-container-id-15 label.sk-toggleable__label {cursor: pointer;display: block;width: 100%;margin-bottom: 0;padding: 0.3em;box-sizing: border-box;text-align: center;}#sk-container-id-15 label.sk-toggleable__label-arrow:before {content: \"▸\";float: left;margin-right: 0.25em;color: #696969;}#sk-container-id-15 label.sk-toggleable__label-arrow:hover:before {color: black;}#sk-container-id-15 div.sk-estimator:hover label.sk-toggleable__label-arrow:before {color: black;}#sk-container-id-15 div.sk-toggleable__content {max-height: 0;max-width: 0;overflow: hidden;text-align: left;background-color: #f0f8ff;}#sk-container-id-15 div.sk-toggleable__content pre {margin: 0.2em;color: black;border-radius: 0.25em;background-color: #f0f8ff;}#sk-container-id-15 input.sk-toggleable__control:checked~div.sk-toggleable__content {max-height: 200px;max-width: 100%;overflow: auto;}#sk-container-id-15 input.sk-toggleable__control:checked~label.sk-toggleable__label-arrow:before {content: \"▾\";}#sk-container-id-15 div.sk-estimator input.sk-toggleable__control:checked~label.sk-toggleable__label {background-color: #d4ebff;}#sk-container-id-15 div.sk-label input.sk-toggleable__control:checked~label.sk-toggleable__label {background-color: #d4ebff;}#sk-container-id-15 input.sk-hidden--visually {border: 0;clip: rect(1px 1px 1px 1px);clip: rect(1px, 1px, 1px, 1px);height: 1px;margin: -1px;overflow: hidden;padding: 0;position: absolute;width: 1px;}#sk-container-id-15 div.sk-estimator {font-family: monospace;background-color: #f0f8ff;border: 1px dotted black;border-radius: 0.25em;box-sizing: border-box;margin-bottom: 0.5em;}#sk-container-id-15 div.sk-estimator:hover {background-color: #d4ebff;}#sk-container-id-15 div.sk-parallel-item::after {content: \"\";width: 100%;border-bottom: 1px solid gray;flex-grow: 1;}#sk-container-id-15 div.sk-label:hover label.sk-toggleable__label {background-color: #d4ebff;}#sk-container-id-15 div.sk-serial::before {content: \"\";position: absolute;border-left: 1px solid gray;box-sizing: border-box;top: 0;bottom: 0;left: 50%;z-index: 0;}#sk-container-id-15 div.sk-serial {display: flex;flex-direction: column;align-items: center;background-color: white;padding-right: 0.2em;padding-left: 0.2em;position: relative;}#sk-container-id-15 div.sk-item {position: relative;z-index: 1;}#sk-container-id-15 div.sk-parallel {display: flex;align-items: stretch;justify-content: center;background-color: white;position: relative;}#sk-container-id-15 div.sk-item::before, #sk-container-id-15 div.sk-parallel-item::before {content: \"\";position: absolute;border-left: 1px solid gray;box-sizing: border-box;top: 0;bottom: 0;left: 50%;z-index: -1;}#sk-container-id-15 div.sk-parallel-item {display: flex;flex-direction: column;z-index: 1;position: relative;background-color: white;}#sk-container-id-15 div.sk-parallel-item:first-child::after {align-self: flex-end;width: 50%;}#sk-container-id-15 div.sk-parallel-item:last-child::after {align-self: flex-start;width: 50%;}#sk-container-id-15 div.sk-parallel-item:only-child::after {width: 0;}#sk-container-id-15 div.sk-dashed-wrapped {border: 1px dashed gray;margin: 0 0.4em 0.5em 0.4em;box-sizing: border-box;padding-bottom: 0.4em;background-color: white;}#sk-container-id-15 div.sk-label label {font-family: monospace;font-weight: bold;display: inline-block;line-height: 1.2em;}#sk-container-id-15 div.sk-label-container {text-align: center;}#sk-container-id-15 div.sk-container {/* jupyter's `normalize.less` sets `[hidden] { display: none; }` but bootstrap.min.css set `[hidden] { display: none !important; }` so we also need the `!important` here to be able to override the default hidden behavior on the sphinx rendered scikit-learn.org. See: https://github.com/scikit-learn/scikit-learn/issues/21755 */display: inline-block !important;position: relative;}#sk-container-id-15 div.sk-text-repr-fallback {display: none;}</style><div id=\"sk-container-id-15\" class=\"sk-top-container\"><div class=\"sk-text-repr-fallback\"><pre>DecisionTreeClassifier(max_depth=3)</pre><b>In a Jupyter environment, please rerun this cell to show the HTML representation or trust the notebook. <br />On GitHub, the HTML representation is unable to render, please try loading this page with nbviewer.org.</b></div><div class=\"sk-container\" hidden><div class=\"sk-item\"><div class=\"sk-estimator sk-toggleable\"><input class=\"sk-toggleable__control sk-hidden--visually\" id=\"sk-estimator-id-15\" type=\"checkbox\" checked><label for=\"sk-estimator-id-15\" class=\"sk-toggleable__label sk-toggleable__label-arrow\">DecisionTreeClassifier</label><div class=\"sk-toggleable__content\"><pre>DecisionTreeClassifier(max_depth=3)</pre></div></div></div></div></div>"
      ],
      "text/plain": [
       "DecisionTreeClassifier(max_depth=3)"
      ]
     },
     "execution_count": 276,
     "metadata": {},
     "output_type": "execute_result"
    }
   ],
   "source": [
    "\n",
    "var.fit(x_train,y_train)"
   ]
  },
  {
   "cell_type": "code",
   "execution_count": 277,
   "id": "b143a151",
   "metadata": {},
   "outputs": [],
   "source": [
    "y_train_s=var.predict(x_train)"
   ]
  },
  {
   "cell_type": "code",
   "execution_count": 278,
   "id": "2703f825",
   "metadata": {},
   "outputs": [],
   "source": [
    "y_test_s=var.predict(x_test)"
   ]
  },
  {
   "cell_type": "code",
   "execution_count": 279,
   "id": "5b919e18",
   "metadata": {},
   "outputs": [
    {
     "data": {
      "text/plain": [
       "array([[2, 0, 0, ..., 0, 0, 0],\n",
       "       [0, 0, 0, ..., 0, 0, 0],\n",
       "       [0, 0, 0, ..., 0, 0, 0],\n",
       "       ...,\n",
       "       [0, 0, 0, ..., 0, 0, 0],\n",
       "       [0, 0, 0, ..., 0, 0, 0],\n",
       "       [0, 0, 0, ..., 0, 0, 0]], dtype=int64)"
      ]
     },
     "execution_count": 279,
     "metadata": {},
     "output_type": "execute_result"
    }
   ],
   "source": [
    "confusion_matrix(y_train,y_train_s)"
   ]
  },
  {
   "cell_type": "code",
   "execution_count": null,
   "id": "54834d94",
   "metadata": {},
   "outputs": [],
   "source": [
    "accuracy_score(y_test,regtree.predict(x_test))"
   ]
  },
  {
   "cell_type": "code",
   "execution_count": null,
   "id": "f51e176b",
   "metadata": {},
   "outputs": [],
   "source": [
    "from sklearn.metrics import mean_squared_error, r2_score"
   ]
  },
  {
   "cell_type": "code",
   "execution_count": null,
   "id": "f66ff6f2",
   "metadata": {},
   "outputs": [],
   "source": [
    "mean_squared_error(y_test,y_test_pred)"
   ]
  },
  {
   "cell_type": "code",
   "execution_count": null,
   "id": "a2bd5dc2",
   "metadata": {},
   "outputs": [],
   "source": [
    "r2_score(y_train,y_train_pred)"
   ]
  },
  {
   "cell_type": "code",
   "execution_count": null,
   "id": "85e7a5fa",
   "metadata": {},
   "outputs": [],
   "source": [
    "r2_score(y_test,y_test)"
   ]
  },
  {
   "cell_type": "code",
   "execution_count": null,
   "id": "d8333c29",
   "metadata": {},
   "outputs": [],
   "source": [
    "regtree=tree.DecisionTreeClassifier(max_depth=3)\n",
    "regtree.fit(x_train,y_train)\n",
    "dot_data=tree.export_graphviz(regtree,out_file=None,feature_names=x_train.columns,filled=True)\n",
    "graph =pydotplus.graph_from_dot_data(dot_data)\n",
    "Image(graph.create_png())"
   ]
  },
  {
   "cell_type": "code",
   "execution_count": null,
   "id": "8823c9c8",
   "metadata": {},
   "outputs": [],
   "source": [
    "regtree=tree.DecisionTreeClassifier(min_samples_split=3)\n",
    "regtree.fit(x_train,y_train)\n",
    "dot_data=tree.export_graphviz(regtree,out_file=None,feature_names=x_train.columns,filled=True)\n",
    "graph =pydotplus.graph_from_dot_data(dot_data)\n",
    "Image(graph.create_png())"
   ]
  },
  {
   "cell_type": "code",
   "execution_count": null,
   "id": "d64e4237",
   "metadata": {},
   "outputs": [],
   "source": [
    "regtree=tree.DecisionTreeClassifier(min_samples_leaf=3)\n",
    "regtree.fit(x_train,y_train)\n",
    "dot_data=tree.export_graphviz(regtree,out_file=None,feature_names=x_train.columns,filled=True)\n",
    "graph =pydotplus.graph_from_dot_data(dot_data)\n",
    "Image(graph.create_png())"
   ]
  },
  {
   "cell_type": "markdown",
   "id": "2fbce3bc",
   "metadata": {},
   "source": [
    "# RandomForestClassifier"
   ]
  },
  {
   "cell_type": "code",
   "execution_count": 281,
   "id": "3b6d40e8",
   "metadata": {},
   "outputs": [],
   "source": [
    "from sklearn.ensemble import RandomForestClassifier"
   ]
  },
  {
   "cell_type": "code",
   "execution_count": 282,
   "id": "dc620afa",
   "metadata": {},
   "outputs": [],
   "source": [
    "rf_clf=RandomForestClassifier(n_estimators=1000,n_jobs=-1,random_state=42)"
   ]
  },
  {
   "cell_type": "code",
   "execution_count": 283,
   "id": "725fbca5",
   "metadata": {},
   "outputs": [
    {
     "data": {
      "text/html": [
       "<style>#sk-container-id-16 {color: black;}#sk-container-id-16 pre{padding: 0;}#sk-container-id-16 div.sk-toggleable {background-color: white;}#sk-container-id-16 label.sk-toggleable__label {cursor: pointer;display: block;width: 100%;margin-bottom: 0;padding: 0.3em;box-sizing: border-box;text-align: center;}#sk-container-id-16 label.sk-toggleable__label-arrow:before {content: \"▸\";float: left;margin-right: 0.25em;color: #696969;}#sk-container-id-16 label.sk-toggleable__label-arrow:hover:before {color: black;}#sk-container-id-16 div.sk-estimator:hover label.sk-toggleable__label-arrow:before {color: black;}#sk-container-id-16 div.sk-toggleable__content {max-height: 0;max-width: 0;overflow: hidden;text-align: left;background-color: #f0f8ff;}#sk-container-id-16 div.sk-toggleable__content pre {margin: 0.2em;color: black;border-radius: 0.25em;background-color: #f0f8ff;}#sk-container-id-16 input.sk-toggleable__control:checked~div.sk-toggleable__content {max-height: 200px;max-width: 100%;overflow: auto;}#sk-container-id-16 input.sk-toggleable__control:checked~label.sk-toggleable__label-arrow:before {content: \"▾\";}#sk-container-id-16 div.sk-estimator input.sk-toggleable__control:checked~label.sk-toggleable__label {background-color: #d4ebff;}#sk-container-id-16 div.sk-label input.sk-toggleable__control:checked~label.sk-toggleable__label {background-color: #d4ebff;}#sk-container-id-16 input.sk-hidden--visually {border: 0;clip: rect(1px 1px 1px 1px);clip: rect(1px, 1px, 1px, 1px);height: 1px;margin: -1px;overflow: hidden;padding: 0;position: absolute;width: 1px;}#sk-container-id-16 div.sk-estimator {font-family: monospace;background-color: #f0f8ff;border: 1px dotted black;border-radius: 0.25em;box-sizing: border-box;margin-bottom: 0.5em;}#sk-container-id-16 div.sk-estimator:hover {background-color: #d4ebff;}#sk-container-id-16 div.sk-parallel-item::after {content: \"\";width: 100%;border-bottom: 1px solid gray;flex-grow: 1;}#sk-container-id-16 div.sk-label:hover label.sk-toggleable__label {background-color: #d4ebff;}#sk-container-id-16 div.sk-serial::before {content: \"\";position: absolute;border-left: 1px solid gray;box-sizing: border-box;top: 0;bottom: 0;left: 50%;z-index: 0;}#sk-container-id-16 div.sk-serial {display: flex;flex-direction: column;align-items: center;background-color: white;padding-right: 0.2em;padding-left: 0.2em;position: relative;}#sk-container-id-16 div.sk-item {position: relative;z-index: 1;}#sk-container-id-16 div.sk-parallel {display: flex;align-items: stretch;justify-content: center;background-color: white;position: relative;}#sk-container-id-16 div.sk-item::before, #sk-container-id-16 div.sk-parallel-item::before {content: \"\";position: absolute;border-left: 1px solid gray;box-sizing: border-box;top: 0;bottom: 0;left: 50%;z-index: -1;}#sk-container-id-16 div.sk-parallel-item {display: flex;flex-direction: column;z-index: 1;position: relative;background-color: white;}#sk-container-id-16 div.sk-parallel-item:first-child::after {align-self: flex-end;width: 50%;}#sk-container-id-16 div.sk-parallel-item:last-child::after {align-self: flex-start;width: 50%;}#sk-container-id-16 div.sk-parallel-item:only-child::after {width: 0;}#sk-container-id-16 div.sk-dashed-wrapped {border: 1px dashed gray;margin: 0 0.4em 0.5em 0.4em;box-sizing: border-box;padding-bottom: 0.4em;background-color: white;}#sk-container-id-16 div.sk-label label {font-family: monospace;font-weight: bold;display: inline-block;line-height: 1.2em;}#sk-container-id-16 div.sk-label-container {text-align: center;}#sk-container-id-16 div.sk-container {/* jupyter's `normalize.less` sets `[hidden] { display: none; }` but bootstrap.min.css set `[hidden] { display: none !important; }` so we also need the `!important` here to be able to override the default hidden behavior on the sphinx rendered scikit-learn.org. See: https://github.com/scikit-learn/scikit-learn/issues/21755 */display: inline-block !important;position: relative;}#sk-container-id-16 div.sk-text-repr-fallback {display: none;}</style><div id=\"sk-container-id-16\" class=\"sk-top-container\"><div class=\"sk-text-repr-fallback\"><pre>RandomForestClassifier(n_estimators=1000, n_jobs=-1, random_state=42)</pre><b>In a Jupyter environment, please rerun this cell to show the HTML representation or trust the notebook. <br />On GitHub, the HTML representation is unable to render, please try loading this page with nbviewer.org.</b></div><div class=\"sk-container\" hidden><div class=\"sk-item\"><div class=\"sk-estimator sk-toggleable\"><input class=\"sk-toggleable__control sk-hidden--visually\" id=\"sk-estimator-id-16\" type=\"checkbox\" checked><label for=\"sk-estimator-id-16\" class=\"sk-toggleable__label sk-toggleable__label-arrow\">RandomForestClassifier</label><div class=\"sk-toggleable__content\"><pre>RandomForestClassifier(n_estimators=1000, n_jobs=-1, random_state=42)</pre></div></div></div></div></div>"
      ],
      "text/plain": [
       "RandomForestClassifier(n_estimators=1000, n_jobs=-1, random_state=42)"
      ]
     },
     "execution_count": 283,
     "metadata": {},
     "output_type": "execute_result"
    }
   ],
   "source": [
    "rf_clf.fit(x_train,y_train)"
   ]
  },
  {
   "cell_type": "code",
   "execution_count": 284,
   "id": "8ad69dfd",
   "metadata": {},
   "outputs": [
    {
     "data": {
      "text/plain": [
       "array([[0, 0, 0, ..., 0, 0, 0],\n",
       "       [0, 0, 0, ..., 0, 0, 0],\n",
       "       [0, 0, 0, ..., 0, 0, 0],\n",
       "       ...,\n",
       "       [0, 0, 0, ..., 0, 0, 0],\n",
       "       [0, 0, 0, ..., 0, 0, 0],\n",
       "       [0, 0, 0, ..., 0, 0, 0]], dtype=int64)"
      ]
     },
     "execution_count": 284,
     "metadata": {},
     "output_type": "execute_result"
    }
   ],
   "source": [
    "confusion_matrix(y_test,rf_clf.predict(x_test))"
   ]
  },
  {
   "cell_type": "code",
   "execution_count": 285,
   "id": "f3b910c0",
   "metadata": {},
   "outputs": [
    {
     "data": {
      "text/plain": [
       "0.0660377358490566"
      ]
     },
     "execution_count": 285,
     "metadata": {},
     "output_type": "execute_result"
    }
   ],
   "source": [
    "accuracy_score(y_test,rf_clf.predict(x_test))"
   ]
  },
  {
   "cell_type": "markdown",
   "id": "aa2b1649",
   "metadata": {},
   "source": [
    "# Grid search"
   ]
  },
  {
   "cell_type": "code",
   "execution_count": 305,
   "id": "7eb2d344",
   "metadata": {},
   "outputs": [],
   "source": [
    "from sklearn.model_selection import GridSearchCV"
   ]
  },
  {
   "cell_type": "code",
   "execution_count": 306,
   "id": "2e075c13",
   "metadata": {},
   "outputs": [],
   "source": [
    "rf=RandomForestClassifier(n_estimators=250,random_state=42)"
   ]
  },
  {
   "cell_type": "code",
   "execution_count": 307,
   "id": "af1108f5",
   "metadata": {},
   "outputs": [],
   "source": [
    "params_grid={\"max_features\":[4,5,6,7,8,9],\"min_samples_split\":[2,3,10]}"
   ]
  },
  {
   "cell_type": "code",
   "execution_count": null,
   "id": "944527d1",
   "metadata": {},
   "outputs": [],
   "source": [
    "grid_search.fit(x_train,y_train)"
   ]
  },
  {
   "cell_type": "code",
   "execution_count": 295,
   "id": "44e308dd",
   "metadata": {},
   "outputs": [
    {
     "data": {
      "text/plain": [
       "{'max_features': 9, 'min_samples_split': 10}"
      ]
     },
     "execution_count": 295,
     "metadata": {},
     "output_type": "execute_result"
    }
   ],
   "source": [
    "grid_search.best_params_"
   ]
  },
  {
   "cell_type": "code",
   "execution_count": null,
   "id": "827063d8",
   "metadata": {},
   "outputs": [],
   "source": [
    "nk=grid_search.best_estimator_"
   ]
  },
  {
   "cell_type": "code",
   "execution_count": null,
   "id": "01392295",
   "metadata": {},
   "outputs": [],
   "source": [
    "accuracy_score(y_test,nk.predict(x_test))"
   ]
  },
  {
   "cell_type": "code",
   "execution_count": null,
   "id": "43827cd8",
   "metadata": {},
   "outputs": [],
   "source": [
    "confusion_matrix(y_test,nk.predict(x_test))"
   ]
  },
  {
   "cell_type": "code",
   "execution_count": null,
   "id": "9cd82132",
   "metadata": {},
   "outputs": [],
   "source": []
  },
  {
   "cell_type": "markdown",
   "id": "54d122be",
   "metadata": {},
   "source": [
    "# Gradient boosting"
   ]
  },
  {
   "cell_type": "code",
   "execution_count": null,
   "id": "3323c98e",
   "metadata": {},
   "outputs": [],
   "source": [
    "from sklearn.ensemble import GradientBoostingClassifier"
   ]
  },
  {
   "cell_type": "code",
   "execution_count": null,
   "id": "cec072bf",
   "metadata": {},
   "outputs": [],
   "source": [
    "gbc=GradientBoostingClassifier()\n",
    "gbc.fit(x_train,y_train)"
   ]
  },
  {
   "cell_type": "code",
   "execution_count": null,
   "id": "0b212897",
   "metadata": {},
   "outputs": [],
   "source": [
    "accuracy_score(y_train,gbc.predict(x_train))"
   ]
  },
  {
   "cell_type": "code",
   "execution_count": null,
   "id": "d8c27b9b",
   "metadata": {},
   "outputs": [],
   "source": [
    "accuracy_score(y_test,gbc.predict(x_test))\n"
   ]
  },
  {
   "cell_type": "code",
   "execution_count": null,
   "id": "610f085d",
   "metadata": {},
   "outputs": [],
   "source": [
    "gbc1=GradientBoostingClassifier(learning_rate=0.02,n_estimators=1000,max_depth=1)"
   ]
  },
  {
   "cell_type": "code",
   "execution_count": null,
   "id": "04a6cf44",
   "metadata": {},
   "outputs": [],
   "source": [
    "gbc1.fit(x_train,y_train)\n",
    "accuracy_score(y_train,gbc1.predict(x_train))"
   ]
  },
  {
   "cell_type": "code",
   "execution_count": null,
   "id": "84b9f618",
   "metadata": {},
   "outputs": [],
   "source": [
    "accuracy_score(y_test,gbc1.predict(x_test))\n"
   ]
  },
  {
   "cell_type": "markdown",
   "id": "94cc2737",
   "metadata": {},
   "source": [
    "\n",
    "# XGB"
   ]
  },
  {
   "cell_type": "code",
   "execution_count": 359,
   "id": "c8b36e3a",
   "metadata": {},
   "outputs": [],
   "source": [
    "import xgboost as xgb"
   ]
  },
  {
   "cell_type": "code",
   "execution_count": 360,
   "id": "96b11360",
   "metadata": {},
   "outputs": [],
   "source": [
    "mk=xgb.XGBClassifier(max_depth=3,n_estimators=1000,learning_rate=0.3,n_jobs=-1)"
   ]
  },
  {
   "cell_type": "code",
   "execution_count": null,
   "id": "25e62fc8",
   "metadata": {},
   "outputs": [],
   "source": [
    "mk.fit(x_train,y_train)"
   ]
  },
  {
   "cell_type": "code",
   "execution_count": null,
   "id": "403602ca",
   "metadata": {},
   "outputs": [],
   "source": [
    "accuracy_score(y_test,mk.predict(x_test))\n"
   ]
  },
  {
   "cell_type": "code",
   "execution_count": null,
   "id": "f5113951",
   "metadata": {},
   "outputs": [],
   "source": [
    "xgb.plot_importance(mk)"
   ]
  },
  {
   "cell_type": "code",
   "execution_count": null,
   "id": "89881337",
   "metadata": {},
   "outputs": [],
   "source": []
  },
  {
   "cell_type": "code",
   "execution_count": null,
   "id": "8c3d64c6",
   "metadata": {},
   "outputs": [],
   "source": []
  },
  {
   "cell_type": "code",
   "execution_count": null,
   "id": "f5b54b5d",
   "metadata": {},
   "outputs": [],
   "source": []
  },
  {
   "cell_type": "code",
   "execution_count": null,
   "id": "dacadd6e",
   "metadata": {},
   "outputs": [],
   "source": []
  },
  {
   "cell_type": "code",
   "execution_count": null,
   "id": "ec9a965c",
   "metadata": {},
   "outputs": [],
   "source": []
  },
  {
   "cell_type": "code",
   "execution_count": null,
   "id": "fce62e86",
   "metadata": {},
   "outputs": [],
   "source": []
  },
  {
   "cell_type": "code",
   "execution_count": null,
   "id": "49709cac",
   "metadata": {},
   "outputs": [],
   "source": []
  },
  {
   "cell_type": "code",
   "execution_count": null,
   "id": "8dc0e311",
   "metadata": {},
   "outputs": [],
   "source": []
  },
  {
   "cell_type": "code",
   "execution_count": null,
   "id": "81bafe12",
   "metadata": {},
   "outputs": [],
   "source": []
  },
  {
   "cell_type": "code",
   "execution_count": null,
   "id": "b01b23a2",
   "metadata": {},
   "outputs": [],
   "source": []
  },
  {
   "cell_type": "code",
   "execution_count": null,
   "id": "0debbf36",
   "metadata": {},
   "outputs": [],
   "source": []
  },
  {
   "cell_type": "code",
   "execution_count": null,
   "id": "f6618c02",
   "metadata": {},
   "outputs": [],
   "source": []
  },
  {
   "cell_type": "code",
   "execution_count": null,
   "id": "e4ba53cf",
   "metadata": {},
   "outputs": [],
   "source": []
  },
  {
   "cell_type": "code",
   "execution_count": null,
   "id": "45ea82ce",
   "metadata": {},
   "outputs": [],
   "source": []
  },
  {
   "cell_type": "code",
   "execution_count": null,
   "id": "019b0825",
   "metadata": {},
   "outputs": [],
   "source": []
  },
  {
   "cell_type": "code",
   "execution_count": null,
   "id": "4cde689c",
   "metadata": {},
   "outputs": [],
   "source": []
  }
 ],
 "metadata": {
  "kernelspec": {
   "display_name": "Python 3 (ipykernel)",
   "language": "python",
   "name": "python3"
  },
  "language_info": {
   "codemirror_mode": {
    "name": "ipython",
    "version": 3
   },
   "file_extension": ".py",
   "mimetype": "text/x-python",
   "name": "python",
   "nbconvert_exporter": "python",
   "pygments_lexer": "ipython3",
   "version": "3.11.5"
  }
 },
 "nbformat": 4,
 "nbformat_minor": 5
}
